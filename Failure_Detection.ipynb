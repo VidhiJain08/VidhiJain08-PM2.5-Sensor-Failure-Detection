{
  "cells": [
    {
      "cell_type": "code",
      "execution_count": null,
      "metadata": {
        "id": "051irfuLOS3R"
      },
      "outputs": [],
      "source": [
        "import pandas as pd\n",
        "import numpy as np\n",
        "import matplotlib.pyplot as plt\n",
        "from keras.utils import Sequence\n",
        "from sklearn.model_selection import train_test_split"
      ]
    },
    {
      "cell_type": "code",
      "execution_count": null,
      "metadata": {
        "colab": {
          "base_uri": "https://localhost:8080/"
        },
        "id": "or4IETZoCohN",
        "outputId": "59a6dcac-4aff-4dd8-f0cf-9fa3107026c9"
      },
      "outputs": [
        {
          "output_type": "stream",
          "name": "stdout",
          "text": [
            "Mounted at /content/drive\n"
          ]
        }
      ],
      "source": [
        "from google.colab import drive\n",
        "drive.mount('/content/drive')"
      ]
    },
    {
      "cell_type": "code",
      "execution_count": null,
      "metadata": {
        "id": "CFz4G91Lj7aL"
      },
      "outputs": [],
      "source": [
        "# X_train = np.load('/content/drive/MyDrive/x_train.npy')\n",
        "# X_val = np.load('/content/drive/MyDrive/x_val.npy')\n",
        "# y_train = np.load('/content/drive/MyDrive/y_train.npy')\n",
        "# y_val = np.load('/content/drive/MyDrive/y_val.npy')"
      ]
    },
    {
      "cell_type": "code",
      "execution_count": null,
      "metadata": {
        "id": "PSeAfcd7kagu"
      },
      "outputs": [],
      "source": [
        "# print(type(X_train))\n",
        "# print(type(X_val))\n",
        "# print(type(y_train))\n",
        "# print(type(y_val))"
      ]
    },
    {
      "cell_type": "markdown",
      "metadata": {
        "id": "lwqfsG8UZSvy"
      },
      "source": []
    },
    {
      "cell_type": "markdown",
      "metadata": {
        "id": "biYQrbKH3YTa"
      },
      "source": [
        "## Data 2"
      ]
    },
    {
      "cell_type": "code",
      "execution_count": null,
      "metadata": {
        "colab": {
          "base_uri": "https://localhost:8080/"
        },
        "id": "0GvgHs2j3f8s",
        "outputId": "4b98019a-0d7d-49f6-f908-aab478e6de31"
      },
      "outputs": [
        {
          "output_type": "stream",
          "name": "stderr",
          "text": [
            "<ipython-input-9-82ac54a418c9>:1: DtypeWarning: Columns (1,2,3,4,5,6,7,8,9,10,11,12,13,14,15,16,17,18,19,20,21,22,23,24,25,26,27,28,29,30,31,32,33,34,35,36,37,38,39,40,41,42,43,44,45,46,47,48,49,50,51,52,53,54,55,56,57,58,59,60,61,62,63,64,65,66,67,68,69,70,71,72,73,74,75,76,77,78,79,80,81,82,83,84,85,86,87,88,89,90,91,92,93,94,95,96,97,98,99,100,101,102,103,104,105,106,107,108,109,110,111,112,113,114,115,116,117,118,119,120,121,122,123,124,125,126,127,128,129,130,131,132,133,134,135,136,137,138,139,140,141,142,143,144,145,146,147,148,149,150,151,152,153,154,155,156,157,158,159,160,161,162,163,164,165,166,167,168,169,170,171,172,173,174,175,176,177,178,179,180) have mixed types. Specify dtype option on import or set low_memory=False.\n",
            "  df = pd.read_csv('/content/drive/MyDrive/Fault_Detection Data/Respirer_data/Fault_detection_Data.csv')\n"
          ]
        }
      ],
      "source": [
        "df = pd.read_csv('/content/drive/MyDrive/Fault_Detection Data/data2/Fault_detection_Data.csv')"
      ]
    },
    {
      "cell_type": "code",
      "execution_count": null,
      "metadata": {
        "colab": {
          "base_uri": "https://localhost:8080/",
          "height": 1000
        },
        "id": "NX6aNptS3gAj",
        "outputId": "997384bc-b942-4395-acaa-05c2510129d3"
      },
      "outputs": [
        {
          "output_type": "execute_result",
          "data": {
            "text/plain": [
              "             Unnamed: 0                  11                  21  \\\n",
              "0              Deviceid   PM25_2CF4320E7588   PM25_500291FFF951   \n",
              "1              District               ARWAL          AURANGABAD   \n",
              "2                 Block               KARPI            MADANPUR   \n",
              "3              latitude              25.168              24.655   \n",
              "4             longitude              84.735              84.588   \n",
              "5             Devicemfg               atmos               atmos   \n",
              "6                Remark                NILL                NILL   \n",
              "7   2023-05-01 00:00:00                53.6  46.516666666666666   \n",
              "8   2023-05-01 01:00:00   53.83846153846154                46.9   \n",
              "9   2023-05-01 02:00:00   53.36666666666667   46.42051282051282   \n",
              "10  2023-05-01 03:00:00  50.266666666666666  42.833333333333336   \n",
              "11  2023-05-01 04:00:00   50.62307692307692   44.67692307692308   \n",
              "12  2023-05-01 05:00:00   46.43333333333334   39.81666666666666   \n",
              "13  2023-05-01 06:00:00   56.43333333333333               48.45   \n",
              "14  2023-05-01 07:00:00  49.480769230769226   42.75128205128205   \n",
              "15  2023-05-01 08:00:00               31.65  27.883333333333336   \n",
              "16  2023-05-01 09:00:00   31.44166666666667  29.584615384615383   \n",
              "17  2023-05-01 10:00:00                31.1  31.583333333333336   \n",
              "18  2023-05-01 11:00:00  34.766666666666666               33.55   \n",
              "19  2023-05-01 12:00:00  30.553846153846155   31.21538461538461   \n",
              "20  2023-05-01 13:00:00   28.98333333333333  21.366666666666664   \n",
              "21  2023-05-01 14:00:00                11.9   9.792307692307697   \n",
              "22  2023-05-01 15:00:00  11.862820512820512   9.883333333333336   \n",
              "23  2023-05-01 16:00:00               10.75                 9.3   \n",
              "24  2023-05-01 17:00:00  10.633333333333336   9.233333333333333   \n",
              "\n",
              "                    32                 45                  48  \\\n",
              "0    PM25_68C63AD3E695  PM25_2CF4328C5CEA   PM25_4C7525091C74   \n",
              "1                BANKA          BEGUSARAI           BEGUSARAI   \n",
              "2              KATORIA          BACHHWARA               BALIA   \n",
              "3               24.743        25.57364082              25.422   \n",
              "4               86.728        85.89718628              86.309   \n",
              "5                atmos              atmos               atmos   \n",
              "6                 NILL               NILL                NILL   \n",
              "7    40.24047619047619                NaN                 NaN   \n",
              "8    41.27559523809524                NaN                 NaN   \n",
              "9    39.88333333333333                NaN                 NaN   \n",
              "10                37.8                NaN                 NaN   \n",
              "11   37.40595238095238                NaN                 NaN   \n",
              "12  34.545833333333334                NaN                 NaN   \n",
              "13               40.65                NaN                 NaN   \n",
              "14   39.20238095238095                NaN                39.0   \n",
              "15   24.79047619047619                NaN                 NaN   \n",
              "16   24.95641025641026                NaN  27.816666666666663   \n",
              "17   25.73333333333333                NaN   28.53333333333333   \n",
              "18  28.217857142857135                NaN   29.81309523809524   \n",
              "19  23.378571428571423                NaN  27.554029304029307   \n",
              "20  21.264652014652015                NaN  19.416666666666664   \n",
              "21   9.083333333333334                NaN   9.128571428571428   \n",
              "22   8.610714285714286                NaN   9.482142857142858   \n",
              "23    7.90989010989011                NaN   9.059432234432236   \n",
              "24   7.850000000000001                NaN                 9.0   \n",
              "\n",
              "                    51                 75                  80  \\\n",
              "0    PM25_5002914AAF8A  PM25_4C752509213C   PM25_8CAAB57998BA   \n",
              "1            BEGUSARAI            BHOJPUR             BHOJPUR   \n",
              "2         KHODAWANDPUR            KOILWAR             SANDESH   \n",
              "3               25.671             25.579              25.408   \n",
              "4               86.031             84.791               84.74   \n",
              "5                atmos              atmos               atmos   \n",
              "6                 NILL               NILL                NILL   \n",
              "7                49.15                NaN  12.683333333333334   \n",
              "8   49.746153846153845                NaN                 9.9   \n",
              "9    48.91666666666666                NaN   8.323809523809524   \n",
              "10               44.95                NaN   7.348901098901098   \n",
              "11  46.766666666666666                NaN   6.266666666666667   \n",
              "12   42.16666666666667                NaN                 8.6   \n",
              "13   50.88461538461539                NaN  12.975641025641025   \n",
              "14   46.78333333333333                NaN               18.95   \n",
              "15  30.426923076923075                NaN   21.53333333333333   \n",
              "16   32.31666666666667                NaN  23.351282051282052   \n",
              "17               34.75                NaN               20.05   \n",
              "18  36.746153846153845                NaN  11.166666666666666   \n",
              "19   35.06666666666667                NaN                 9.1   \n",
              "20  24.633333333333333                NaN   6.716666666666667   \n",
              "21  10.937500000000002                NaN   6.533333333333333   \n",
              "22  11.283333333333331                NaN   7.214102564102564   \n",
              "23   10.57307692307692                NaN   9.166666666666666   \n",
              "24  10.233333333333333                NaN   9.566666666666666   \n",
              "\n",
              "                   87  ...             1563             1564             1565  \\\n",
              "0   PM25_2CF4328C5A07  ...  RH_84CCA8B2F2AA  RH_8CCE4ECB7102  RH_98F4ABC07412   \n",
              "1               BUXAR  ...            SIWAN            SIWAN            SIWAN   \n",
              "2               SIMRI  ...      HUSSAINGANJ            ANDAR       GORIAKOTHI   \n",
              "3              25.638  ...           26.144           26.101           26.264   \n",
              "4              84.114  ...           84.324           84.291           84.606   \n",
              "5               atmos  ...            atmos            atmos            atmos   \n",
              "6                NILL  ...             NILL             NILL             NILL   \n",
              "7                 NaN  ...              NaN              NaN              NaN   \n",
              "8                 NaN  ...              NaN              NaN              NaN   \n",
              "9                 NaN  ...              NaN              NaN              NaN   \n",
              "10                NaN  ...              NaN              NaN              NaN   \n",
              "11                NaN  ...              NaN              NaN              NaN   \n",
              "12                NaN  ...              NaN              NaN              NaN   \n",
              "13                NaN  ...              NaN              NaN              NaN   \n",
              "14                NaN  ...              NaN              NaN              NaN   \n",
              "15                NaN  ...              NaN              NaN              NaN   \n",
              "16                NaN  ...              NaN              NaN              NaN   \n",
              "17                NaN  ...              NaN              NaN              NaN   \n",
              "18                NaN  ...              NaN              NaN              NaN   \n",
              "19                NaN  ...              NaN              NaN              NaN   \n",
              "20                NaN  ...              NaN              NaN              NaN   \n",
              "21                NaN  ...              NaN              NaN              NaN   \n",
              "22                NaN  ...              NaN              NaN              NaN   \n",
              "23                NaN  ...              NaN              NaN              NaN   \n",
              "24                NaN  ...              NaN              NaN              NaN   \n",
              "\n",
              "               1567             1568             1590             1605  \\\n",
              "0   RH_F4CFA2CEC397  RH_F4CFA2D380D3  RH_68C63AF3AA6F  RH_3083988F9126   \n",
              "1             SIWAN            SIWAN         VAISHALI       WCHAMPARAN   \n",
              "2            MAIRWA        DARAUNDHA           MAHNAR         BAGAHA-I   \n",
              "3            26.236           26.084           25.621      27.10918045   \n",
              "4            84.153           84.459           85.489      84.07659912   \n",
              "5             atmos            atmos            atmos            atmos   \n",
              "6              NILL             NILL             NILL             NILL   \n",
              "7               NaN              NaN              NaN              NaN   \n",
              "8               NaN              NaN              NaN              NaN   \n",
              "9               NaN              NaN              NaN              NaN   \n",
              "10              NaN              NaN              NaN              NaN   \n",
              "11              NaN              NaN              NaN              NaN   \n",
              "12              NaN              NaN              NaN              NaN   \n",
              "13              NaN              NaN              NaN              NaN   \n",
              "14              NaN              NaN              NaN              NaN   \n",
              "15              NaN              NaN              NaN              NaN   \n",
              "16              NaN              NaN              NaN              NaN   \n",
              "17              NaN              NaN              NaN              NaN   \n",
              "18              NaN              NaN              NaN              NaN   \n",
              "19              NaN              NaN              NaN              NaN   \n",
              "20              NaN              NaN              NaN              NaN   \n",
              "21              NaN              NaN              NaN              NaN   \n",
              "22              NaN              NaN              NaN              NaN   \n",
              "23              NaN              NaN              NaN              NaN   \n",
              "24              NaN              NaN              NaN              NaN   \n",
              "\n",
              "               1606             1608             1611  \n",
              "0   RH_500291C0F7D2  RH_8CAAB50AD70C  RH_BCDDC247BFE3  \n",
              "1        WCHAMPARAN       WCHAMPARAN       WCHAMPARAN  \n",
              "2         CHANPATIA         NAUTAN.W          BHITAHA  \n",
              "3       26.94421271      26.71220016      26.89336014  \n",
              "4            84.537      84.48045349      84.13741302  \n",
              "5             atmos            atmos            atmos  \n",
              "6              NILL             NILL             NILL  \n",
              "7               NaN              NaN              NaN  \n",
              "8               NaN              NaN              NaN  \n",
              "9               NaN              NaN              NaN  \n",
              "10              NaN              NaN              NaN  \n",
              "11              NaN              NaN              NaN  \n",
              "12              NaN              NaN              NaN  \n",
              "13              NaN              NaN              NaN  \n",
              "14              NaN              NaN              NaN  \n",
              "15              NaN              NaN              NaN  \n",
              "16              NaN              NaN              NaN  \n",
              "17              NaN              NaN              NaN  \n",
              "18              NaN              NaN              NaN  \n",
              "19              NaN              NaN              NaN  \n",
              "20              NaN              NaN              NaN  \n",
              "21              NaN              NaN              NaN  \n",
              "22              NaN              NaN              NaN  \n",
              "23              NaN              NaN              NaN  \n",
              "24              NaN              NaN              NaN  \n",
              "\n",
              "[25 rows x 181 columns]"
            ],
            "text/html": [
              "\n",
              "  <div id=\"df-55dd5516-dc56-46fb-9078-4001ba1b1ffa\" class=\"colab-df-container\">\n",
              "    <div>\n",
              "<style scoped>\n",
              "    .dataframe tbody tr th:only-of-type {\n",
              "        vertical-align: middle;\n",
              "    }\n",
              "\n",
              "    .dataframe tbody tr th {\n",
              "        vertical-align: top;\n",
              "    }\n",
              "\n",
              "    .dataframe thead th {\n",
              "        text-align: right;\n",
              "    }\n",
              "</style>\n",
              "<table border=\"1\" class=\"dataframe\">\n",
              "  <thead>\n",
              "    <tr style=\"text-align: right;\">\n",
              "      <th></th>\n",
              "      <th>Unnamed: 0</th>\n",
              "      <th>11</th>\n",
              "      <th>21</th>\n",
              "      <th>32</th>\n",
              "      <th>45</th>\n",
              "      <th>48</th>\n",
              "      <th>51</th>\n",
              "      <th>75</th>\n",
              "      <th>80</th>\n",
              "      <th>87</th>\n",
              "      <th>...</th>\n",
              "      <th>1563</th>\n",
              "      <th>1564</th>\n",
              "      <th>1565</th>\n",
              "      <th>1567</th>\n",
              "      <th>1568</th>\n",
              "      <th>1590</th>\n",
              "      <th>1605</th>\n",
              "      <th>1606</th>\n",
              "      <th>1608</th>\n",
              "      <th>1611</th>\n",
              "    </tr>\n",
              "  </thead>\n",
              "  <tbody>\n",
              "    <tr>\n",
              "      <th>0</th>\n",
              "      <td>Deviceid</td>\n",
              "      <td>PM25_2CF4320E7588</td>\n",
              "      <td>PM25_500291FFF951</td>\n",
              "      <td>PM25_68C63AD3E695</td>\n",
              "      <td>PM25_2CF4328C5CEA</td>\n",
              "      <td>PM25_4C7525091C74</td>\n",
              "      <td>PM25_5002914AAF8A</td>\n",
              "      <td>PM25_4C752509213C</td>\n",
              "      <td>PM25_8CAAB57998BA</td>\n",
              "      <td>PM25_2CF4328C5A07</td>\n",
              "      <td>...</td>\n",
              "      <td>RH_84CCA8B2F2AA</td>\n",
              "      <td>RH_8CCE4ECB7102</td>\n",
              "      <td>RH_98F4ABC07412</td>\n",
              "      <td>RH_F4CFA2CEC397</td>\n",
              "      <td>RH_F4CFA2D380D3</td>\n",
              "      <td>RH_68C63AF3AA6F</td>\n",
              "      <td>RH_3083988F9126</td>\n",
              "      <td>RH_500291C0F7D2</td>\n",
              "      <td>RH_8CAAB50AD70C</td>\n",
              "      <td>RH_BCDDC247BFE3</td>\n",
              "    </tr>\n",
              "    <tr>\n",
              "      <th>1</th>\n",
              "      <td>District</td>\n",
              "      <td>ARWAL</td>\n",
              "      <td>AURANGABAD</td>\n",
              "      <td>BANKA</td>\n",
              "      <td>BEGUSARAI</td>\n",
              "      <td>BEGUSARAI</td>\n",
              "      <td>BEGUSARAI</td>\n",
              "      <td>BHOJPUR</td>\n",
              "      <td>BHOJPUR</td>\n",
              "      <td>BUXAR</td>\n",
              "      <td>...</td>\n",
              "      <td>SIWAN</td>\n",
              "      <td>SIWAN</td>\n",
              "      <td>SIWAN</td>\n",
              "      <td>SIWAN</td>\n",
              "      <td>SIWAN</td>\n",
              "      <td>VAISHALI</td>\n",
              "      <td>WCHAMPARAN</td>\n",
              "      <td>WCHAMPARAN</td>\n",
              "      <td>WCHAMPARAN</td>\n",
              "      <td>WCHAMPARAN</td>\n",
              "    </tr>\n",
              "    <tr>\n",
              "      <th>2</th>\n",
              "      <td>Block</td>\n",
              "      <td>KARPI</td>\n",
              "      <td>MADANPUR</td>\n",
              "      <td>KATORIA</td>\n",
              "      <td>BACHHWARA</td>\n",
              "      <td>BALIA</td>\n",
              "      <td>KHODAWANDPUR</td>\n",
              "      <td>KOILWAR</td>\n",
              "      <td>SANDESH</td>\n",
              "      <td>SIMRI</td>\n",
              "      <td>...</td>\n",
              "      <td>HUSSAINGANJ</td>\n",
              "      <td>ANDAR</td>\n",
              "      <td>GORIAKOTHI</td>\n",
              "      <td>MAIRWA</td>\n",
              "      <td>DARAUNDHA</td>\n",
              "      <td>MAHNAR</td>\n",
              "      <td>BAGAHA-I</td>\n",
              "      <td>CHANPATIA</td>\n",
              "      <td>NAUTAN.W</td>\n",
              "      <td>BHITAHA</td>\n",
              "    </tr>\n",
              "    <tr>\n",
              "      <th>3</th>\n",
              "      <td>latitude</td>\n",
              "      <td>25.168</td>\n",
              "      <td>24.655</td>\n",
              "      <td>24.743</td>\n",
              "      <td>25.57364082</td>\n",
              "      <td>25.422</td>\n",
              "      <td>25.671</td>\n",
              "      <td>25.579</td>\n",
              "      <td>25.408</td>\n",
              "      <td>25.638</td>\n",
              "      <td>...</td>\n",
              "      <td>26.144</td>\n",
              "      <td>26.101</td>\n",
              "      <td>26.264</td>\n",
              "      <td>26.236</td>\n",
              "      <td>26.084</td>\n",
              "      <td>25.621</td>\n",
              "      <td>27.10918045</td>\n",
              "      <td>26.94421271</td>\n",
              "      <td>26.71220016</td>\n",
              "      <td>26.89336014</td>\n",
              "    </tr>\n",
              "    <tr>\n",
              "      <th>4</th>\n",
              "      <td>longitude</td>\n",
              "      <td>84.735</td>\n",
              "      <td>84.588</td>\n",
              "      <td>86.728</td>\n",
              "      <td>85.89718628</td>\n",
              "      <td>86.309</td>\n",
              "      <td>86.031</td>\n",
              "      <td>84.791</td>\n",
              "      <td>84.74</td>\n",
              "      <td>84.114</td>\n",
              "      <td>...</td>\n",
              "      <td>84.324</td>\n",
              "      <td>84.291</td>\n",
              "      <td>84.606</td>\n",
              "      <td>84.153</td>\n",
              "      <td>84.459</td>\n",
              "      <td>85.489</td>\n",
              "      <td>84.07659912</td>\n",
              "      <td>84.537</td>\n",
              "      <td>84.48045349</td>\n",
              "      <td>84.13741302</td>\n",
              "    </tr>\n",
              "    <tr>\n",
              "      <th>5</th>\n",
              "      <td>Devicemfg</td>\n",
              "      <td>atmos</td>\n",
              "      <td>atmos</td>\n",
              "      <td>atmos</td>\n",
              "      <td>atmos</td>\n",
              "      <td>atmos</td>\n",
              "      <td>atmos</td>\n",
              "      <td>atmos</td>\n",
              "      <td>atmos</td>\n",
              "      <td>atmos</td>\n",
              "      <td>...</td>\n",
              "      <td>atmos</td>\n",
              "      <td>atmos</td>\n",
              "      <td>atmos</td>\n",
              "      <td>atmos</td>\n",
              "      <td>atmos</td>\n",
              "      <td>atmos</td>\n",
              "      <td>atmos</td>\n",
              "      <td>atmos</td>\n",
              "      <td>atmos</td>\n",
              "      <td>atmos</td>\n",
              "    </tr>\n",
              "    <tr>\n",
              "      <th>6</th>\n",
              "      <td>Remark</td>\n",
              "      <td>NILL</td>\n",
              "      <td>NILL</td>\n",
              "      <td>NILL</td>\n",
              "      <td>NILL</td>\n",
              "      <td>NILL</td>\n",
              "      <td>NILL</td>\n",
              "      <td>NILL</td>\n",
              "      <td>NILL</td>\n",
              "      <td>NILL</td>\n",
              "      <td>...</td>\n",
              "      <td>NILL</td>\n",
              "      <td>NILL</td>\n",
              "      <td>NILL</td>\n",
              "      <td>NILL</td>\n",
              "      <td>NILL</td>\n",
              "      <td>NILL</td>\n",
              "      <td>NILL</td>\n",
              "      <td>NILL</td>\n",
              "      <td>NILL</td>\n",
              "      <td>NILL</td>\n",
              "    </tr>\n",
              "    <tr>\n",
              "      <th>7</th>\n",
              "      <td>2023-05-01 00:00:00</td>\n",
              "      <td>53.6</td>\n",
              "      <td>46.516666666666666</td>\n",
              "      <td>40.24047619047619</td>\n",
              "      <td>NaN</td>\n",
              "      <td>NaN</td>\n",
              "      <td>49.15</td>\n",
              "      <td>NaN</td>\n",
              "      <td>12.683333333333334</td>\n",
              "      <td>NaN</td>\n",
              "      <td>...</td>\n",
              "      <td>NaN</td>\n",
              "      <td>NaN</td>\n",
              "      <td>NaN</td>\n",
              "      <td>NaN</td>\n",
              "      <td>NaN</td>\n",
              "      <td>NaN</td>\n",
              "      <td>NaN</td>\n",
              "      <td>NaN</td>\n",
              "      <td>NaN</td>\n",
              "      <td>NaN</td>\n",
              "    </tr>\n",
              "    <tr>\n",
              "      <th>8</th>\n",
              "      <td>2023-05-01 01:00:00</td>\n",
              "      <td>53.83846153846154</td>\n",
              "      <td>46.9</td>\n",
              "      <td>41.27559523809524</td>\n",
              "      <td>NaN</td>\n",
              "      <td>NaN</td>\n",
              "      <td>49.746153846153845</td>\n",
              "      <td>NaN</td>\n",
              "      <td>9.9</td>\n",
              "      <td>NaN</td>\n",
              "      <td>...</td>\n",
              "      <td>NaN</td>\n",
              "      <td>NaN</td>\n",
              "      <td>NaN</td>\n",
              "      <td>NaN</td>\n",
              "      <td>NaN</td>\n",
              "      <td>NaN</td>\n",
              "      <td>NaN</td>\n",
              "      <td>NaN</td>\n",
              "      <td>NaN</td>\n",
              "      <td>NaN</td>\n",
              "    </tr>\n",
              "    <tr>\n",
              "      <th>9</th>\n",
              "      <td>2023-05-01 02:00:00</td>\n",
              "      <td>53.36666666666667</td>\n",
              "      <td>46.42051282051282</td>\n",
              "      <td>39.88333333333333</td>\n",
              "      <td>NaN</td>\n",
              "      <td>NaN</td>\n",
              "      <td>48.91666666666666</td>\n",
              "      <td>NaN</td>\n",
              "      <td>8.323809523809524</td>\n",
              "      <td>NaN</td>\n",
              "      <td>...</td>\n",
              "      <td>NaN</td>\n",
              "      <td>NaN</td>\n",
              "      <td>NaN</td>\n",
              "      <td>NaN</td>\n",
              "      <td>NaN</td>\n",
              "      <td>NaN</td>\n",
              "      <td>NaN</td>\n",
              "      <td>NaN</td>\n",
              "      <td>NaN</td>\n",
              "      <td>NaN</td>\n",
              "    </tr>\n",
              "    <tr>\n",
              "      <th>10</th>\n",
              "      <td>2023-05-01 03:00:00</td>\n",
              "      <td>50.266666666666666</td>\n",
              "      <td>42.833333333333336</td>\n",
              "      <td>37.8</td>\n",
              "      <td>NaN</td>\n",
              "      <td>NaN</td>\n",
              "      <td>44.95</td>\n",
              "      <td>NaN</td>\n",
              "      <td>7.348901098901098</td>\n",
              "      <td>NaN</td>\n",
              "      <td>...</td>\n",
              "      <td>NaN</td>\n",
              "      <td>NaN</td>\n",
              "      <td>NaN</td>\n",
              "      <td>NaN</td>\n",
              "      <td>NaN</td>\n",
              "      <td>NaN</td>\n",
              "      <td>NaN</td>\n",
              "      <td>NaN</td>\n",
              "      <td>NaN</td>\n",
              "      <td>NaN</td>\n",
              "    </tr>\n",
              "    <tr>\n",
              "      <th>11</th>\n",
              "      <td>2023-05-01 04:00:00</td>\n",
              "      <td>50.62307692307692</td>\n",
              "      <td>44.67692307692308</td>\n",
              "      <td>37.40595238095238</td>\n",
              "      <td>NaN</td>\n",
              "      <td>NaN</td>\n",
              "      <td>46.766666666666666</td>\n",
              "      <td>NaN</td>\n",
              "      <td>6.266666666666667</td>\n",
              "      <td>NaN</td>\n",
              "      <td>...</td>\n",
              "      <td>NaN</td>\n",
              "      <td>NaN</td>\n",
              "      <td>NaN</td>\n",
              "      <td>NaN</td>\n",
              "      <td>NaN</td>\n",
              "      <td>NaN</td>\n",
              "      <td>NaN</td>\n",
              "      <td>NaN</td>\n",
              "      <td>NaN</td>\n",
              "      <td>NaN</td>\n",
              "    </tr>\n",
              "    <tr>\n",
              "      <th>12</th>\n",
              "      <td>2023-05-01 05:00:00</td>\n",
              "      <td>46.43333333333334</td>\n",
              "      <td>39.81666666666666</td>\n",
              "      <td>34.545833333333334</td>\n",
              "      <td>NaN</td>\n",
              "      <td>NaN</td>\n",
              "      <td>42.16666666666667</td>\n",
              "      <td>NaN</td>\n",
              "      <td>8.6</td>\n",
              "      <td>NaN</td>\n",
              "      <td>...</td>\n",
              "      <td>NaN</td>\n",
              "      <td>NaN</td>\n",
              "      <td>NaN</td>\n",
              "      <td>NaN</td>\n",
              "      <td>NaN</td>\n",
              "      <td>NaN</td>\n",
              "      <td>NaN</td>\n",
              "      <td>NaN</td>\n",
              "      <td>NaN</td>\n",
              "      <td>NaN</td>\n",
              "    </tr>\n",
              "    <tr>\n",
              "      <th>13</th>\n",
              "      <td>2023-05-01 06:00:00</td>\n",
              "      <td>56.43333333333333</td>\n",
              "      <td>48.45</td>\n",
              "      <td>40.65</td>\n",
              "      <td>NaN</td>\n",
              "      <td>NaN</td>\n",
              "      <td>50.88461538461539</td>\n",
              "      <td>NaN</td>\n",
              "      <td>12.975641025641025</td>\n",
              "      <td>NaN</td>\n",
              "      <td>...</td>\n",
              "      <td>NaN</td>\n",
              "      <td>NaN</td>\n",
              "      <td>NaN</td>\n",
              "      <td>NaN</td>\n",
              "      <td>NaN</td>\n",
              "      <td>NaN</td>\n",
              "      <td>NaN</td>\n",
              "      <td>NaN</td>\n",
              "      <td>NaN</td>\n",
              "      <td>NaN</td>\n",
              "    </tr>\n",
              "    <tr>\n",
              "      <th>14</th>\n",
              "      <td>2023-05-01 07:00:00</td>\n",
              "      <td>49.480769230769226</td>\n",
              "      <td>42.75128205128205</td>\n",
              "      <td>39.20238095238095</td>\n",
              "      <td>NaN</td>\n",
              "      <td>39.0</td>\n",
              "      <td>46.78333333333333</td>\n",
              "      <td>NaN</td>\n",
              "      <td>18.95</td>\n",
              "      <td>NaN</td>\n",
              "      <td>...</td>\n",
              "      <td>NaN</td>\n",
              "      <td>NaN</td>\n",
              "      <td>NaN</td>\n",
              "      <td>NaN</td>\n",
              "      <td>NaN</td>\n",
              "      <td>NaN</td>\n",
              "      <td>NaN</td>\n",
              "      <td>NaN</td>\n",
              "      <td>NaN</td>\n",
              "      <td>NaN</td>\n",
              "    </tr>\n",
              "    <tr>\n",
              "      <th>15</th>\n",
              "      <td>2023-05-01 08:00:00</td>\n",
              "      <td>31.65</td>\n",
              "      <td>27.883333333333336</td>\n",
              "      <td>24.79047619047619</td>\n",
              "      <td>NaN</td>\n",
              "      <td>NaN</td>\n",
              "      <td>30.426923076923075</td>\n",
              "      <td>NaN</td>\n",
              "      <td>21.53333333333333</td>\n",
              "      <td>NaN</td>\n",
              "      <td>...</td>\n",
              "      <td>NaN</td>\n",
              "      <td>NaN</td>\n",
              "      <td>NaN</td>\n",
              "      <td>NaN</td>\n",
              "      <td>NaN</td>\n",
              "      <td>NaN</td>\n",
              "      <td>NaN</td>\n",
              "      <td>NaN</td>\n",
              "      <td>NaN</td>\n",
              "      <td>NaN</td>\n",
              "    </tr>\n",
              "    <tr>\n",
              "      <th>16</th>\n",
              "      <td>2023-05-01 09:00:00</td>\n",
              "      <td>31.44166666666667</td>\n",
              "      <td>29.584615384615383</td>\n",
              "      <td>24.95641025641026</td>\n",
              "      <td>NaN</td>\n",
              "      <td>27.816666666666663</td>\n",
              "      <td>32.31666666666667</td>\n",
              "      <td>NaN</td>\n",
              "      <td>23.351282051282052</td>\n",
              "      <td>NaN</td>\n",
              "      <td>...</td>\n",
              "      <td>NaN</td>\n",
              "      <td>NaN</td>\n",
              "      <td>NaN</td>\n",
              "      <td>NaN</td>\n",
              "      <td>NaN</td>\n",
              "      <td>NaN</td>\n",
              "      <td>NaN</td>\n",
              "      <td>NaN</td>\n",
              "      <td>NaN</td>\n",
              "      <td>NaN</td>\n",
              "    </tr>\n",
              "    <tr>\n",
              "      <th>17</th>\n",
              "      <td>2023-05-01 10:00:00</td>\n",
              "      <td>31.1</td>\n",
              "      <td>31.583333333333336</td>\n",
              "      <td>25.73333333333333</td>\n",
              "      <td>NaN</td>\n",
              "      <td>28.53333333333333</td>\n",
              "      <td>34.75</td>\n",
              "      <td>NaN</td>\n",
              "      <td>20.05</td>\n",
              "      <td>NaN</td>\n",
              "      <td>...</td>\n",
              "      <td>NaN</td>\n",
              "      <td>NaN</td>\n",
              "      <td>NaN</td>\n",
              "      <td>NaN</td>\n",
              "      <td>NaN</td>\n",
              "      <td>NaN</td>\n",
              "      <td>NaN</td>\n",
              "      <td>NaN</td>\n",
              "      <td>NaN</td>\n",
              "      <td>NaN</td>\n",
              "    </tr>\n",
              "    <tr>\n",
              "      <th>18</th>\n",
              "      <td>2023-05-01 11:00:00</td>\n",
              "      <td>34.766666666666666</td>\n",
              "      <td>33.55</td>\n",
              "      <td>28.217857142857135</td>\n",
              "      <td>NaN</td>\n",
              "      <td>29.81309523809524</td>\n",
              "      <td>36.746153846153845</td>\n",
              "      <td>NaN</td>\n",
              "      <td>11.166666666666666</td>\n",
              "      <td>NaN</td>\n",
              "      <td>...</td>\n",
              "      <td>NaN</td>\n",
              "      <td>NaN</td>\n",
              "      <td>NaN</td>\n",
              "      <td>NaN</td>\n",
              "      <td>NaN</td>\n",
              "      <td>NaN</td>\n",
              "      <td>NaN</td>\n",
              "      <td>NaN</td>\n",
              "      <td>NaN</td>\n",
              "      <td>NaN</td>\n",
              "    </tr>\n",
              "    <tr>\n",
              "      <th>19</th>\n",
              "      <td>2023-05-01 12:00:00</td>\n",
              "      <td>30.553846153846155</td>\n",
              "      <td>31.21538461538461</td>\n",
              "      <td>23.378571428571423</td>\n",
              "      <td>NaN</td>\n",
              "      <td>27.554029304029307</td>\n",
              "      <td>35.06666666666667</td>\n",
              "      <td>NaN</td>\n",
              "      <td>9.1</td>\n",
              "      <td>NaN</td>\n",
              "      <td>...</td>\n",
              "      <td>NaN</td>\n",
              "      <td>NaN</td>\n",
              "      <td>NaN</td>\n",
              "      <td>NaN</td>\n",
              "      <td>NaN</td>\n",
              "      <td>NaN</td>\n",
              "      <td>NaN</td>\n",
              "      <td>NaN</td>\n",
              "      <td>NaN</td>\n",
              "      <td>NaN</td>\n",
              "    </tr>\n",
              "    <tr>\n",
              "      <th>20</th>\n",
              "      <td>2023-05-01 13:00:00</td>\n",
              "      <td>28.98333333333333</td>\n",
              "      <td>21.366666666666664</td>\n",
              "      <td>21.264652014652015</td>\n",
              "      <td>NaN</td>\n",
              "      <td>19.416666666666664</td>\n",
              "      <td>24.633333333333333</td>\n",
              "      <td>NaN</td>\n",
              "      <td>6.716666666666667</td>\n",
              "      <td>NaN</td>\n",
              "      <td>...</td>\n",
              "      <td>NaN</td>\n",
              "      <td>NaN</td>\n",
              "      <td>NaN</td>\n",
              "      <td>NaN</td>\n",
              "      <td>NaN</td>\n",
              "      <td>NaN</td>\n",
              "      <td>NaN</td>\n",
              "      <td>NaN</td>\n",
              "      <td>NaN</td>\n",
              "      <td>NaN</td>\n",
              "    </tr>\n",
              "    <tr>\n",
              "      <th>21</th>\n",
              "      <td>2023-05-01 14:00:00</td>\n",
              "      <td>11.9</td>\n",
              "      <td>9.792307692307697</td>\n",
              "      <td>9.083333333333334</td>\n",
              "      <td>NaN</td>\n",
              "      <td>9.128571428571428</td>\n",
              "      <td>10.937500000000002</td>\n",
              "      <td>NaN</td>\n",
              "      <td>6.533333333333333</td>\n",
              "      <td>NaN</td>\n",
              "      <td>...</td>\n",
              "      <td>NaN</td>\n",
              "      <td>NaN</td>\n",
              "      <td>NaN</td>\n",
              "      <td>NaN</td>\n",
              "      <td>NaN</td>\n",
              "      <td>NaN</td>\n",
              "      <td>NaN</td>\n",
              "      <td>NaN</td>\n",
              "      <td>NaN</td>\n",
              "      <td>NaN</td>\n",
              "    </tr>\n",
              "    <tr>\n",
              "      <th>22</th>\n",
              "      <td>2023-05-01 15:00:00</td>\n",
              "      <td>11.862820512820512</td>\n",
              "      <td>9.883333333333336</td>\n",
              "      <td>8.610714285714286</td>\n",
              "      <td>NaN</td>\n",
              "      <td>9.482142857142858</td>\n",
              "      <td>11.283333333333331</td>\n",
              "      <td>NaN</td>\n",
              "      <td>7.214102564102564</td>\n",
              "      <td>NaN</td>\n",
              "      <td>...</td>\n",
              "      <td>NaN</td>\n",
              "      <td>NaN</td>\n",
              "      <td>NaN</td>\n",
              "      <td>NaN</td>\n",
              "      <td>NaN</td>\n",
              "      <td>NaN</td>\n",
              "      <td>NaN</td>\n",
              "      <td>NaN</td>\n",
              "      <td>NaN</td>\n",
              "      <td>NaN</td>\n",
              "    </tr>\n",
              "    <tr>\n",
              "      <th>23</th>\n",
              "      <td>2023-05-01 16:00:00</td>\n",
              "      <td>10.75</td>\n",
              "      <td>9.3</td>\n",
              "      <td>7.90989010989011</td>\n",
              "      <td>NaN</td>\n",
              "      <td>9.059432234432236</td>\n",
              "      <td>10.57307692307692</td>\n",
              "      <td>NaN</td>\n",
              "      <td>9.166666666666666</td>\n",
              "      <td>NaN</td>\n",
              "      <td>...</td>\n",
              "      <td>NaN</td>\n",
              "      <td>NaN</td>\n",
              "      <td>NaN</td>\n",
              "      <td>NaN</td>\n",
              "      <td>NaN</td>\n",
              "      <td>NaN</td>\n",
              "      <td>NaN</td>\n",
              "      <td>NaN</td>\n",
              "      <td>NaN</td>\n",
              "      <td>NaN</td>\n",
              "    </tr>\n",
              "    <tr>\n",
              "      <th>24</th>\n",
              "      <td>2023-05-01 17:00:00</td>\n",
              "      <td>10.633333333333336</td>\n",
              "      <td>9.233333333333333</td>\n",
              "      <td>7.850000000000001</td>\n",
              "      <td>NaN</td>\n",
              "      <td>9.0</td>\n",
              "      <td>10.233333333333333</td>\n",
              "      <td>NaN</td>\n",
              "      <td>9.566666666666666</td>\n",
              "      <td>NaN</td>\n",
              "      <td>...</td>\n",
              "      <td>NaN</td>\n",
              "      <td>NaN</td>\n",
              "      <td>NaN</td>\n",
              "      <td>NaN</td>\n",
              "      <td>NaN</td>\n",
              "      <td>NaN</td>\n",
              "      <td>NaN</td>\n",
              "      <td>NaN</td>\n",
              "      <td>NaN</td>\n",
              "      <td>NaN</td>\n",
              "    </tr>\n",
              "  </tbody>\n",
              "</table>\n",
              "<p>25 rows × 181 columns</p>\n",
              "</div>\n",
              "    <div class=\"colab-df-buttons\">\n",
              "\n",
              "  <div class=\"colab-df-container\">\n",
              "    <button class=\"colab-df-convert\" onclick=\"convertToInteractive('df-55dd5516-dc56-46fb-9078-4001ba1b1ffa')\"\n",
              "            title=\"Convert this dataframe to an interactive table.\"\n",
              "            style=\"display:none;\">\n",
              "\n",
              "  <svg xmlns=\"http://www.w3.org/2000/svg\" height=\"24px\" viewBox=\"0 -960 960 960\">\n",
              "    <path d=\"M120-120v-720h720v720H120Zm60-500h600v-160H180v160Zm220 220h160v-160H400v160Zm0 220h160v-160H400v160ZM180-400h160v-160H180v160Zm440 0h160v-160H620v160ZM180-180h160v-160H180v160Zm440 0h160v-160H620v160Z\"/>\n",
              "  </svg>\n",
              "    </button>\n",
              "\n",
              "  <style>\n",
              "    .colab-df-container {\n",
              "      display:flex;\n",
              "      gap: 12px;\n",
              "    }\n",
              "\n",
              "    .colab-df-convert {\n",
              "      background-color: #E8F0FE;\n",
              "      border: none;\n",
              "      border-radius: 50%;\n",
              "      cursor: pointer;\n",
              "      display: none;\n",
              "      fill: #1967D2;\n",
              "      height: 32px;\n",
              "      padding: 0 0 0 0;\n",
              "      width: 32px;\n",
              "    }\n",
              "\n",
              "    .colab-df-convert:hover {\n",
              "      background-color: #E2EBFA;\n",
              "      box-shadow: 0px 1px 2px rgba(60, 64, 67, 0.3), 0px 1px 3px 1px rgba(60, 64, 67, 0.15);\n",
              "      fill: #174EA6;\n",
              "    }\n",
              "\n",
              "    .colab-df-buttons div {\n",
              "      margin-bottom: 4px;\n",
              "    }\n",
              "\n",
              "    [theme=dark] .colab-df-convert {\n",
              "      background-color: #3B4455;\n",
              "      fill: #D2E3FC;\n",
              "    }\n",
              "\n",
              "    [theme=dark] .colab-df-convert:hover {\n",
              "      background-color: #434B5C;\n",
              "      box-shadow: 0px 1px 3px 1px rgba(0, 0, 0, 0.15);\n",
              "      filter: drop-shadow(0px 1px 2px rgba(0, 0, 0, 0.3));\n",
              "      fill: #FFFFFF;\n",
              "    }\n",
              "  </style>\n",
              "\n",
              "    <script>\n",
              "      const buttonEl =\n",
              "        document.querySelector('#df-55dd5516-dc56-46fb-9078-4001ba1b1ffa button.colab-df-convert');\n",
              "      buttonEl.style.display =\n",
              "        google.colab.kernel.accessAllowed ? 'block' : 'none';\n",
              "\n",
              "      async function convertToInteractive(key) {\n",
              "        const element = document.querySelector('#df-55dd5516-dc56-46fb-9078-4001ba1b1ffa');\n",
              "        const dataTable =\n",
              "          await google.colab.kernel.invokeFunction('convertToInteractive',\n",
              "                                                    [key], {});\n",
              "        if (!dataTable) return;\n",
              "\n",
              "        const docLinkHtml = 'Like what you see? Visit the ' +\n",
              "          '<a target=\"_blank\" href=https://colab.research.google.com/notebooks/data_table.ipynb>data table notebook</a>'\n",
              "          + ' to learn more about interactive tables.';\n",
              "        element.innerHTML = '';\n",
              "        dataTable['output_type'] = 'display_data';\n",
              "        await google.colab.output.renderOutput(dataTable, element);\n",
              "        const docLink = document.createElement('div');\n",
              "        docLink.innerHTML = docLinkHtml;\n",
              "        element.appendChild(docLink);\n",
              "      }\n",
              "    </script>\n",
              "  </div>\n",
              "\n",
              "\n",
              "<div id=\"df-579915c1-d0be-489e-a3d2-0bec54a445c3\">\n",
              "  <button class=\"colab-df-quickchart\" onclick=\"quickchart('df-579915c1-d0be-489e-a3d2-0bec54a445c3')\"\n",
              "            title=\"Suggest charts\"\n",
              "            style=\"display:none;\">\n",
              "\n",
              "<svg xmlns=\"http://www.w3.org/2000/svg\" height=\"24px\"viewBox=\"0 0 24 24\"\n",
              "     width=\"24px\">\n",
              "    <g>\n",
              "        <path d=\"M19 3H5c-1.1 0-2 .9-2 2v14c0 1.1.9 2 2 2h14c1.1 0 2-.9 2-2V5c0-1.1-.9-2-2-2zM9 17H7v-7h2v7zm4 0h-2V7h2v10zm4 0h-2v-4h2v4z\"/>\n",
              "    </g>\n",
              "</svg>\n",
              "  </button>\n",
              "\n",
              "<style>\n",
              "  .colab-df-quickchart {\n",
              "      --bg-color: #E8F0FE;\n",
              "      --fill-color: #1967D2;\n",
              "      --hover-bg-color: #E2EBFA;\n",
              "      --hover-fill-color: #174EA6;\n",
              "      --disabled-fill-color: #AAA;\n",
              "      --disabled-bg-color: #DDD;\n",
              "  }\n",
              "\n",
              "  [theme=dark] .colab-df-quickchart {\n",
              "      --bg-color: #3B4455;\n",
              "      --fill-color: #D2E3FC;\n",
              "      --hover-bg-color: #434B5C;\n",
              "      --hover-fill-color: #FFFFFF;\n",
              "      --disabled-bg-color: #3B4455;\n",
              "      --disabled-fill-color: #666;\n",
              "  }\n",
              "\n",
              "  .colab-df-quickchart {\n",
              "    background-color: var(--bg-color);\n",
              "    border: none;\n",
              "    border-radius: 50%;\n",
              "    cursor: pointer;\n",
              "    display: none;\n",
              "    fill: var(--fill-color);\n",
              "    height: 32px;\n",
              "    padding: 0;\n",
              "    width: 32px;\n",
              "  }\n",
              "\n",
              "  .colab-df-quickchart:hover {\n",
              "    background-color: var(--hover-bg-color);\n",
              "    box-shadow: 0 1px 2px rgba(60, 64, 67, 0.3), 0 1px 3px 1px rgba(60, 64, 67, 0.15);\n",
              "    fill: var(--button-hover-fill-color);\n",
              "  }\n",
              "\n",
              "  .colab-df-quickchart-complete:disabled,\n",
              "  .colab-df-quickchart-complete:disabled:hover {\n",
              "    background-color: var(--disabled-bg-color);\n",
              "    fill: var(--disabled-fill-color);\n",
              "    box-shadow: none;\n",
              "  }\n",
              "\n",
              "  .colab-df-spinner {\n",
              "    border: 2px solid var(--fill-color);\n",
              "    border-color: transparent;\n",
              "    border-bottom-color: var(--fill-color);\n",
              "    animation:\n",
              "      spin 1s steps(1) infinite;\n",
              "  }\n",
              "\n",
              "  @keyframes spin {\n",
              "    0% {\n",
              "      border-color: transparent;\n",
              "      border-bottom-color: var(--fill-color);\n",
              "      border-left-color: var(--fill-color);\n",
              "    }\n",
              "    20% {\n",
              "      border-color: transparent;\n",
              "      border-left-color: var(--fill-color);\n",
              "      border-top-color: var(--fill-color);\n",
              "    }\n",
              "    30% {\n",
              "      border-color: transparent;\n",
              "      border-left-color: var(--fill-color);\n",
              "      border-top-color: var(--fill-color);\n",
              "      border-right-color: var(--fill-color);\n",
              "    }\n",
              "    40% {\n",
              "      border-color: transparent;\n",
              "      border-right-color: var(--fill-color);\n",
              "      border-top-color: var(--fill-color);\n",
              "    }\n",
              "    60% {\n",
              "      border-color: transparent;\n",
              "      border-right-color: var(--fill-color);\n",
              "    }\n",
              "    80% {\n",
              "      border-color: transparent;\n",
              "      border-right-color: var(--fill-color);\n",
              "      border-bottom-color: var(--fill-color);\n",
              "    }\n",
              "    90% {\n",
              "      border-color: transparent;\n",
              "      border-bottom-color: var(--fill-color);\n",
              "    }\n",
              "  }\n",
              "</style>\n",
              "\n",
              "  <script>\n",
              "    async function quickchart(key) {\n",
              "      const quickchartButtonEl =\n",
              "        document.querySelector('#' + key + ' button');\n",
              "      quickchartButtonEl.disabled = true;  // To prevent multiple clicks.\n",
              "      quickchartButtonEl.classList.add('colab-df-spinner');\n",
              "      try {\n",
              "        const charts = await google.colab.kernel.invokeFunction(\n",
              "            'suggestCharts', [key], {});\n",
              "      } catch (error) {\n",
              "        console.error('Error during call to suggestCharts:', error);\n",
              "      }\n",
              "      quickchartButtonEl.classList.remove('colab-df-spinner');\n",
              "      quickchartButtonEl.classList.add('colab-df-quickchart-complete');\n",
              "    }\n",
              "    (() => {\n",
              "      let quickchartButtonEl =\n",
              "        document.querySelector('#df-579915c1-d0be-489e-a3d2-0bec54a445c3 button');\n",
              "      quickchartButtonEl.style.display =\n",
              "        google.colab.kernel.accessAllowed ? 'block' : 'none';\n",
              "    })();\n",
              "  </script>\n",
              "</div>\n",
              "\n",
              "    </div>\n",
              "  </div>\n"
            ],
            "application/vnd.google.colaboratory.intrinsic+json": {
              "type": "dataframe",
              "variable_name": "df"
            }
          },
          "metadata": {},
          "execution_count": 10
        }
      ],
      "source": [
        "df.head(25)"
      ]
    },
    {
      "cell_type": "code",
      "execution_count": null,
      "metadata": {
        "id": "vMS6TW_E3gDZ"
      },
      "outputs": [],
      "source": [
        "df.columns = df.iloc[0]\n",
        "df = df.iloc[1:]\n",
        "df.reset_index(drop=True, inplace=True)"
      ]
    },
    {
      "cell_type": "code",
      "execution_count": null,
      "metadata": {
        "id": "XV0WwnWE3gIL"
      },
      "outputs": [],
      "source": [
        "df = df.iloc[6:]"
      ]
    },
    {
      "cell_type": "code",
      "execution_count": null,
      "metadata": {
        "id": "J9LI4swf3gK5"
      },
      "outputs": [],
      "source": [
        "df.reset_index(drop=True, inplace=True)"
      ]
    },
    {
      "cell_type": "code",
      "execution_count": null,
      "metadata": {
        "id": "iIHAE4Mq3gNh"
      },
      "outputs": [],
      "source": [
        "df['Deviceid'] = pd.to_datetime(df['Deviceid'])\n",
        "df.set_index('Deviceid', inplace=True)\n",
        "# Removing values till july 1 (most nan)\n",
        "df = df[df.index >= '2023-05-1']"
      ]
    },
    {
      "cell_type": "code",
      "execution_count": null,
      "metadata": {
        "colab": {
          "base_uri": "https://localhost:8080/",
          "height": 822
        },
        "id": "pBX27XgU3gP5",
        "outputId": "71e55bed-6cfd-4fc1-a02c-771d80f38b40"
      },
      "outputs": [
        {
          "output_type": "execute_result",
          "data": {
            "text/plain": [
              "0                     PM25_2CF4320E7588   PM25_500291FFF951  \\\n",
              "Deviceid                                                      \n",
              "2023-05-01 00:00:00                53.6  46.516666666666666   \n",
              "2023-05-01 01:00:00   53.83846153846154                46.9   \n",
              "2023-05-01 02:00:00   53.36666666666667   46.42051282051282   \n",
              "2023-05-01 03:00:00  50.266666666666666  42.833333333333336   \n",
              "2023-05-01 04:00:00   50.62307692307692   44.67692307692308   \n",
              "...                                 ...                 ...   \n",
              "2024-02-29 19:00:00                 NaN                 NaN   \n",
              "2024-02-29 20:00:00                 NaN                 NaN   \n",
              "2024-02-29 21:00:00                 NaN                 NaN   \n",
              "2024-02-29 22:00:00                 NaN                 NaN   \n",
              "2024-02-29 23:00:00                 NaN                 NaN   \n",
              "\n",
              "0                    PM25_68C63AD3E695 PM25_2CF4328C5CEA PM25_4C7525091C74  \\\n",
              "Deviceid                                                                     \n",
              "2023-05-01 00:00:00  40.24047619047619               NaN               NaN   \n",
              "2023-05-01 01:00:00  41.27559523809524               NaN               NaN   \n",
              "2023-05-01 02:00:00  39.88333333333333               NaN               NaN   \n",
              "2023-05-01 03:00:00               37.8               NaN               NaN   \n",
              "2023-05-01 04:00:00  37.40595238095238               NaN               NaN   \n",
              "...                                ...               ...               ...   \n",
              "2024-02-29 19:00:00                NaN               NaN               NaN   \n",
              "2024-02-29 20:00:00                NaN               NaN               NaN   \n",
              "2024-02-29 21:00:00                NaN               NaN               NaN   \n",
              "2024-02-29 22:00:00                NaN               NaN               NaN   \n",
              "2024-02-29 23:00:00                NaN               NaN               NaN   \n",
              "\n",
              "0                     PM25_5002914AAF8A PM25_4C752509213C   PM25_8CAAB57998BA  \\\n",
              "Deviceid                                                                        \n",
              "2023-05-01 00:00:00               49.15               NaN  12.683333333333334   \n",
              "2023-05-01 01:00:00  49.746153846153845               NaN                 9.9   \n",
              "2023-05-01 02:00:00   48.91666666666666               NaN   8.323809523809524   \n",
              "2023-05-01 03:00:00               44.95               NaN   7.348901098901098   \n",
              "2023-05-01 04:00:00  46.766666666666666               NaN   6.266666666666667   \n",
              "...                                 ...               ...                 ...   \n",
              "2024-02-29 19:00:00                 NaN               NaN                 NaN   \n",
              "2024-02-29 20:00:00                 NaN               NaN                 NaN   \n",
              "2024-02-29 21:00:00                 NaN               NaN                 NaN   \n",
              "2024-02-29 22:00:00                 NaN               NaN                 NaN   \n",
              "2024-02-29 23:00:00                 NaN               NaN                 NaN   \n",
              "\n",
              "0                   PM25_2CF4328C5A07 PM25_B4E62D606E00  ... RH_84CCA8B2F2AA  \\\n",
              "Deviceid                                                 ...                   \n",
              "2023-05-01 00:00:00               NaN               NaN  ...             NaN   \n",
              "2023-05-01 01:00:00               NaN               NaN  ...             NaN   \n",
              "2023-05-01 02:00:00               NaN               NaN  ...             NaN   \n",
              "2023-05-01 03:00:00               NaN               NaN  ...             NaN   \n",
              "2023-05-01 04:00:00               NaN               NaN  ...             NaN   \n",
              "...                               ...               ...  ...             ...   \n",
              "2024-02-29 19:00:00               NaN               NaN  ...       26.948333   \n",
              "2024-02-29 20:00:00               NaN               NaN  ...       27.763333   \n",
              "2024-02-29 21:00:00               NaN               NaN  ...       31.693333   \n",
              "2024-02-29 22:00:00               NaN               NaN  ...       34.298333   \n",
              "2024-02-29 23:00:00               NaN               NaN  ...       35.326667   \n",
              "\n",
              "0                   RH_8CCE4ECB7102 RH_98F4ABC07412 RH_F4CFA2CEC397  \\\n",
              "Deviceid                                                              \n",
              "2023-05-01 00:00:00             NaN             NaN             NaN   \n",
              "2023-05-01 01:00:00             NaN             NaN             NaN   \n",
              "2023-05-01 02:00:00             NaN             NaN             NaN   \n",
              "2023-05-01 03:00:00             NaN             NaN             NaN   \n",
              "2023-05-01 04:00:00             NaN             NaN             NaN   \n",
              "...                             ...             ...             ...   \n",
              "2024-02-29 19:00:00             NaN       28.446667             NaN   \n",
              "2024-02-29 20:00:00             NaN       30.118333             NaN   \n",
              "2024-02-29 21:00:00             NaN       35.248333             NaN   \n",
              "2024-02-29 22:00:00             NaN       39.841667             NaN   \n",
              "2024-02-29 23:00:00             NaN           42.27             NaN   \n",
              "\n",
              "0                   RH_F4CFA2D380D3 RH_68C63AF3AA6F RH_3083988F9126  \\\n",
              "Deviceid                                                              \n",
              "2023-05-01 00:00:00             NaN             NaN             NaN   \n",
              "2023-05-01 01:00:00             NaN             NaN             NaN   \n",
              "2023-05-01 02:00:00             NaN             NaN             NaN   \n",
              "2023-05-01 03:00:00             NaN             NaN             NaN   \n",
              "2023-05-01 04:00:00             NaN             NaN             NaN   \n",
              "...                             ...             ...             ...   \n",
              "2024-02-29 19:00:00             NaN       52.758333             NaN   \n",
              "2024-02-29 20:00:00             NaN           54.71            48.5   \n",
              "2024-02-29 21:00:00             NaN       55.274712             NaN   \n",
              "2024-02-29 22:00:00             NaN          60.945             NaN   \n",
              "2024-02-29 23:00:00             NaN       63.068333             NaN   \n",
              "\n",
              "0                   RH_500291C0F7D2 RH_8CAAB50AD70C RH_BCDDC247BFE3  \n",
              "Deviceid                                                             \n",
              "2023-05-01 00:00:00             NaN             NaN             NaN  \n",
              "2023-05-01 01:00:00             NaN             NaN             NaN  \n",
              "2023-05-01 02:00:00             NaN             NaN             NaN  \n",
              "2023-05-01 03:00:00             NaN             NaN             NaN  \n",
              "2023-05-01 04:00:00             NaN             NaN             NaN  \n",
              "...                             ...             ...             ...  \n",
              "2024-02-29 19:00:00             NaN             NaN             NaN  \n",
              "2024-02-29 20:00:00             NaN             NaN             NaN  \n",
              "2024-02-29 21:00:00             NaN             NaN             NaN  \n",
              "2024-02-29 22:00:00             NaN             NaN             NaN  \n",
              "2024-02-29 23:00:00             NaN             NaN             NaN  \n",
              "\n",
              "[7320 rows x 180 columns]"
            ],
            "text/html": [
              "\n",
              "  <div id=\"df-1480b738-fb41-4eeb-9ed7-d4536e9979a9\" class=\"colab-df-container\">\n",
              "    <div>\n",
              "<style scoped>\n",
              "    .dataframe tbody tr th:only-of-type {\n",
              "        vertical-align: middle;\n",
              "    }\n",
              "\n",
              "    .dataframe tbody tr th {\n",
              "        vertical-align: top;\n",
              "    }\n",
              "\n",
              "    .dataframe thead th {\n",
              "        text-align: right;\n",
              "    }\n",
              "</style>\n",
              "<table border=\"1\" class=\"dataframe\">\n",
              "  <thead>\n",
              "    <tr style=\"text-align: right;\">\n",
              "      <th></th>\n",
              "      <th>PM25_2CF4320E7588</th>\n",
              "      <th>PM25_500291FFF951</th>\n",
              "      <th>PM25_68C63AD3E695</th>\n",
              "      <th>PM25_2CF4328C5CEA</th>\n",
              "      <th>PM25_4C7525091C74</th>\n",
              "      <th>PM25_5002914AAF8A</th>\n",
              "      <th>PM25_4C752509213C</th>\n",
              "      <th>PM25_8CAAB57998BA</th>\n",
              "      <th>PM25_2CF4328C5A07</th>\n",
              "      <th>PM25_B4E62D606E00</th>\n",
              "      <th>...</th>\n",
              "      <th>RH_84CCA8B2F2AA</th>\n",
              "      <th>RH_8CCE4ECB7102</th>\n",
              "      <th>RH_98F4ABC07412</th>\n",
              "      <th>RH_F4CFA2CEC397</th>\n",
              "      <th>RH_F4CFA2D380D3</th>\n",
              "      <th>RH_68C63AF3AA6F</th>\n",
              "      <th>RH_3083988F9126</th>\n",
              "      <th>RH_500291C0F7D2</th>\n",
              "      <th>RH_8CAAB50AD70C</th>\n",
              "      <th>RH_BCDDC247BFE3</th>\n",
              "    </tr>\n",
              "    <tr>\n",
              "      <th>Deviceid</th>\n",
              "      <th></th>\n",
              "      <th></th>\n",
              "      <th></th>\n",
              "      <th></th>\n",
              "      <th></th>\n",
              "      <th></th>\n",
              "      <th></th>\n",
              "      <th></th>\n",
              "      <th></th>\n",
              "      <th></th>\n",
              "      <th></th>\n",
              "      <th></th>\n",
              "      <th></th>\n",
              "      <th></th>\n",
              "      <th></th>\n",
              "      <th></th>\n",
              "      <th></th>\n",
              "      <th></th>\n",
              "      <th></th>\n",
              "      <th></th>\n",
              "      <th></th>\n",
              "    </tr>\n",
              "  </thead>\n",
              "  <tbody>\n",
              "    <tr>\n",
              "      <th>2023-05-01 00:00:00</th>\n",
              "      <td>53.6</td>\n",
              "      <td>46.516666666666666</td>\n",
              "      <td>40.24047619047619</td>\n",
              "      <td>NaN</td>\n",
              "      <td>NaN</td>\n",
              "      <td>49.15</td>\n",
              "      <td>NaN</td>\n",
              "      <td>12.683333333333334</td>\n",
              "      <td>NaN</td>\n",
              "      <td>NaN</td>\n",
              "      <td>...</td>\n",
              "      <td>NaN</td>\n",
              "      <td>NaN</td>\n",
              "      <td>NaN</td>\n",
              "      <td>NaN</td>\n",
              "      <td>NaN</td>\n",
              "      <td>NaN</td>\n",
              "      <td>NaN</td>\n",
              "      <td>NaN</td>\n",
              "      <td>NaN</td>\n",
              "      <td>NaN</td>\n",
              "    </tr>\n",
              "    <tr>\n",
              "      <th>2023-05-01 01:00:00</th>\n",
              "      <td>53.83846153846154</td>\n",
              "      <td>46.9</td>\n",
              "      <td>41.27559523809524</td>\n",
              "      <td>NaN</td>\n",
              "      <td>NaN</td>\n",
              "      <td>49.746153846153845</td>\n",
              "      <td>NaN</td>\n",
              "      <td>9.9</td>\n",
              "      <td>NaN</td>\n",
              "      <td>NaN</td>\n",
              "      <td>...</td>\n",
              "      <td>NaN</td>\n",
              "      <td>NaN</td>\n",
              "      <td>NaN</td>\n",
              "      <td>NaN</td>\n",
              "      <td>NaN</td>\n",
              "      <td>NaN</td>\n",
              "      <td>NaN</td>\n",
              "      <td>NaN</td>\n",
              "      <td>NaN</td>\n",
              "      <td>NaN</td>\n",
              "    </tr>\n",
              "    <tr>\n",
              "      <th>2023-05-01 02:00:00</th>\n",
              "      <td>53.36666666666667</td>\n",
              "      <td>46.42051282051282</td>\n",
              "      <td>39.88333333333333</td>\n",
              "      <td>NaN</td>\n",
              "      <td>NaN</td>\n",
              "      <td>48.91666666666666</td>\n",
              "      <td>NaN</td>\n",
              "      <td>8.323809523809524</td>\n",
              "      <td>NaN</td>\n",
              "      <td>NaN</td>\n",
              "      <td>...</td>\n",
              "      <td>NaN</td>\n",
              "      <td>NaN</td>\n",
              "      <td>NaN</td>\n",
              "      <td>NaN</td>\n",
              "      <td>NaN</td>\n",
              "      <td>NaN</td>\n",
              "      <td>NaN</td>\n",
              "      <td>NaN</td>\n",
              "      <td>NaN</td>\n",
              "      <td>NaN</td>\n",
              "    </tr>\n",
              "    <tr>\n",
              "      <th>2023-05-01 03:00:00</th>\n",
              "      <td>50.266666666666666</td>\n",
              "      <td>42.833333333333336</td>\n",
              "      <td>37.8</td>\n",
              "      <td>NaN</td>\n",
              "      <td>NaN</td>\n",
              "      <td>44.95</td>\n",
              "      <td>NaN</td>\n",
              "      <td>7.348901098901098</td>\n",
              "      <td>NaN</td>\n",
              "      <td>NaN</td>\n",
              "      <td>...</td>\n",
              "      <td>NaN</td>\n",
              "      <td>NaN</td>\n",
              "      <td>NaN</td>\n",
              "      <td>NaN</td>\n",
              "      <td>NaN</td>\n",
              "      <td>NaN</td>\n",
              "      <td>NaN</td>\n",
              "      <td>NaN</td>\n",
              "      <td>NaN</td>\n",
              "      <td>NaN</td>\n",
              "    </tr>\n",
              "    <tr>\n",
              "      <th>2023-05-01 04:00:00</th>\n",
              "      <td>50.62307692307692</td>\n",
              "      <td>44.67692307692308</td>\n",
              "      <td>37.40595238095238</td>\n",
              "      <td>NaN</td>\n",
              "      <td>NaN</td>\n",
              "      <td>46.766666666666666</td>\n",
              "      <td>NaN</td>\n",
              "      <td>6.266666666666667</td>\n",
              "      <td>NaN</td>\n",
              "      <td>NaN</td>\n",
              "      <td>...</td>\n",
              "      <td>NaN</td>\n",
              "      <td>NaN</td>\n",
              "      <td>NaN</td>\n",
              "      <td>NaN</td>\n",
              "      <td>NaN</td>\n",
              "      <td>NaN</td>\n",
              "      <td>NaN</td>\n",
              "      <td>NaN</td>\n",
              "      <td>NaN</td>\n",
              "      <td>NaN</td>\n",
              "    </tr>\n",
              "    <tr>\n",
              "      <th>...</th>\n",
              "      <td>...</td>\n",
              "      <td>...</td>\n",
              "      <td>...</td>\n",
              "      <td>...</td>\n",
              "      <td>...</td>\n",
              "      <td>...</td>\n",
              "      <td>...</td>\n",
              "      <td>...</td>\n",
              "      <td>...</td>\n",
              "      <td>...</td>\n",
              "      <td>...</td>\n",
              "      <td>...</td>\n",
              "      <td>...</td>\n",
              "      <td>...</td>\n",
              "      <td>...</td>\n",
              "      <td>...</td>\n",
              "      <td>...</td>\n",
              "      <td>...</td>\n",
              "      <td>...</td>\n",
              "      <td>...</td>\n",
              "      <td>...</td>\n",
              "    </tr>\n",
              "    <tr>\n",
              "      <th>2024-02-29 19:00:00</th>\n",
              "      <td>NaN</td>\n",
              "      <td>NaN</td>\n",
              "      <td>NaN</td>\n",
              "      <td>NaN</td>\n",
              "      <td>NaN</td>\n",
              "      <td>NaN</td>\n",
              "      <td>NaN</td>\n",
              "      <td>NaN</td>\n",
              "      <td>NaN</td>\n",
              "      <td>NaN</td>\n",
              "      <td>...</td>\n",
              "      <td>26.948333</td>\n",
              "      <td>NaN</td>\n",
              "      <td>28.446667</td>\n",
              "      <td>NaN</td>\n",
              "      <td>NaN</td>\n",
              "      <td>52.758333</td>\n",
              "      <td>NaN</td>\n",
              "      <td>NaN</td>\n",
              "      <td>NaN</td>\n",
              "      <td>NaN</td>\n",
              "    </tr>\n",
              "    <tr>\n",
              "      <th>2024-02-29 20:00:00</th>\n",
              "      <td>NaN</td>\n",
              "      <td>NaN</td>\n",
              "      <td>NaN</td>\n",
              "      <td>NaN</td>\n",
              "      <td>NaN</td>\n",
              "      <td>NaN</td>\n",
              "      <td>NaN</td>\n",
              "      <td>NaN</td>\n",
              "      <td>NaN</td>\n",
              "      <td>NaN</td>\n",
              "      <td>...</td>\n",
              "      <td>27.763333</td>\n",
              "      <td>NaN</td>\n",
              "      <td>30.118333</td>\n",
              "      <td>NaN</td>\n",
              "      <td>NaN</td>\n",
              "      <td>54.71</td>\n",
              "      <td>48.5</td>\n",
              "      <td>NaN</td>\n",
              "      <td>NaN</td>\n",
              "      <td>NaN</td>\n",
              "    </tr>\n",
              "    <tr>\n",
              "      <th>2024-02-29 21:00:00</th>\n",
              "      <td>NaN</td>\n",
              "      <td>NaN</td>\n",
              "      <td>NaN</td>\n",
              "      <td>NaN</td>\n",
              "      <td>NaN</td>\n",
              "      <td>NaN</td>\n",
              "      <td>NaN</td>\n",
              "      <td>NaN</td>\n",
              "      <td>NaN</td>\n",
              "      <td>NaN</td>\n",
              "      <td>...</td>\n",
              "      <td>31.693333</td>\n",
              "      <td>NaN</td>\n",
              "      <td>35.248333</td>\n",
              "      <td>NaN</td>\n",
              "      <td>NaN</td>\n",
              "      <td>55.274712</td>\n",
              "      <td>NaN</td>\n",
              "      <td>NaN</td>\n",
              "      <td>NaN</td>\n",
              "      <td>NaN</td>\n",
              "    </tr>\n",
              "    <tr>\n",
              "      <th>2024-02-29 22:00:00</th>\n",
              "      <td>NaN</td>\n",
              "      <td>NaN</td>\n",
              "      <td>NaN</td>\n",
              "      <td>NaN</td>\n",
              "      <td>NaN</td>\n",
              "      <td>NaN</td>\n",
              "      <td>NaN</td>\n",
              "      <td>NaN</td>\n",
              "      <td>NaN</td>\n",
              "      <td>NaN</td>\n",
              "      <td>...</td>\n",
              "      <td>34.298333</td>\n",
              "      <td>NaN</td>\n",
              "      <td>39.841667</td>\n",
              "      <td>NaN</td>\n",
              "      <td>NaN</td>\n",
              "      <td>60.945</td>\n",
              "      <td>NaN</td>\n",
              "      <td>NaN</td>\n",
              "      <td>NaN</td>\n",
              "      <td>NaN</td>\n",
              "    </tr>\n",
              "    <tr>\n",
              "      <th>2024-02-29 23:00:00</th>\n",
              "      <td>NaN</td>\n",
              "      <td>NaN</td>\n",
              "      <td>NaN</td>\n",
              "      <td>NaN</td>\n",
              "      <td>NaN</td>\n",
              "      <td>NaN</td>\n",
              "      <td>NaN</td>\n",
              "      <td>NaN</td>\n",
              "      <td>NaN</td>\n",
              "      <td>NaN</td>\n",
              "      <td>...</td>\n",
              "      <td>35.326667</td>\n",
              "      <td>NaN</td>\n",
              "      <td>42.27</td>\n",
              "      <td>NaN</td>\n",
              "      <td>NaN</td>\n",
              "      <td>63.068333</td>\n",
              "      <td>NaN</td>\n",
              "      <td>NaN</td>\n",
              "      <td>NaN</td>\n",
              "      <td>NaN</td>\n",
              "    </tr>\n",
              "  </tbody>\n",
              "</table>\n",
              "<p>7320 rows × 180 columns</p>\n",
              "</div>\n",
              "    <div class=\"colab-df-buttons\">\n",
              "\n",
              "  <div class=\"colab-df-container\">\n",
              "    <button class=\"colab-df-convert\" onclick=\"convertToInteractive('df-1480b738-fb41-4eeb-9ed7-d4536e9979a9')\"\n",
              "            title=\"Convert this dataframe to an interactive table.\"\n",
              "            style=\"display:none;\">\n",
              "\n",
              "  <svg xmlns=\"http://www.w3.org/2000/svg\" height=\"24px\" viewBox=\"0 -960 960 960\">\n",
              "    <path d=\"M120-120v-720h720v720H120Zm60-500h600v-160H180v160Zm220 220h160v-160H400v160Zm0 220h160v-160H400v160ZM180-400h160v-160H180v160Zm440 0h160v-160H620v160ZM180-180h160v-160H180v160Zm440 0h160v-160H620v160Z\"/>\n",
              "  </svg>\n",
              "    </button>\n",
              "\n",
              "  <style>\n",
              "    .colab-df-container {\n",
              "      display:flex;\n",
              "      gap: 12px;\n",
              "    }\n",
              "\n",
              "    .colab-df-convert {\n",
              "      background-color: #E8F0FE;\n",
              "      border: none;\n",
              "      border-radius: 50%;\n",
              "      cursor: pointer;\n",
              "      display: none;\n",
              "      fill: #1967D2;\n",
              "      height: 32px;\n",
              "      padding: 0 0 0 0;\n",
              "      width: 32px;\n",
              "    }\n",
              "\n",
              "    .colab-df-convert:hover {\n",
              "      background-color: #E2EBFA;\n",
              "      box-shadow: 0px 1px 2px rgba(60, 64, 67, 0.3), 0px 1px 3px 1px rgba(60, 64, 67, 0.15);\n",
              "      fill: #174EA6;\n",
              "    }\n",
              "\n",
              "    .colab-df-buttons div {\n",
              "      margin-bottom: 4px;\n",
              "    }\n",
              "\n",
              "    [theme=dark] .colab-df-convert {\n",
              "      background-color: #3B4455;\n",
              "      fill: #D2E3FC;\n",
              "    }\n",
              "\n",
              "    [theme=dark] .colab-df-convert:hover {\n",
              "      background-color: #434B5C;\n",
              "      box-shadow: 0px 1px 3px 1px rgba(0, 0, 0, 0.15);\n",
              "      filter: drop-shadow(0px 1px 2px rgba(0, 0, 0, 0.3));\n",
              "      fill: #FFFFFF;\n",
              "    }\n",
              "  </style>\n",
              "\n",
              "    <script>\n",
              "      const buttonEl =\n",
              "        document.querySelector('#df-1480b738-fb41-4eeb-9ed7-d4536e9979a9 button.colab-df-convert');\n",
              "      buttonEl.style.display =\n",
              "        google.colab.kernel.accessAllowed ? 'block' : 'none';\n",
              "\n",
              "      async function convertToInteractive(key) {\n",
              "        const element = document.querySelector('#df-1480b738-fb41-4eeb-9ed7-d4536e9979a9');\n",
              "        const dataTable =\n",
              "          await google.colab.kernel.invokeFunction('convertToInteractive',\n",
              "                                                    [key], {});\n",
              "        if (!dataTable) return;\n",
              "\n",
              "        const docLinkHtml = 'Like what you see? Visit the ' +\n",
              "          '<a target=\"_blank\" href=https://colab.research.google.com/notebooks/data_table.ipynb>data table notebook</a>'\n",
              "          + ' to learn more about interactive tables.';\n",
              "        element.innerHTML = '';\n",
              "        dataTable['output_type'] = 'display_data';\n",
              "        await google.colab.output.renderOutput(dataTable, element);\n",
              "        const docLink = document.createElement('div');\n",
              "        docLink.innerHTML = docLinkHtml;\n",
              "        element.appendChild(docLink);\n",
              "      }\n",
              "    </script>\n",
              "  </div>\n",
              "\n",
              "\n",
              "<div id=\"df-c45e1f54-3673-4a55-b012-a7397d01a9c3\">\n",
              "  <button class=\"colab-df-quickchart\" onclick=\"quickchart('df-c45e1f54-3673-4a55-b012-a7397d01a9c3')\"\n",
              "            title=\"Suggest charts\"\n",
              "            style=\"display:none;\">\n",
              "\n",
              "<svg xmlns=\"http://www.w3.org/2000/svg\" height=\"24px\"viewBox=\"0 0 24 24\"\n",
              "     width=\"24px\">\n",
              "    <g>\n",
              "        <path d=\"M19 3H5c-1.1 0-2 .9-2 2v14c0 1.1.9 2 2 2h14c1.1 0 2-.9 2-2V5c0-1.1-.9-2-2-2zM9 17H7v-7h2v7zm4 0h-2V7h2v10zm4 0h-2v-4h2v4z\"/>\n",
              "    </g>\n",
              "</svg>\n",
              "  </button>\n",
              "\n",
              "<style>\n",
              "  .colab-df-quickchart {\n",
              "      --bg-color: #E8F0FE;\n",
              "      --fill-color: #1967D2;\n",
              "      --hover-bg-color: #E2EBFA;\n",
              "      --hover-fill-color: #174EA6;\n",
              "      --disabled-fill-color: #AAA;\n",
              "      --disabled-bg-color: #DDD;\n",
              "  }\n",
              "\n",
              "  [theme=dark] .colab-df-quickchart {\n",
              "      --bg-color: #3B4455;\n",
              "      --fill-color: #D2E3FC;\n",
              "      --hover-bg-color: #434B5C;\n",
              "      --hover-fill-color: #FFFFFF;\n",
              "      --disabled-bg-color: #3B4455;\n",
              "      --disabled-fill-color: #666;\n",
              "  }\n",
              "\n",
              "  .colab-df-quickchart {\n",
              "    background-color: var(--bg-color);\n",
              "    border: none;\n",
              "    border-radius: 50%;\n",
              "    cursor: pointer;\n",
              "    display: none;\n",
              "    fill: var(--fill-color);\n",
              "    height: 32px;\n",
              "    padding: 0;\n",
              "    width: 32px;\n",
              "  }\n",
              "\n",
              "  .colab-df-quickchart:hover {\n",
              "    background-color: var(--hover-bg-color);\n",
              "    box-shadow: 0 1px 2px rgba(60, 64, 67, 0.3), 0 1px 3px 1px rgba(60, 64, 67, 0.15);\n",
              "    fill: var(--button-hover-fill-color);\n",
              "  }\n",
              "\n",
              "  .colab-df-quickchart-complete:disabled,\n",
              "  .colab-df-quickchart-complete:disabled:hover {\n",
              "    background-color: var(--disabled-bg-color);\n",
              "    fill: var(--disabled-fill-color);\n",
              "    box-shadow: none;\n",
              "  }\n",
              "\n",
              "  .colab-df-spinner {\n",
              "    border: 2px solid var(--fill-color);\n",
              "    border-color: transparent;\n",
              "    border-bottom-color: var(--fill-color);\n",
              "    animation:\n",
              "      spin 1s steps(1) infinite;\n",
              "  }\n",
              "\n",
              "  @keyframes spin {\n",
              "    0% {\n",
              "      border-color: transparent;\n",
              "      border-bottom-color: var(--fill-color);\n",
              "      border-left-color: var(--fill-color);\n",
              "    }\n",
              "    20% {\n",
              "      border-color: transparent;\n",
              "      border-left-color: var(--fill-color);\n",
              "      border-top-color: var(--fill-color);\n",
              "    }\n",
              "    30% {\n",
              "      border-color: transparent;\n",
              "      border-left-color: var(--fill-color);\n",
              "      border-top-color: var(--fill-color);\n",
              "      border-right-color: var(--fill-color);\n",
              "    }\n",
              "    40% {\n",
              "      border-color: transparent;\n",
              "      border-right-color: var(--fill-color);\n",
              "      border-top-color: var(--fill-color);\n",
              "    }\n",
              "    60% {\n",
              "      border-color: transparent;\n",
              "      border-right-color: var(--fill-color);\n",
              "    }\n",
              "    80% {\n",
              "      border-color: transparent;\n",
              "      border-right-color: var(--fill-color);\n",
              "      border-bottom-color: var(--fill-color);\n",
              "    }\n",
              "    90% {\n",
              "      border-color: transparent;\n",
              "      border-bottom-color: var(--fill-color);\n",
              "    }\n",
              "  }\n",
              "</style>\n",
              "\n",
              "  <script>\n",
              "    async function quickchart(key) {\n",
              "      const quickchartButtonEl =\n",
              "        document.querySelector('#' + key + ' button');\n",
              "      quickchartButtonEl.disabled = true;  // To prevent multiple clicks.\n",
              "      quickchartButtonEl.classList.add('colab-df-spinner');\n",
              "      try {\n",
              "        const charts = await google.colab.kernel.invokeFunction(\n",
              "            'suggestCharts', [key], {});\n",
              "      } catch (error) {\n",
              "        console.error('Error during call to suggestCharts:', error);\n",
              "      }\n",
              "      quickchartButtonEl.classList.remove('colab-df-spinner');\n",
              "      quickchartButtonEl.classList.add('colab-df-quickchart-complete');\n",
              "    }\n",
              "    (() => {\n",
              "      let quickchartButtonEl =\n",
              "        document.querySelector('#df-c45e1f54-3673-4a55-b012-a7397d01a9c3 button');\n",
              "      quickchartButtonEl.style.display =\n",
              "        google.colab.kernel.accessAllowed ? 'block' : 'none';\n",
              "    })();\n",
              "  </script>\n",
              "</div>\n",
              "\n",
              "  <div id=\"id_553fcb89-ee12-4863-a94f-c78fce96b9e5\">\n",
              "    <style>\n",
              "      .colab-df-generate {\n",
              "        background-color: #E8F0FE;\n",
              "        border: none;\n",
              "        border-radius: 50%;\n",
              "        cursor: pointer;\n",
              "        display: none;\n",
              "        fill: #1967D2;\n",
              "        height: 32px;\n",
              "        padding: 0 0 0 0;\n",
              "        width: 32px;\n",
              "      }\n",
              "\n",
              "      .colab-df-generate:hover {\n",
              "        background-color: #E2EBFA;\n",
              "        box-shadow: 0px 1px 2px rgba(60, 64, 67, 0.3), 0px 1px 3px 1px rgba(60, 64, 67, 0.15);\n",
              "        fill: #174EA6;\n",
              "      }\n",
              "\n",
              "      [theme=dark] .colab-df-generate {\n",
              "        background-color: #3B4455;\n",
              "        fill: #D2E3FC;\n",
              "      }\n",
              "\n",
              "      [theme=dark] .colab-df-generate:hover {\n",
              "        background-color: #434B5C;\n",
              "        box-shadow: 0px 1px 3px 1px rgba(0, 0, 0, 0.15);\n",
              "        filter: drop-shadow(0px 1px 2px rgba(0, 0, 0, 0.3));\n",
              "        fill: #FFFFFF;\n",
              "      }\n",
              "    </style>\n",
              "    <button class=\"colab-df-generate\" onclick=\"generateWithVariable('df')\"\n",
              "            title=\"Generate code using this dataframe.\"\n",
              "            style=\"display:none;\">\n",
              "\n",
              "  <svg xmlns=\"http://www.w3.org/2000/svg\" height=\"24px\"viewBox=\"0 0 24 24\"\n",
              "       width=\"24px\">\n",
              "    <path d=\"M7,19H8.4L18.45,9,17,7.55,7,17.6ZM5,21V16.75L18.45,3.32a2,2,0,0,1,2.83,0l1.4,1.43a1.91,1.91,0,0,1,.58,1.4,1.91,1.91,0,0,1-.58,1.4L9.25,21ZM18.45,9,17,7.55Zm-12,3A5.31,5.31,0,0,0,4.9,8.1,5.31,5.31,0,0,0,1,6.5,5.31,5.31,0,0,0,4.9,4.9,5.31,5.31,0,0,0,6.5,1,5.31,5.31,0,0,0,8.1,4.9,5.31,5.31,0,0,0,12,6.5,5.46,5.46,0,0,0,6.5,12Z\"/>\n",
              "  </svg>\n",
              "    </button>\n",
              "    <script>\n",
              "      (() => {\n",
              "      const buttonEl =\n",
              "        document.querySelector('#id_553fcb89-ee12-4863-a94f-c78fce96b9e5 button.colab-df-generate');\n",
              "      buttonEl.style.display =\n",
              "        google.colab.kernel.accessAllowed ? 'block' : 'none';\n",
              "\n",
              "      buttonEl.onclick = () => {\n",
              "        google.colab.notebook.generateWithVariable('df');\n",
              "      }\n",
              "      })();\n",
              "    </script>\n",
              "  </div>\n",
              "\n",
              "    </div>\n",
              "  </div>\n"
            ],
            "application/vnd.google.colaboratory.intrinsic+json": {
              "type": "dataframe",
              "variable_name": "df"
            }
          },
          "metadata": {},
          "execution_count": 15
        }
      ],
      "source": [
        "df"
      ]
    },
    {
      "cell_type": "code",
      "execution_count": null,
      "metadata": {
        "id": "e8OGAR323gSf"
      },
      "outputs": [],
      "source": [
        "df = df.astype(float)"
      ]
    },
    {
      "cell_type": "code",
      "execution_count": null,
      "metadata": {
        "id": "x-1ZdvNf3goo"
      },
      "outputs": [],
      "source": [
        "df.fillna(0,inplace=True)"
      ]
    },
    {
      "cell_type": "code",
      "execution_count": null,
      "metadata": {
        "id": "Qfyi2FPPLyKf"
      },
      "outputs": [],
      "source": [
        "column_to_retain = 'PM25_BCDDC247BFE3'\n",
        "retained_columns = df.columns[df.columns.get_loc(column_to_retain):]\n",
        "df_retained = df.loc[:, :column_to_retain]\n"
      ]
    },
    {
      "cell_type": "code",
      "execution_count": null,
      "metadata": {
        "id": "O63wItgQL4Jy"
      },
      "outputs": [],
      "source": [
        "df = df_retained"
      ]
    },
    {
      "cell_type": "code",
      "execution_count": null,
      "metadata": {
        "colab": {
          "base_uri": "https://localhost:8080/"
        },
        "id": "t57eUhyb3grV",
        "outputId": "5ecd9b23-0132-4fec-f3fe-9634d61d0b7a"
      },
      "outputs": [
        {
          "output_type": "stream",
          "name": "stdout",
          "text": [
            "count    439200.000000\n",
            "mean         12.417611\n",
            "std          42.963702\n",
            "min           0.000000\n",
            "25%           0.000000\n",
            "50%           0.000000\n",
            "75%           0.000000\n",
            "max         749.919231\n",
            "dtype: float64\n"
          ]
        }
      ],
      "source": [
        "all_df = pd.concat([df[col] for col in df.columns ])\n",
        "overall_stats = all_df.describe()\n",
        "print(overall_stats)"
      ]
    },
    {
      "cell_type": "code",
      "execution_count": null,
      "metadata": {
        "colab": {
          "base_uri": "https://localhost:8080/"
        },
        "id": "iyAQcckN3gt6",
        "outputId": "6e99b79c-b696-4d28-adbc-53bdfed52cbf"
      },
      "outputs": [
        {
          "output_type": "execute_result",
          "data": {
            "text/plain": [
              "239.28333333333333"
            ]
          },
          "metadata": {},
          "execution_count": 21
        }
      ],
      "source": [
        "all_df.quantile(0.99)"
      ]
    },
    {
      "cell_type": "code",
      "execution_count": null,
      "metadata": {
        "id": "9U9fx0Mz9FsH"
      },
      "outputs": [],
      "source": [
        "def split_dataframe(df, test_size=0.2, random_state=None):\n",
        "    df_transposed = df.transpose()\n",
        "    train_df, test_df = train_test_split(df_transposed, test_size=test_size, random_state=random_state)\n",
        "    train_df = train_df.transpose()\n",
        "    test_df = test_df.transpose()\n",
        "    return train_df, test_df"
      ]
    },
    {
      "cell_type": "code",
      "execution_count": null,
      "metadata": {
        "id": "ncYgxkr29Knm"
      },
      "outputs": [],
      "source": [
        "def target_l(pm25, threshold):\n",
        "    y = pd.DataFrame(index=pm25.index, columns=pm25.columns)\n",
        "    for column in pm25.columns:\n",
        "        y[column] = ((pm25[column] > 0) & (pm25[column] < threshold)).astype(int)\n",
        "    return y"
      ]
    },
    {
      "cell_type": "code",
      "execution_count": null,
      "metadata": {
        "id": "Ok6BZrHL3g00"
      },
      "outputs": [],
      "source": [
        "train_DF, test_DF = split_dataframe(df, test_size=0.2, random_state=42)"
      ]
    },
    {
      "cell_type": "code",
      "execution_count": null,
      "metadata": {
        "colab": {
          "base_uri": "https://localhost:8080/"
        },
        "id": "tCI4c9xOJIgC",
        "outputId": "5c34ae48-6958-4389-8f8d-81a27459753b"
      },
      "outputs": [
        {
          "output_type": "execute_result",
          "data": {
            "text/plain": [
              "((7320, 48), (7320, 12))"
            ]
          },
          "metadata": {},
          "execution_count": 25
        }
      ],
      "source": [
        "train_DF.shape, test_DF.shape"
      ]
    },
    {
      "cell_type": "code",
      "execution_count": null,
      "metadata": {
        "id": "1gN8_ViS9Ya6"
      },
      "outputs": [],
      "source": [
        "threshold = all_df.quantile(1)\n",
        "y1 = target_l(train_DF, threshold)\n",
        "ytr = target_l(test_DF, threshold)"
      ]
    },
    {
      "cell_type": "code",
      "execution_count": null,
      "metadata": {
        "colab": {
          "base_uri": "https://localhost:8080/"
        },
        "id": "u1th8-5C3g36",
        "outputId": "d20d5e16-d4e3-40dc-875e-9abb4fe61f26"
      },
      "outputs": [
        {
          "output_type": "stream",
          "name": "stdout",
          "text": [
            "0    271404\n",
            "1     79956\n",
            "Name: count, dtype: int64\n"
          ]
        }
      ],
      "source": [
        "all_counts = y1.stack().value_counts()\n",
        "print(all_counts)"
      ]
    },
    {
      "cell_type": "code",
      "execution_count": null,
      "metadata": {
        "id": "RL71SD8X3g7-"
      },
      "outputs": [],
      "source": []
    },
    {
      "cell_type": "markdown",
      "metadata": {
        "id": "PINGHbkG65Hw"
      },
      "source": [
        "## Data\n"
      ]
    },
    {
      "cell_type": "code",
      "execution_count": null,
      "metadata": {
        "id": "QLfkML8B3hDa"
      },
      "outputs": [],
      "source": [
        "pm25 = pd.read_csv('/content/drive/MyDrive/Fault_Detection Data/data/faulty_devices_data_PM25.csv')"
      ]
    },
    {
      "cell_type": "code",
      "execution_count": null,
      "metadata": {
        "id": "3lG6oPCZhZ3t"
      },
      "outputs": [],
      "source": [
        "pm25.fillna(0,inplace=True)"
      ]
    },
    {
      "cell_type": "code",
      "execution_count": null,
      "metadata": {
        "colab": {
          "base_uri": "https://localhost:8080/",
          "height": 808
        },
        "id": "x_v6NAQGhf36",
        "outputId": "2eb7a477-a6ea-4b78-f7ba-ffc9a07cf160"
      },
      "outputs": [
        {
          "output_type": "execute_result",
          "data": {
            "text/plain": [
              "                Unnamed: 0  1201230029_pm_25  1201230052_pm_25  \\\n",
              "0      2023-03-24 17:00:00               0.0               0.0   \n",
              "1      2023-03-24 17:30:00               0.0               0.0   \n",
              "2      2023-03-24 18:00:00               0.0               0.0   \n",
              "3      2023-03-24 18:30:00               0.0               0.0   \n",
              "4      2023-03-24 19:00:00               0.0               0.0   \n",
              "...                    ...               ...               ...   \n",
              "15899  2024-02-19 07:30:00             201.0               0.0   \n",
              "15900  2024-02-19 08:00:00             142.0               0.0   \n",
              "15901  2024-02-19 08:30:00             127.0               0.0   \n",
              "15902  2024-02-19 09:00:00             116.0               0.0   \n",
              "15903  2024-02-19 09:30:00               0.0               0.0   \n",
              "\n",
              "       1212220153_pm_25  1201230074_pm_25  1201230034_pm_25  1211220016_pm_25  \\\n",
              "0                   0.0               0.0               0.0               0.0   \n",
              "1                   0.0               0.0               0.0               0.0   \n",
              "2                   0.0               0.0               0.0               0.0   \n",
              "3                   0.0               0.0               0.0               0.0   \n",
              "4                   0.0               0.0               0.0               0.0   \n",
              "...                 ...               ...               ...               ...   \n",
              "15899             192.0               0.0               0.0               0.0   \n",
              "15900             183.0               0.0               0.0               0.0   \n",
              "15901             170.0               0.0               0.0               0.0   \n",
              "15902             153.0               0.0               0.0               0.0   \n",
              "15903               0.0               0.0               0.0               0.0   \n",
              "\n",
              "       1212220155_pm_25  1211220119_pm_25  1212220137_pm_25  ...  \\\n",
              "0                   0.0               0.0               0.0  ...   \n",
              "1                   0.0               0.0               0.0  ...   \n",
              "2                   0.0               0.0               0.0  ...   \n",
              "3                   0.0               0.0               0.0  ...   \n",
              "4                   0.0               0.0               0.0  ...   \n",
              "...                 ...               ...               ...  ...   \n",
              "15899               0.0               0.0               0.0  ...   \n",
              "15900               0.0               0.0               0.0  ...   \n",
              "15901               0.0               0.0               0.0  ...   \n",
              "15902               0.0               0.0               0.0  ...   \n",
              "15903               0.0               0.0               0.0  ...   \n",
              "\n",
              "       1203230034_pm_25  1203230061_pm_25  1212220164_pm_25  1201230032_pm_25  \\\n",
              "0                   0.0               0.0               0.0               0.0   \n",
              "1                   0.0               0.0               0.0               0.0   \n",
              "2                   0.0               0.0               0.0               0.0   \n",
              "3                   0.0               0.0               0.0               0.0   \n",
              "4                   0.0               0.0               0.0               0.0   \n",
              "...                 ...               ...               ...               ...   \n",
              "15899               0.0               0.0               0.0             234.0   \n",
              "15900             142.0               0.0               0.0             164.0   \n",
              "15901             115.0               0.0               0.0             127.0   \n",
              "15902              88.0               0.0               0.0              96.0   \n",
              "15903              85.0               0.0               0.0              93.0   \n",
              "\n",
              "       1212220043_pm_25  1212220050_pm_25  1211220002_pm_25  1212220019_pm_25  \\\n",
              "0                   0.0               0.0               0.0               0.0   \n",
              "1                   0.0               0.0               0.0               0.0   \n",
              "2                   0.0               0.0               0.0               0.0   \n",
              "3                   0.0               0.0               0.0               0.0   \n",
              "4                   0.0               0.0               0.0               0.0   \n",
              "...                 ...               ...               ...               ...   \n",
              "15899             315.0               0.0               0.0             284.0   \n",
              "15900             269.0               0.0               0.0             244.0   \n",
              "15901             227.0               0.0               0.0             187.0   \n",
              "15902             180.0               0.0               0.0             154.0   \n",
              "15903             125.0               0.0               0.0             125.0   \n",
              "\n",
              "       1210220013_pm_25  1211220089_pm_25  \n",
              "0                   0.0               0.0  \n",
              "1                   0.0               0.0  \n",
              "2                   0.0               0.0  \n",
              "3                   0.0               0.0  \n",
              "4                   0.0               0.0  \n",
              "...                 ...               ...  \n",
              "15899               0.0               0.0  \n",
              "15900               0.0               0.0  \n",
              "15901               0.0               0.0  \n",
              "15902               0.0               0.0  \n",
              "15903               0.0               0.0  \n",
              "\n",
              "[15904 rows x 107 columns]"
            ],
            "text/html": [
              "\n",
              "  <div id=\"df-bd0b2c84-2667-40a1-97f2-6e356b7ae6e6\" class=\"colab-df-container\">\n",
              "    <div>\n",
              "<style scoped>\n",
              "    .dataframe tbody tr th:only-of-type {\n",
              "        vertical-align: middle;\n",
              "    }\n",
              "\n",
              "    .dataframe tbody tr th {\n",
              "        vertical-align: top;\n",
              "    }\n",
              "\n",
              "    .dataframe thead th {\n",
              "        text-align: right;\n",
              "    }\n",
              "</style>\n",
              "<table border=\"1\" class=\"dataframe\">\n",
              "  <thead>\n",
              "    <tr style=\"text-align: right;\">\n",
              "      <th></th>\n",
              "      <th>Unnamed: 0</th>\n",
              "      <th>1201230029_pm_25</th>\n",
              "      <th>1201230052_pm_25</th>\n",
              "      <th>1212220153_pm_25</th>\n",
              "      <th>1201230074_pm_25</th>\n",
              "      <th>1201230034_pm_25</th>\n",
              "      <th>1211220016_pm_25</th>\n",
              "      <th>1212220155_pm_25</th>\n",
              "      <th>1211220119_pm_25</th>\n",
              "      <th>1212220137_pm_25</th>\n",
              "      <th>...</th>\n",
              "      <th>1203230034_pm_25</th>\n",
              "      <th>1203230061_pm_25</th>\n",
              "      <th>1212220164_pm_25</th>\n",
              "      <th>1201230032_pm_25</th>\n",
              "      <th>1212220043_pm_25</th>\n",
              "      <th>1212220050_pm_25</th>\n",
              "      <th>1211220002_pm_25</th>\n",
              "      <th>1212220019_pm_25</th>\n",
              "      <th>1210220013_pm_25</th>\n",
              "      <th>1211220089_pm_25</th>\n",
              "    </tr>\n",
              "  </thead>\n",
              "  <tbody>\n",
              "    <tr>\n",
              "      <th>0</th>\n",
              "      <td>2023-03-24 17:00:00</td>\n",
              "      <td>0.0</td>\n",
              "      <td>0.0</td>\n",
              "      <td>0.0</td>\n",
              "      <td>0.0</td>\n",
              "      <td>0.0</td>\n",
              "      <td>0.0</td>\n",
              "      <td>0.0</td>\n",
              "      <td>0.0</td>\n",
              "      <td>0.0</td>\n",
              "      <td>...</td>\n",
              "      <td>0.0</td>\n",
              "      <td>0.0</td>\n",
              "      <td>0.0</td>\n",
              "      <td>0.0</td>\n",
              "      <td>0.0</td>\n",
              "      <td>0.0</td>\n",
              "      <td>0.0</td>\n",
              "      <td>0.0</td>\n",
              "      <td>0.0</td>\n",
              "      <td>0.0</td>\n",
              "    </tr>\n",
              "    <tr>\n",
              "      <th>1</th>\n",
              "      <td>2023-03-24 17:30:00</td>\n",
              "      <td>0.0</td>\n",
              "      <td>0.0</td>\n",
              "      <td>0.0</td>\n",
              "      <td>0.0</td>\n",
              "      <td>0.0</td>\n",
              "      <td>0.0</td>\n",
              "      <td>0.0</td>\n",
              "      <td>0.0</td>\n",
              "      <td>0.0</td>\n",
              "      <td>...</td>\n",
              "      <td>0.0</td>\n",
              "      <td>0.0</td>\n",
              "      <td>0.0</td>\n",
              "      <td>0.0</td>\n",
              "      <td>0.0</td>\n",
              "      <td>0.0</td>\n",
              "      <td>0.0</td>\n",
              "      <td>0.0</td>\n",
              "      <td>0.0</td>\n",
              "      <td>0.0</td>\n",
              "    </tr>\n",
              "    <tr>\n",
              "      <th>2</th>\n",
              "      <td>2023-03-24 18:00:00</td>\n",
              "      <td>0.0</td>\n",
              "      <td>0.0</td>\n",
              "      <td>0.0</td>\n",
              "      <td>0.0</td>\n",
              "      <td>0.0</td>\n",
              "      <td>0.0</td>\n",
              "      <td>0.0</td>\n",
              "      <td>0.0</td>\n",
              "      <td>0.0</td>\n",
              "      <td>...</td>\n",
              "      <td>0.0</td>\n",
              "      <td>0.0</td>\n",
              "      <td>0.0</td>\n",
              "      <td>0.0</td>\n",
              "      <td>0.0</td>\n",
              "      <td>0.0</td>\n",
              "      <td>0.0</td>\n",
              "      <td>0.0</td>\n",
              "      <td>0.0</td>\n",
              "      <td>0.0</td>\n",
              "    </tr>\n",
              "    <tr>\n",
              "      <th>3</th>\n",
              "      <td>2023-03-24 18:30:00</td>\n",
              "      <td>0.0</td>\n",
              "      <td>0.0</td>\n",
              "      <td>0.0</td>\n",
              "      <td>0.0</td>\n",
              "      <td>0.0</td>\n",
              "      <td>0.0</td>\n",
              "      <td>0.0</td>\n",
              "      <td>0.0</td>\n",
              "      <td>0.0</td>\n",
              "      <td>...</td>\n",
              "      <td>0.0</td>\n",
              "      <td>0.0</td>\n",
              "      <td>0.0</td>\n",
              "      <td>0.0</td>\n",
              "      <td>0.0</td>\n",
              "      <td>0.0</td>\n",
              "      <td>0.0</td>\n",
              "      <td>0.0</td>\n",
              "      <td>0.0</td>\n",
              "      <td>0.0</td>\n",
              "    </tr>\n",
              "    <tr>\n",
              "      <th>4</th>\n",
              "      <td>2023-03-24 19:00:00</td>\n",
              "      <td>0.0</td>\n",
              "      <td>0.0</td>\n",
              "      <td>0.0</td>\n",
              "      <td>0.0</td>\n",
              "      <td>0.0</td>\n",
              "      <td>0.0</td>\n",
              "      <td>0.0</td>\n",
              "      <td>0.0</td>\n",
              "      <td>0.0</td>\n",
              "      <td>...</td>\n",
              "      <td>0.0</td>\n",
              "      <td>0.0</td>\n",
              "      <td>0.0</td>\n",
              "      <td>0.0</td>\n",
              "      <td>0.0</td>\n",
              "      <td>0.0</td>\n",
              "      <td>0.0</td>\n",
              "      <td>0.0</td>\n",
              "      <td>0.0</td>\n",
              "      <td>0.0</td>\n",
              "    </tr>\n",
              "    <tr>\n",
              "      <th>...</th>\n",
              "      <td>...</td>\n",
              "      <td>...</td>\n",
              "      <td>...</td>\n",
              "      <td>...</td>\n",
              "      <td>...</td>\n",
              "      <td>...</td>\n",
              "      <td>...</td>\n",
              "      <td>...</td>\n",
              "      <td>...</td>\n",
              "      <td>...</td>\n",
              "      <td>...</td>\n",
              "      <td>...</td>\n",
              "      <td>...</td>\n",
              "      <td>...</td>\n",
              "      <td>...</td>\n",
              "      <td>...</td>\n",
              "      <td>...</td>\n",
              "      <td>...</td>\n",
              "      <td>...</td>\n",
              "      <td>...</td>\n",
              "      <td>...</td>\n",
              "    </tr>\n",
              "    <tr>\n",
              "      <th>15899</th>\n",
              "      <td>2024-02-19 07:30:00</td>\n",
              "      <td>201.0</td>\n",
              "      <td>0.0</td>\n",
              "      <td>192.0</td>\n",
              "      <td>0.0</td>\n",
              "      <td>0.0</td>\n",
              "      <td>0.0</td>\n",
              "      <td>0.0</td>\n",
              "      <td>0.0</td>\n",
              "      <td>0.0</td>\n",
              "      <td>...</td>\n",
              "      <td>0.0</td>\n",
              "      <td>0.0</td>\n",
              "      <td>0.0</td>\n",
              "      <td>234.0</td>\n",
              "      <td>315.0</td>\n",
              "      <td>0.0</td>\n",
              "      <td>0.0</td>\n",
              "      <td>284.0</td>\n",
              "      <td>0.0</td>\n",
              "      <td>0.0</td>\n",
              "    </tr>\n",
              "    <tr>\n",
              "      <th>15900</th>\n",
              "      <td>2024-02-19 08:00:00</td>\n",
              "      <td>142.0</td>\n",
              "      <td>0.0</td>\n",
              "      <td>183.0</td>\n",
              "      <td>0.0</td>\n",
              "      <td>0.0</td>\n",
              "      <td>0.0</td>\n",
              "      <td>0.0</td>\n",
              "      <td>0.0</td>\n",
              "      <td>0.0</td>\n",
              "      <td>...</td>\n",
              "      <td>142.0</td>\n",
              "      <td>0.0</td>\n",
              "      <td>0.0</td>\n",
              "      <td>164.0</td>\n",
              "      <td>269.0</td>\n",
              "      <td>0.0</td>\n",
              "      <td>0.0</td>\n",
              "      <td>244.0</td>\n",
              "      <td>0.0</td>\n",
              "      <td>0.0</td>\n",
              "    </tr>\n",
              "    <tr>\n",
              "      <th>15901</th>\n",
              "      <td>2024-02-19 08:30:00</td>\n",
              "      <td>127.0</td>\n",
              "      <td>0.0</td>\n",
              "      <td>170.0</td>\n",
              "      <td>0.0</td>\n",
              "      <td>0.0</td>\n",
              "      <td>0.0</td>\n",
              "      <td>0.0</td>\n",
              "      <td>0.0</td>\n",
              "      <td>0.0</td>\n",
              "      <td>...</td>\n",
              "      <td>115.0</td>\n",
              "      <td>0.0</td>\n",
              "      <td>0.0</td>\n",
              "      <td>127.0</td>\n",
              "      <td>227.0</td>\n",
              "      <td>0.0</td>\n",
              "      <td>0.0</td>\n",
              "      <td>187.0</td>\n",
              "      <td>0.0</td>\n",
              "      <td>0.0</td>\n",
              "    </tr>\n",
              "    <tr>\n",
              "      <th>15902</th>\n",
              "      <td>2024-02-19 09:00:00</td>\n",
              "      <td>116.0</td>\n",
              "      <td>0.0</td>\n",
              "      <td>153.0</td>\n",
              "      <td>0.0</td>\n",
              "      <td>0.0</td>\n",
              "      <td>0.0</td>\n",
              "      <td>0.0</td>\n",
              "      <td>0.0</td>\n",
              "      <td>0.0</td>\n",
              "      <td>...</td>\n",
              "      <td>88.0</td>\n",
              "      <td>0.0</td>\n",
              "      <td>0.0</td>\n",
              "      <td>96.0</td>\n",
              "      <td>180.0</td>\n",
              "      <td>0.0</td>\n",
              "      <td>0.0</td>\n",
              "      <td>154.0</td>\n",
              "      <td>0.0</td>\n",
              "      <td>0.0</td>\n",
              "    </tr>\n",
              "    <tr>\n",
              "      <th>15903</th>\n",
              "      <td>2024-02-19 09:30:00</td>\n",
              "      <td>0.0</td>\n",
              "      <td>0.0</td>\n",
              "      <td>0.0</td>\n",
              "      <td>0.0</td>\n",
              "      <td>0.0</td>\n",
              "      <td>0.0</td>\n",
              "      <td>0.0</td>\n",
              "      <td>0.0</td>\n",
              "      <td>0.0</td>\n",
              "      <td>...</td>\n",
              "      <td>85.0</td>\n",
              "      <td>0.0</td>\n",
              "      <td>0.0</td>\n",
              "      <td>93.0</td>\n",
              "      <td>125.0</td>\n",
              "      <td>0.0</td>\n",
              "      <td>0.0</td>\n",
              "      <td>125.0</td>\n",
              "      <td>0.0</td>\n",
              "      <td>0.0</td>\n",
              "    </tr>\n",
              "  </tbody>\n",
              "</table>\n",
              "<p>15904 rows × 107 columns</p>\n",
              "</div>\n",
              "    <div class=\"colab-df-buttons\">\n",
              "\n",
              "  <div class=\"colab-df-container\">\n",
              "    <button class=\"colab-df-convert\" onclick=\"convertToInteractive('df-bd0b2c84-2667-40a1-97f2-6e356b7ae6e6')\"\n",
              "            title=\"Convert this dataframe to an interactive table.\"\n",
              "            style=\"display:none;\">\n",
              "\n",
              "  <svg xmlns=\"http://www.w3.org/2000/svg\" height=\"24px\" viewBox=\"0 -960 960 960\">\n",
              "    <path d=\"M120-120v-720h720v720H120Zm60-500h600v-160H180v160Zm220 220h160v-160H400v160Zm0 220h160v-160H400v160ZM180-400h160v-160H180v160Zm440 0h160v-160H620v160ZM180-180h160v-160H180v160Zm440 0h160v-160H620v160Z\"/>\n",
              "  </svg>\n",
              "    </button>\n",
              "\n",
              "  <style>\n",
              "    .colab-df-container {\n",
              "      display:flex;\n",
              "      gap: 12px;\n",
              "    }\n",
              "\n",
              "    .colab-df-convert {\n",
              "      background-color: #E8F0FE;\n",
              "      border: none;\n",
              "      border-radius: 50%;\n",
              "      cursor: pointer;\n",
              "      display: none;\n",
              "      fill: #1967D2;\n",
              "      height: 32px;\n",
              "      padding: 0 0 0 0;\n",
              "      width: 32px;\n",
              "    }\n",
              "\n",
              "    .colab-df-convert:hover {\n",
              "      background-color: #E2EBFA;\n",
              "      box-shadow: 0px 1px 2px rgba(60, 64, 67, 0.3), 0px 1px 3px 1px rgba(60, 64, 67, 0.15);\n",
              "      fill: #174EA6;\n",
              "    }\n",
              "\n",
              "    .colab-df-buttons div {\n",
              "      margin-bottom: 4px;\n",
              "    }\n",
              "\n",
              "    [theme=dark] .colab-df-convert {\n",
              "      background-color: #3B4455;\n",
              "      fill: #D2E3FC;\n",
              "    }\n",
              "\n",
              "    [theme=dark] .colab-df-convert:hover {\n",
              "      background-color: #434B5C;\n",
              "      box-shadow: 0px 1px 3px 1px rgba(0, 0, 0, 0.15);\n",
              "      filter: drop-shadow(0px 1px 2px rgba(0, 0, 0, 0.3));\n",
              "      fill: #FFFFFF;\n",
              "    }\n",
              "  </style>\n",
              "\n",
              "    <script>\n",
              "      const buttonEl =\n",
              "        document.querySelector('#df-bd0b2c84-2667-40a1-97f2-6e356b7ae6e6 button.colab-df-convert');\n",
              "      buttonEl.style.display =\n",
              "        google.colab.kernel.accessAllowed ? 'block' : 'none';\n",
              "\n",
              "      async function convertToInteractive(key) {\n",
              "        const element = document.querySelector('#df-bd0b2c84-2667-40a1-97f2-6e356b7ae6e6');\n",
              "        const dataTable =\n",
              "          await google.colab.kernel.invokeFunction('convertToInteractive',\n",
              "                                                    [key], {});\n",
              "        if (!dataTable) return;\n",
              "\n",
              "        const docLinkHtml = 'Like what you see? Visit the ' +\n",
              "          '<a target=\"_blank\" href=https://colab.research.google.com/notebooks/data_table.ipynb>data table notebook</a>'\n",
              "          + ' to learn more about interactive tables.';\n",
              "        element.innerHTML = '';\n",
              "        dataTable['output_type'] = 'display_data';\n",
              "        await google.colab.output.renderOutput(dataTable, element);\n",
              "        const docLink = document.createElement('div');\n",
              "        docLink.innerHTML = docLinkHtml;\n",
              "        element.appendChild(docLink);\n",
              "      }\n",
              "    </script>\n",
              "  </div>\n",
              "\n",
              "\n",
              "<div id=\"df-5c9233bc-ee87-4759-bafa-dcc62e204864\">\n",
              "  <button class=\"colab-df-quickchart\" onclick=\"quickchart('df-5c9233bc-ee87-4759-bafa-dcc62e204864')\"\n",
              "            title=\"Suggest charts\"\n",
              "            style=\"display:none;\">\n",
              "\n",
              "<svg xmlns=\"http://www.w3.org/2000/svg\" height=\"24px\"viewBox=\"0 0 24 24\"\n",
              "     width=\"24px\">\n",
              "    <g>\n",
              "        <path d=\"M19 3H5c-1.1 0-2 .9-2 2v14c0 1.1.9 2 2 2h14c1.1 0 2-.9 2-2V5c0-1.1-.9-2-2-2zM9 17H7v-7h2v7zm4 0h-2V7h2v10zm4 0h-2v-4h2v4z\"/>\n",
              "    </g>\n",
              "</svg>\n",
              "  </button>\n",
              "\n",
              "<style>\n",
              "  .colab-df-quickchart {\n",
              "      --bg-color: #E8F0FE;\n",
              "      --fill-color: #1967D2;\n",
              "      --hover-bg-color: #E2EBFA;\n",
              "      --hover-fill-color: #174EA6;\n",
              "      --disabled-fill-color: #AAA;\n",
              "      --disabled-bg-color: #DDD;\n",
              "  }\n",
              "\n",
              "  [theme=dark] .colab-df-quickchart {\n",
              "      --bg-color: #3B4455;\n",
              "      --fill-color: #D2E3FC;\n",
              "      --hover-bg-color: #434B5C;\n",
              "      --hover-fill-color: #FFFFFF;\n",
              "      --disabled-bg-color: #3B4455;\n",
              "      --disabled-fill-color: #666;\n",
              "  }\n",
              "\n",
              "  .colab-df-quickchart {\n",
              "    background-color: var(--bg-color);\n",
              "    border: none;\n",
              "    border-radius: 50%;\n",
              "    cursor: pointer;\n",
              "    display: none;\n",
              "    fill: var(--fill-color);\n",
              "    height: 32px;\n",
              "    padding: 0;\n",
              "    width: 32px;\n",
              "  }\n",
              "\n",
              "  .colab-df-quickchart:hover {\n",
              "    background-color: var(--hover-bg-color);\n",
              "    box-shadow: 0 1px 2px rgba(60, 64, 67, 0.3), 0 1px 3px 1px rgba(60, 64, 67, 0.15);\n",
              "    fill: var(--button-hover-fill-color);\n",
              "  }\n",
              "\n",
              "  .colab-df-quickchart-complete:disabled,\n",
              "  .colab-df-quickchart-complete:disabled:hover {\n",
              "    background-color: var(--disabled-bg-color);\n",
              "    fill: var(--disabled-fill-color);\n",
              "    box-shadow: none;\n",
              "  }\n",
              "\n",
              "  .colab-df-spinner {\n",
              "    border: 2px solid var(--fill-color);\n",
              "    border-color: transparent;\n",
              "    border-bottom-color: var(--fill-color);\n",
              "    animation:\n",
              "      spin 1s steps(1) infinite;\n",
              "  }\n",
              "\n",
              "  @keyframes spin {\n",
              "    0% {\n",
              "      border-color: transparent;\n",
              "      border-bottom-color: var(--fill-color);\n",
              "      border-left-color: var(--fill-color);\n",
              "    }\n",
              "    20% {\n",
              "      border-color: transparent;\n",
              "      border-left-color: var(--fill-color);\n",
              "      border-top-color: var(--fill-color);\n",
              "    }\n",
              "    30% {\n",
              "      border-color: transparent;\n",
              "      border-left-color: var(--fill-color);\n",
              "      border-top-color: var(--fill-color);\n",
              "      border-right-color: var(--fill-color);\n",
              "    }\n",
              "    40% {\n",
              "      border-color: transparent;\n",
              "      border-right-color: var(--fill-color);\n",
              "      border-top-color: var(--fill-color);\n",
              "    }\n",
              "    60% {\n",
              "      border-color: transparent;\n",
              "      border-right-color: var(--fill-color);\n",
              "    }\n",
              "    80% {\n",
              "      border-color: transparent;\n",
              "      border-right-color: var(--fill-color);\n",
              "      border-bottom-color: var(--fill-color);\n",
              "    }\n",
              "    90% {\n",
              "      border-color: transparent;\n",
              "      border-bottom-color: var(--fill-color);\n",
              "    }\n",
              "  }\n",
              "</style>\n",
              "\n",
              "  <script>\n",
              "    async function quickchart(key) {\n",
              "      const quickchartButtonEl =\n",
              "        document.querySelector('#' + key + ' button');\n",
              "      quickchartButtonEl.disabled = true;  // To prevent multiple clicks.\n",
              "      quickchartButtonEl.classList.add('colab-df-spinner');\n",
              "      try {\n",
              "        const charts = await google.colab.kernel.invokeFunction(\n",
              "            'suggestCharts', [key], {});\n",
              "      } catch (error) {\n",
              "        console.error('Error during call to suggestCharts:', error);\n",
              "      }\n",
              "      quickchartButtonEl.classList.remove('colab-df-spinner');\n",
              "      quickchartButtonEl.classList.add('colab-df-quickchart-complete');\n",
              "    }\n",
              "    (() => {\n",
              "      let quickchartButtonEl =\n",
              "        document.querySelector('#df-5c9233bc-ee87-4759-bafa-dcc62e204864 button');\n",
              "      quickchartButtonEl.style.display =\n",
              "        google.colab.kernel.accessAllowed ? 'block' : 'none';\n",
              "    })();\n",
              "  </script>\n",
              "</div>\n",
              "\n",
              "  <div id=\"id_47b5f4fa-c099-421c-a779-a61152a22f3b\">\n",
              "    <style>\n",
              "      .colab-df-generate {\n",
              "        background-color: #E8F0FE;\n",
              "        border: none;\n",
              "        border-radius: 50%;\n",
              "        cursor: pointer;\n",
              "        display: none;\n",
              "        fill: #1967D2;\n",
              "        height: 32px;\n",
              "        padding: 0 0 0 0;\n",
              "        width: 32px;\n",
              "      }\n",
              "\n",
              "      .colab-df-generate:hover {\n",
              "        background-color: #E2EBFA;\n",
              "        box-shadow: 0px 1px 2px rgba(60, 64, 67, 0.3), 0px 1px 3px 1px rgba(60, 64, 67, 0.15);\n",
              "        fill: #174EA6;\n",
              "      }\n",
              "\n",
              "      [theme=dark] .colab-df-generate {\n",
              "        background-color: #3B4455;\n",
              "        fill: #D2E3FC;\n",
              "      }\n",
              "\n",
              "      [theme=dark] .colab-df-generate:hover {\n",
              "        background-color: #434B5C;\n",
              "        box-shadow: 0px 1px 3px 1px rgba(0, 0, 0, 0.15);\n",
              "        filter: drop-shadow(0px 1px 2px rgba(0, 0, 0, 0.3));\n",
              "        fill: #FFFFFF;\n",
              "      }\n",
              "    </style>\n",
              "    <button class=\"colab-df-generate\" onclick=\"generateWithVariable('pm25')\"\n",
              "            title=\"Generate code using this dataframe.\"\n",
              "            style=\"display:none;\">\n",
              "\n",
              "  <svg xmlns=\"http://www.w3.org/2000/svg\" height=\"24px\"viewBox=\"0 0 24 24\"\n",
              "       width=\"24px\">\n",
              "    <path d=\"M7,19H8.4L18.45,9,17,7.55,7,17.6ZM5,21V16.75L18.45,3.32a2,2,0,0,1,2.83,0l1.4,1.43a1.91,1.91,0,0,1,.58,1.4,1.91,1.91,0,0,1-.58,1.4L9.25,21ZM18.45,9,17,7.55Zm-12,3A5.31,5.31,0,0,0,4.9,8.1,5.31,5.31,0,0,0,1,6.5,5.31,5.31,0,0,0,4.9,4.9,5.31,5.31,0,0,0,6.5,1,5.31,5.31,0,0,0,8.1,4.9,5.31,5.31,0,0,0,12,6.5,5.46,5.46,0,0,0,6.5,12Z\"/>\n",
              "  </svg>\n",
              "    </button>\n",
              "    <script>\n",
              "      (() => {\n",
              "      const buttonEl =\n",
              "        document.querySelector('#id_47b5f4fa-c099-421c-a779-a61152a22f3b button.colab-df-generate');\n",
              "      buttonEl.style.display =\n",
              "        google.colab.kernel.accessAllowed ? 'block' : 'none';\n",
              "\n",
              "      buttonEl.onclick = () => {\n",
              "        google.colab.notebook.generateWithVariable('pm25');\n",
              "      }\n",
              "      })();\n",
              "    </script>\n",
              "  </div>\n",
              "\n",
              "    </div>\n",
              "  </div>\n"
            ],
            "application/vnd.google.colaboratory.intrinsic+json": {
              "type": "dataframe",
              "variable_name": "pm25"
            }
          },
          "metadata": {},
          "execution_count": 30
        }
      ],
      "source": [
        "pm25"
      ]
    },
    {
      "cell_type": "code",
      "execution_count": null,
      "metadata": {
        "colab": {
          "base_uri": "https://localhost:8080/"
        },
        "id": "1BZwoSDn_k1k",
        "outputId": "215071df-28e5-4cc8-ac1d-ea9e75229c6f"
      },
      "outputs": [
        {
          "output_type": "execute_result",
          "data": {
            "text/plain": [
              "Index(['Unnamed: 0', '1201230029_pm_25', '1201230052_pm_25',\n",
              "       '1212220153_pm_25', '1201230074_pm_25', '1201230034_pm_25',\n",
              "       '1211220016_pm_25', '1212220155_pm_25', '1211220119_pm_25',\n",
              "       '1212220137_pm_25',\n",
              "       ...\n",
              "       '1203230034_pm_25', '1203230061_pm_25', '1212220164_pm_25',\n",
              "       '1201230032_pm_25', '1212220043_pm_25', '1212220050_pm_25',\n",
              "       '1211220002_pm_25', '1212220019_pm_25', '1210220013_pm_25',\n",
              "       '1211220089_pm_25'],\n",
              "      dtype='object', length=107)"
            ]
          },
          "metadata": {},
          "execution_count": 31
        }
      ],
      "source": [
        "pm25.columns"
      ]
    },
    {
      "cell_type": "code",
      "execution_count": null,
      "metadata": {
        "id": "bUw0cpqVs5Vk"
      },
      "outputs": [],
      "source": [
        "pm25['Unnamed: 0'] = pd.to_datetime(pm25['Unnamed: 0'])\n",
        "pm25.set_index('Unnamed: 0', inplace=True)\n",
        "pm25 = pm25[pm25.index >= '2023-05-1']"
      ]
    },
    {
      "cell_type": "code",
      "execution_count": null,
      "metadata": {
        "colab": {
          "base_uri": "https://localhost:8080/"
        },
        "id": "HxJ-9I_G6XPy",
        "outputId": "2d40f6f2-2315-44d4-a88d-84666b37d096"
      },
      "outputs": [
        {
          "output_type": "execute_result",
          "data": {
            "text/plain": [
              "(14132, 106)"
            ]
          },
          "metadata": {},
          "execution_count": 33
        }
      ],
      "source": [
        "pm25.shape"
      ]
    },
    {
      "cell_type": "code",
      "execution_count": null,
      "metadata": {
        "colab": {
          "base_uri": "https://localhost:8080/"
        },
        "id": "ZOo_S2ORdELU",
        "outputId": "7ff5e4bd-1f05-4b96-f07f-68f375c5cefd"
      },
      "outputs": [
        {
          "output_type": "stream",
          "name": "stdout",
          "text": [
            "count    1.497992e+06\n",
            "mean     4.007151e+01\n",
            "std      9.829679e+01\n",
            "min      0.000000e+00\n",
            "25%      0.000000e+00\n",
            "50%      0.000000e+00\n",
            "75%      2.800000e+01\n",
            "max      4.002000e+03\n",
            "dtype: float64\n"
          ]
        }
      ],
      "source": [
        "#overall statistics\n",
        "all_data = pd.concat([pm25[col] for col in pm25.columns ])\n",
        "overall_stats = all_data.describe()\n",
        "print(overall_stats)"
      ]
    },
    {
      "cell_type": "code",
      "execution_count": null,
      "metadata": {
        "colab": {
          "base_uri": "https://localhost:8080/"
        },
        "id": "UMfTQGSCukjV",
        "outputId": "8afb1e31-e6b8-4510-a83c-bd5b4a41f135"
      },
      "outputs": [
        {
          "output_type": "stream",
          "name": "stdout",
          "text": [
            "Column with max value: 1203230054_pm_25\n"
          ]
        }
      ],
      "source": [
        "max_column = pm25.max().idxmax()\n",
        "print(\"Column with max value:\", max_column)"
      ]
    },
    {
      "cell_type": "code",
      "execution_count": null,
      "metadata": {
        "colab": {
          "base_uri": "https://localhost:8080/"
        },
        "id": "H9HhNfBRtwtu",
        "outputId": "f3fd3d1b-766b-4e1f-fd76-dd80f07cf9cc"
      },
      "outputs": [
        {
          "output_type": "execute_result",
          "data": {
            "text/plain": [
              "461.0"
            ]
          },
          "metadata": {},
          "execution_count": 36
        }
      ],
      "source": [
        "#to get 99 percentile\n",
        "all_data.quantile(0.99)"
      ]
    },
    {
      "cell_type": "code",
      "execution_count": null,
      "metadata": {
        "id": "Ql3Ow8Kh1EUt"
      },
      "outputs": [],
      "source": [
        "train_PM25, test_PM25 = split_dataframe(pm25, test_size=0.2, random_state=42)"
      ]
    },
    {
      "cell_type": "code",
      "execution_count": null,
      "metadata": {
        "colab": {
          "base_uri": "https://localhost:8080/"
        },
        "id": "YanCrcBq46ya",
        "outputId": "e1bce805-b892-4a73-fb65-fb5c4158ea9a"
      },
      "outputs": [
        {
          "output_type": "execute_result",
          "data": {
            "text/plain": [
              "((14132, 84), (14132, 22))"
            ]
          },
          "metadata": {},
          "execution_count": 38
        }
      ],
      "source": [
        "train_PM25.shape,test_PM25.shape"
      ]
    },
    {
      "cell_type": "code",
      "execution_count": null,
      "metadata": {
        "id": "iJmFnISO069v"
      },
      "outputs": [],
      "source": [
        "threshold = all_data.quantile(1)\n",
        "y = target_l(train_PM25, threshold)\n",
        "yta = target_l(test_PM25, threshold)"
      ]
    },
    {
      "cell_type": "code",
      "execution_count": null,
      "metadata": {
        "colab": {
          "base_uri": "https://localhost:8080/"
        },
        "id": "hwsmfgFI_Ouc",
        "outputId": "f8bd39da-9254-4e80-8afd-b136c4f00b15"
      },
      "outputs": [
        {
          "output_type": "stream",
          "name": "stdout",
          "text": [
            "0    709071\n",
            "1    478017\n",
            "Name: count, dtype: int64\n"
          ]
        }
      ],
      "source": [
        "all_counts = y.stack().value_counts()\n",
        "print(all_counts)"
      ]
    },
    {
      "cell_type": "code",
      "execution_count": null,
      "metadata": {
        "id": "KkkJvWWAfOqE"
      },
      "outputs": [],
      "source": []
    },
    {
      "cell_type": "markdown",
      "metadata": {
        "id": "K5RAHVRFfQT_"
      },
      "source": [
        "# New Data"
      ]
    },
    {
      "cell_type": "code",
      "execution_count": null,
      "metadata": {
        "id": "KNLJUlD-BxnP"
      },
      "outputs": [],
      "source": [
        "import tensorflow as tf"
      ]
    },
    {
      "cell_type": "code",
      "execution_count": null,
      "metadata": {
        "colab": {
          "base_uri": "https://localhost:8080/",
          "height": 36
        },
        "id": "vvskw1DEBxnP",
        "outputId": "1f33c4d7-1a7f-4178-8f94-2530bce06c73"
      },
      "outputs": [
        {
          "output_type": "execute_result",
          "data": {
            "text/plain": [
              "'2.15.0'"
            ],
            "application/vnd.google.colaboratory.intrinsic+json": {
              "type": "string"
            }
          },
          "metadata": {},
          "execution_count": 50
        }
      ],
      "source": [
        "tf.__version__"
      ]
    },
    {
      "cell_type": "code",
      "execution_count": null,
      "metadata": {
        "colab": {
          "base_uri": "https://localhost:8080/",
          "height": 1000
        },
        "id": "pjg7TjswBxnQ",
        "outputId": "972c408d-0fd1-4c33-afb2-96375bb8fa82"
      },
      "outputs": [
        {
          "output_type": "stream",
          "name": "stdout",
          "text": [
            "Collecting tfts\n",
            "  Downloading tfts-0.0.10-py3-none-any.whl (50 kB)\n",
            "\u001b[?25l     \u001b[90m━━━━━━━━━━━━━━━━━━━━━━━━━━━━━━━━━━━━━━━━\u001b[0m \u001b[32m0.0/51.0 kB\u001b[0m \u001b[31m?\u001b[0m eta \u001b[36m-:--:--\u001b[0m\r\u001b[2K     \u001b[90m━━━━━━━━━━━━━━━━━━━━━━━━━━━━━━━━━━━━━━━━\u001b[0m \u001b[32m51.0/51.0 kB\u001b[0m \u001b[31m3.1 MB/s\u001b[0m eta \u001b[36m0:00:00\u001b[0m\n",
            "\u001b[?25hRequirement already satisfied: matplotlib in /usr/local/lib/python3.10/dist-packages (from tfts) (3.7.1)\n",
            "Requirement already satisfied: numpy in /usr/local/lib/python3.10/dist-packages (from tfts) (1.25.2)\n",
            "Collecting optuna<3.0.0,>=2.3.0 (from tfts)\n",
            "  Downloading optuna-2.10.1-py3-none-any.whl (308 kB)\n",
            "\u001b[2K     \u001b[90m━━━━━━━━━━━━━━━━━━━━━━━━━━━━━━━━━━━━━━━━\u001b[0m \u001b[32m308.2/308.2 kB\u001b[0m \u001b[31m9.8 MB/s\u001b[0m eta \u001b[36m0:00:00\u001b[0m\n",
            "\u001b[?25hCollecting pandas<2.0.0,>=1.2.0 (from tfts)\n",
            "  Downloading pandas-1.5.3-cp310-cp310-manylinux_2_17_x86_64.manylinux2014_x86_64.whl (12.1 MB)\n",
            "\u001b[2K     \u001b[90m━━━━━━━━━━━━━━━━━━━━━━━━━━━━━━━━━━━━━━━━\u001b[0m \u001b[32m12.1/12.1 MB\u001b[0m \u001b[31m57.4 MB/s\u001b[0m eta \u001b[36m0:00:00\u001b[0m\n",
            "\u001b[?25hCollecting alembic (from optuna<3.0.0,>=2.3.0->tfts)\n",
            "  Downloading alembic-1.13.2-py3-none-any.whl (232 kB)\n",
            "\u001b[2K     \u001b[90m━━━━━━━━━━━━━━━━━━━━━━━━━━━━━━━━━━━━━━━━\u001b[0m \u001b[32m233.0/233.0 kB\u001b[0m \u001b[31m30.1 MB/s\u001b[0m eta \u001b[36m0:00:00\u001b[0m\n",
            "\u001b[?25hCollecting cliff (from optuna<3.0.0,>=2.3.0->tfts)\n",
            "  Downloading cliff-4.7.0-py3-none-any.whl (81 kB)\n",
            "\u001b[2K     \u001b[90m━━━━━━━━━━━━━━━━━━━━━━━━━━━━━━━━━━━━━━━━\u001b[0m \u001b[32m81.2/81.2 kB\u001b[0m \u001b[31m10.0 MB/s\u001b[0m eta \u001b[36m0:00:00\u001b[0m\n",
            "\u001b[?25hCollecting cmaes>=0.8.2 (from optuna<3.0.0,>=2.3.0->tfts)\n",
            "  Downloading cmaes-0.10.0-py3-none-any.whl (29 kB)\n",
            "Collecting colorlog (from optuna<3.0.0,>=2.3.0->tfts)\n",
            "  Downloading colorlog-6.8.2-py3-none-any.whl (11 kB)\n",
            "Requirement already satisfied: packaging>=20.0 in /usr/local/lib/python3.10/dist-packages (from optuna<3.0.0,>=2.3.0->tfts) (24.1)\n",
            "Requirement already satisfied: scipy!=1.4.0 in /usr/local/lib/python3.10/dist-packages (from optuna<3.0.0,>=2.3.0->tfts) (1.11.4)\n",
            "Requirement already satisfied: sqlalchemy>=1.1.0 in /usr/local/lib/python3.10/dist-packages (from optuna<3.0.0,>=2.3.0->tfts) (2.0.31)\n",
            "Requirement already satisfied: tqdm in /usr/local/lib/python3.10/dist-packages (from optuna<3.0.0,>=2.3.0->tfts) (4.66.4)\n",
            "Requirement already satisfied: PyYAML in /usr/local/lib/python3.10/dist-packages (from optuna<3.0.0,>=2.3.0->tfts) (6.0.1)\n",
            "Requirement already satisfied: python-dateutil>=2.8.1 in /usr/local/lib/python3.10/dist-packages (from pandas<2.0.0,>=1.2.0->tfts) (2.8.2)\n",
            "Requirement already satisfied: pytz>=2020.1 in /usr/local/lib/python3.10/dist-packages (from pandas<2.0.0,>=1.2.0->tfts) (2023.4)\n",
            "Requirement already satisfied: contourpy>=1.0.1 in /usr/local/lib/python3.10/dist-packages (from matplotlib->tfts) (1.2.1)\n",
            "Requirement already satisfied: cycler>=0.10 in /usr/local/lib/python3.10/dist-packages (from matplotlib->tfts) (0.12.1)\n",
            "Requirement already satisfied: fonttools>=4.22.0 in /usr/local/lib/python3.10/dist-packages (from matplotlib->tfts) (4.53.0)\n",
            "Requirement already satisfied: kiwisolver>=1.0.1 in /usr/local/lib/python3.10/dist-packages (from matplotlib->tfts) (1.4.5)\n",
            "Requirement already satisfied: pillow>=6.2.0 in /usr/local/lib/python3.10/dist-packages (from matplotlib->tfts) (9.4.0)\n",
            "Requirement already satisfied: pyparsing>=2.3.1 in /usr/local/lib/python3.10/dist-packages (from matplotlib->tfts) (3.1.2)\n",
            "Requirement already satisfied: six>=1.5 in /usr/local/lib/python3.10/dist-packages (from python-dateutil>=2.8.1->pandas<2.0.0,>=1.2.0->tfts) (1.16.0)\n",
            "Requirement already satisfied: typing-extensions>=4.6.0 in /usr/local/lib/python3.10/dist-packages (from sqlalchemy>=1.1.0->optuna<3.0.0,>=2.3.0->tfts) (4.12.2)\n",
            "Requirement already satisfied: greenlet!=0.4.17 in /usr/local/lib/python3.10/dist-packages (from sqlalchemy>=1.1.0->optuna<3.0.0,>=2.3.0->tfts) (3.0.3)\n",
            "Collecting Mako (from alembic->optuna<3.0.0,>=2.3.0->tfts)\n",
            "  Downloading Mako-1.3.5-py3-none-any.whl (78 kB)\n",
            "\u001b[2K     \u001b[90m━━━━━━━━━━━━━━━━━━━━━━━━━━━━━━━━━━━━━━━━\u001b[0m \u001b[32m78.6/78.6 kB\u001b[0m \u001b[31m9.8 MB/s\u001b[0m eta \u001b[36m0:00:00\u001b[0m\n",
            "\u001b[?25hRequirement already satisfied: PrettyTable>=0.7.2 in /usr/local/lib/python3.10/dist-packages (from cliff->optuna<3.0.0,>=2.3.0->tfts) (3.10.0)\n",
            "Collecting autopage>=0.4.0 (from cliff->optuna<3.0.0,>=2.3.0->tfts)\n",
            "  Downloading autopage-0.5.2-py3-none-any.whl (30 kB)\n",
            "Collecting cmd2>=1.0.0 (from cliff->optuna<3.0.0,>=2.3.0->tfts)\n",
            "  Downloading cmd2-2.4.3-py3-none-any.whl (147 kB)\n",
            "\u001b[2K     \u001b[90m━━━━━━━━━━━━━━━━━━━━━━━━━━━━━━━━━━━━━━━━\u001b[0m \u001b[32m147.2/147.2 kB\u001b[0m \u001b[31m17.3 MB/s\u001b[0m eta \u001b[36m0:00:00\u001b[0m\n",
            "\u001b[?25hCollecting stevedore>=2.0.1 (from cliff->optuna<3.0.0,>=2.3.0->tfts)\n",
            "  Downloading stevedore-5.2.0-py3-none-any.whl (49 kB)\n",
            "\u001b[2K     \u001b[90m━━━━━━━━━━━━━━━━━━━━━━━━━━━━━━━━━━━━━━━━\u001b[0m \u001b[32m49.7/49.7 kB\u001b[0m \u001b[31m6.4 MB/s\u001b[0m eta \u001b[36m0:00:00\u001b[0m\n",
            "\u001b[?25hRequirement already satisfied: attrs>=16.3.0 in /usr/local/lib/python3.10/dist-packages (from cmd2>=1.0.0->cliff->optuna<3.0.0,>=2.3.0->tfts) (23.2.0)\n",
            "Requirement already satisfied: pyperclip>=1.6 in /usr/local/lib/python3.10/dist-packages (from cmd2>=1.0.0->cliff->optuna<3.0.0,>=2.3.0->tfts) (1.9.0)\n",
            "Requirement already satisfied: wcwidth>=0.1.7 in /usr/local/lib/python3.10/dist-packages (from cmd2>=1.0.0->cliff->optuna<3.0.0,>=2.3.0->tfts) (0.2.13)\n",
            "Collecting pbr!=2.1.0,>=2.0.0 (from stevedore>=2.0.1->cliff->optuna<3.0.0,>=2.3.0->tfts)\n",
            "  Downloading pbr-6.0.0-py2.py3-none-any.whl (107 kB)\n",
            "\u001b[2K     \u001b[90m━━━━━━━━━━━━━━━━━━━━━━━━━━━━━━━━━━━━━━━━\u001b[0m \u001b[32m107.5/107.5 kB\u001b[0m \u001b[31m13.8 MB/s\u001b[0m eta \u001b[36m0:00:00\u001b[0m\n",
            "\u001b[?25hRequirement already satisfied: MarkupSafe>=0.9.2 in /usr/local/lib/python3.10/dist-packages (from Mako->alembic->optuna<3.0.0,>=2.3.0->tfts) (2.1.5)\n",
            "Installing collected packages: pbr, Mako, colorlog, cmd2, cmaes, autopage, stevedore, pandas, alembic, cliff, optuna, tfts\n",
            "  Attempting uninstall: pandas\n",
            "    Found existing installation: pandas 2.0.3\n",
            "    Uninstalling pandas-2.0.3:\n",
            "      Successfully uninstalled pandas-2.0.3\n",
            "\u001b[31mERROR: pip's dependency resolver does not currently take into account all the packages that are installed. This behaviour is the source of the following dependency conflicts.\n",
            "cudf-cu12 24.4.1 requires pandas<2.2.2dev0,>=2.0, but you have pandas 1.5.3 which is incompatible.\n",
            "google-colab 1.0.0 requires pandas==2.0.3, but you have pandas 1.5.3 which is incompatible.\u001b[0m\u001b[31m\n",
            "\u001b[0mSuccessfully installed Mako-1.3.5 alembic-1.13.2 autopage-0.5.2 cliff-4.7.0 cmaes-0.10.0 cmd2-2.4.3 colorlog-6.8.2 optuna-2.10.1 pandas-1.5.3 pbr-6.0.0 stevedore-5.2.0 tfts-0.0.10\n"
          ]
        },
        {
          "output_type": "display_data",
          "data": {
            "application/vnd.colab-display-data+json": {
              "pip_warning": {
                "packages": [
                  "pandas"
                ]
              },
              "id": "28166966fe3b4920a2ebf2ea734bfb6f"
            }
          },
          "metadata": {}
        }
      ],
      "source": [
        "!pip install tfts"
      ]
    },
    {
      "cell_type": "code",
      "execution_count": null,
      "metadata": {
        "id": "FLrlZns-JQSH"
      },
      "outputs": [],
      "source": [
        "import os\n",
        "import random\n",
        "import tensorflow as tf\n",
        "from tensorflow.keras.callbacks import EarlyStopping, ModelCheckpoint\n",
        "\n",
        "import tfts\n",
        "from tfts import AutoConfig, AutoModel, KerasTrainer\n",
        "\n",
        "%matplotlib inline"
      ]
    },
    {
      "cell_type": "code",
      "execution_count": null,
      "metadata": {
        "id": "AYx-9wEBp-eA"
      },
      "outputs": [],
      "source": [
        "import tensorflow as tf"
      ]
    },
    {
      "cell_type": "code",
      "execution_count": null,
      "metadata": {
        "id": "u-SsONVP_AXm"
      },
      "outputs": [],
      "source": [
        "def data_respirer(d, y_df, steps):\n",
        "    num_columns = len(d.columns)\n",
        "    X = np.zeros((num_columns, len(d) - steps, steps))\n",
        "    y = np.zeros((num_columns, len(d) - steps, 7))\n",
        "\n",
        "    for idx, col in enumerate(d.columns):\n",
        "        for i in range(len(d) - steps):\n",
        "            end_ix = i + steps\n",
        "            X[idx, i, :] = d[col][i:end_ix].values\n",
        "            if end_ix < len(y_df):\n",
        "                y[idx, i, 0] = y_df[col][end_ix]\n",
        "            if end_ix + 24 < len(y_df):\n",
        "                y[idx, i, 1] = y_df[col][end_ix + 24]\n",
        "            if end_ix + 48 < len(y_df):\n",
        "                y[idx, i, 2] = y_df[col][end_ix + 48]\n",
        "            if end_ix + 72 < len(y_df):\n",
        "                y[idx, i, 3] = y_df[col][end_ix + 72]\n",
        "            if end_ix + 96 < len(y_df):\n",
        "                y[idx, i, 4] = y_df[col][end_ix + 96]\n",
        "            if end_ix + 120 < len(y_df):\n",
        "                y[idx, i, 5] = y_df[col][end_ix + 120]\n",
        "            if end_ix + 144 < len(y_df):\n",
        "                y[idx, i, 6] = y_df[col][end_ix + 144]\n",
        "\n",
        "    return X, y\n"
      ]
    },
    {
      "cell_type": "code",
      "execution_count": null,
      "metadata": {
        "id": "AYRGdX6hOHMI"
      },
      "outputs": [],
      "source": [
        "def data_data(df, y_df, steps):\n",
        "    num_columns = len(df.columns)\n",
        "    X = np.zeros((num_columns, (len(df) - steps) // 2, steps // 2))\n",
        "    y = np.zeros((num_columns, (len(df) - steps) // 2, 7))\n",
        "\n",
        "    for idx, col in enumerate(df.columns):\n",
        "        for i in range(0, len(df) - steps, 2):\n",
        "            end_ix = i + steps\n",
        "            X[idx, i // 2, :] = df[col][i:end_ix:2].values\n",
        "            if end_ix < len(y_df):\n",
        "                y[idx, i // 2, 0] = y_df[col][end_ix]\n",
        "            if end_ix + 48 < len(y_df):\n",
        "                y[idx, i // 2, 1] = y_df[col][end_ix + 48]\n",
        "            if end_ix + 96 < len(y_df):\n",
        "                y[idx, i // 2, 2] = y_df[col][end_ix + 96]\n",
        "            if end_ix + 144 < len(y_df):\n",
        "                y[idx, i // 2, 3] = y_df[col][end_ix + 144]\n",
        "            if end_ix + 192 < len(y_df):\n",
        "                y[idx, i // 2, 4] = y_df[col][end_ix + 192]\n",
        "            if end_ix + 240 < len(y_df):\n",
        "                y[idx, i // 2, 5] = y_df[col][end_ix + 240]\n",
        "            if end_ix + 288 < len(y_df):\n",
        "                y[idx, i // 2, 6] = y_df[col][end_ix + 288]\n",
        "\n",
        "\n",
        "    return X, y\n"
      ]
    },
    {
      "cell_type": "code",
      "execution_count": null,
      "metadata": {
        "id": "X2X5sdbvrnDY"
      },
      "outputs": [],
      "source": [
        "def data_UP(df, y_df, steps):\n",
        "    num_columns = len(df.columns)\n",
        "    X = np.zeros((num_columns, (len(df) - steps) // 4, steps // 4))\n",
        "    y = np.zeros((num_columns, (len(df) - steps) // 4, 7))\n",
        "\n",
        "    for idx, col in enumerate(df.columns):\n",
        "        for i in range(0, len(df) - steps, 4):\n",
        "            end_ix = i + steps\n",
        "            X[idx, i // 4, :] = df[col][i:end_ix:4].values\n",
        "            if end_ix < len(y_df):\n",
        "                y[idx, i // 4, 0] = y_df[col][end_ix]\n",
        "            if end_ix + 48*2 < len(y_df):\n",
        "                y[idx, i // 4, 1] = y_df[col][end_ix + 48*2]\n",
        "            if end_ix + 96*2 < len(y_df):\n",
        "                y[idx, i // 4, 2] = y_df[col][end_ix + 96*2]\n",
        "            if end_ix + 144*2 < len(y_df):\n",
        "                y[idx, i // 4, 3] = y_df[col][end_ix + 144*2]\n",
        "            if end_ix + 192*2 < len(y_df):\n",
        "                y[idx, i // 4, 4] = y_df[col][end_ix + 192*2]\n",
        "            if end_ix + 240*2 < len(y_df):\n",
        "                y[idx, i // 4, 5] = y_df[col][end_ix + 240*2]\n",
        "            if end_ix + 288*2 < len(y_df):\n",
        "                y[idx, i // 4, 6] = y_df[col][end_ix + 288*2]\n",
        "\n",
        "\n",
        "    return X, y"
      ]
    },
    {
      "cell_type": "code",
      "execution_count": null,
      "metadata": {
        "id": "L3bYPF1vGifa"
      },
      "outputs": [],
      "source": [
        "xa,ya = data_data(train_PM25,y,1440)"
      ]
    },
    {
      "cell_type": "code",
      "source": [
        "len(ya)"
      ],
      "metadata": {
        "colab": {
          "base_uri": "https://localhost:8080/"
        },
        "id": "Y_SKNI3mPIaj",
        "outputId": "77469933-0f75-44a6-ffee-5674ebbd353c"
      },
      "execution_count": null,
      "outputs": [
        {
          "output_type": "execute_result",
          "data": {
            "text/plain": [
              "84"
            ]
          },
          "metadata": {},
          "execution_count": 132
        }
      ]
    },
    {
      "cell_type": "code",
      "execution_count": null,
      "metadata": {
        "id": "xkBjNPH4OsKt"
      },
      "outputs": [],
      "source": [
        "xr,yr = data_respirer(train_DF,y1,720)"
      ]
    },
    {
      "cell_type": "code",
      "execution_count": null,
      "metadata": {
        "id": "2U57T1TzittC"
      },
      "outputs": [],
      "source": [
        "# xb,yb = data_respirer(d1,y2,720)"
      ]
    },
    {
      "cell_type": "code",
      "execution_count": null,
      "metadata": {
        "id": "CnnFdNl5itxR"
      },
      "outputs": [],
      "source": [
        "# xu,yu = data_UP(d2,y3,720*4)"
      ]
    },
    {
      "cell_type": "code",
      "execution_count": null,
      "metadata": {
        "id": "PKaC2OFQXxKB"
      },
      "outputs": [],
      "source": [
        "xat,yat = data_data1(test_PM25,yta,720*2)\n",
        "xrt,yrt = data_data2(test_DF,ytr,720)"
      ]
    },
    {
      "cell_type": "code",
      "execution_count": null,
      "metadata": {
        "id": "9iVHlht3hH-A"
      },
      "outputs": [],
      "source": [
        "xr_ = np.reshape(xr, (xr.shape[0]*xr.shape[1],xr.shape[2]))\n",
        "yr_ = np.reshape(yr, (yr.shape[0]*yr.shape[1],yr.shape[2]))\n",
        "xa_ = np.reshape(xa, (xa.shape[0]*xa.shape[1],xa.shape[2]))\n",
        "ya_ = np.reshape(ya, (ya.shape[0]*ya.shape[1],ya.shape[2]))\n",
        "##############\n"
      ]
    },
    {
      "cell_type": "code",
      "source": [
        "len(ya_)"
      ],
      "metadata": {
        "colab": {
          "base_uri": "https://localhost:8080/"
        },
        "id": "cjgmUYqzPfEv",
        "outputId": "bb5b2752-7907-44e1-9a6e-628ff92f7fb6"
      },
      "execution_count": null,
      "outputs": [
        {
          "output_type": "execute_result",
          "data": {
            "text/plain": [
              "533064"
            ]
          },
          "metadata": {},
          "execution_count": 135
        }
      ]
    },
    {
      "cell_type": "code",
      "execution_count": null,
      "metadata": {
        "id": "P_OFg6lR23gs"
      },
      "outputs": [],
      "source": [
        "# xu_ = np.reshape(xu, (xu.shape[0]*xu.shape[1],xu.shape[2]))\n",
        "# yu_ = np.reshape(yu, (yu.shape[0]*yu.shape[1],yu.shape[2]))\n",
        "# xb_ = np.reshape(xb, (xb.shape[0]*xb.shape[1],xb.shape[2]))\n",
        "# yb_ = np.reshape(yb, (yb.shape[0]*yb.shape[1],yb.shape[2]))"
      ]
    },
    {
      "cell_type": "code",
      "execution_count": null,
      "metadata": {
        "id": "-6QRpwKiaY7v"
      },
      "outputs": [],
      "source": [
        "xrt_ = np.reshape(xat, (xat.shape[0]*xat.shape[1],xat.shape[2]))\n",
        "yrt_ = np.reshape(yat, (yat.shape[0]*yat.shape[1],yat.shape[2]))\n",
        "xat_ = np.reshape(xrt, (xrt.shape[0]*xrt.shape[1],xrt.shape[2]))\n",
        "yat_ = np.reshape(yrt, (yrt.shape[0]*yrt.shape[1],yrt.shape[2]))"
      ]
    },
    {
      "cell_type": "code",
      "execution_count": null,
      "metadata": {
        "colab": {
          "base_uri": "https://localhost:8080/"
        },
        "id": "1lATCtRpg5Kq",
        "outputId": "a9f794af-4e83-43c3-9086-f49d483f76eb"
      },
      "outputs": [
        {
          "output_type": "stream",
          "name": "stdout",
          "text": [
            "(48, 6600, 720) (48, 6600, 7)\n",
            "(316800, 720) (316800, 7)\n",
            "(84, 6346, 720) (84, 6346, 7)\n",
            "(533064, 720) (533064, 7)\n"
          ]
        }
      ],
      "source": [
        "print(xr.shape, yr.shape)\n",
        "print(xr_.shape, yr_.shape)\n",
        "print(xa.shape, ya.shape)\n",
        "print(xa_.shape, ya_.shape)\n",
        "# ###########\n",
        "# print(xu.shape, yu.shape)\n",
        "# print(xu_.shape, yu_.shape)\n",
        "# print(xb.shape, yb.shape)\n",
        "# print(xb_.shape, yb_.shape)"
      ]
    },
    {
      "cell_type": "code",
      "execution_count": null,
      "metadata": {
        "colab": {
          "base_uri": "https://localhost:8080/"
        },
        "id": "wljmiIxWatGA",
        "outputId": "eb26600b-4021-433e-bc8e-a8b4c8df1b37"
      },
      "outputs": [
        {
          "output_type": "stream",
          "name": "stdout",
          "text": [
            "(12, 6600, 720) (12, 6600, 7)\n",
            "(139612, 720) (139612, 7)\n",
            "(22, 6346, 720) (22, 6346, 7)\n",
            "(79200, 720) (79200, 7)\n"
          ]
        }
      ],
      "source": [
        "print(xrt.shape, yrt.shape)\n",
        "print(xrt_.shape, yrt_.shape)\n",
        "print(xat.shape, yat.shape)\n",
        "print(xat_.shape, yat_.shape)"
      ]
    },
    {
      "cell_type": "code",
      "execution_count": null,
      "metadata": {
        "id": "oDhGSs6mlXst"
      },
      "outputs": [],
      "source": [
        "def optimized_check_z(xu_):\n",
        "    # Finding all zero positions\n",
        "    zeros = (xu_ == 0)\n",
        "    results = np.all(zeros, axis=1)  # Check if all elements in a row are zero\n",
        "\n",
        "    return results"
      ]
    },
    {
      "cell_type": "code",
      "execution_count": null,
      "metadata": {
        "colab": {
          "base_uri": "https://localhost:8080/"
        },
        "id": "6n-fmbQ41DZj",
        "outputId": "6175f242-59fa-4986-8f0d-41f35d96b824"
      },
      "outputs": [
        {
          "output_type": "stream",
          "name": "stdout",
          "text": [
            "[False]\n"
          ]
        }
      ],
      "source": [
        "t = np.array([[1,1,1]])\n",
        "re = optimized_check_z(t)\n",
        "print(re)"
      ]
    },
    {
      "cell_type": "code",
      "execution_count": null,
      "metadata": {
        "id": "xyppHunYhs7-"
      },
      "outputs": [],
      "source": []
    },
    {
      "cell_type": "code",
      "execution_count": null,
      "metadata": {
        "colab": {
          "base_uri": "https://localhost:8080/"
        },
        "id": "30nF_PPhpU5O",
        "outputId": "07f7dc34-5ae9-4219-bf90-17cd053502a0"
      },
      "outputs": [
        {
          "output_type": "stream",
          "name": "stdout",
          "text": [
            "Filtered shape: (146810, 720)\n",
            "Filtered shape: (146810, 7)\n"
          ]
        }
      ],
      "source": [
        "zero_rows = optimized_check_z(xr_)\n",
        "x_r = xr_[~zero_rows]\n",
        "y_r = yr_[~zero_rows]\n",
        "\n",
        "print(\"Filtered shape:\", x_r.shape)\n",
        "print(\"Filtered shape:\", y_r.shape)"
      ]
    },
    {
      "cell_type": "code",
      "execution_count": null,
      "metadata": {
        "id": "FwwRK9Myfh8q"
      },
      "outputs": [],
      "source": [
        "del zero_rows"
      ]
    },
    {
      "cell_type": "code",
      "execution_count": null,
      "metadata": {
        "colab": {
          "base_uri": "https://localhost:8080/"
        },
        "id": "IhaXkZGlFVvk",
        "outputId": "fb6f1261-eda5-4fe6-bf0d-739511b69c98"
      },
      "outputs": [
        {
          "output_type": "stream",
          "name": "stdout",
          "text": [
            "Filtered x(data) shape: (313138, 720)\n",
            "Filtered y(target) shape: (313138, 7)\n"
          ]
        }
      ],
      "source": [
        "zero_rows = optimized_check_z(xa_)\n",
        "x_a = xa_[~zero_rows]\n",
        "y_a = ya_[~zero_rows]\n",
        "\n",
        "print(\"Filtered x(data) shape:\", x_a.shape)\n",
        "print(\"Filtered y(target) shape:\", y_a.shape)"
      ]
    },
    {
      "cell_type": "code",
      "execution_count": null,
      "metadata": {
        "id": "9jjofE65fin5"
      },
      "outputs": [],
      "source": [
        "del zero_rows"
      ]
    },
    {
      "cell_type": "code",
      "execution_count": null,
      "metadata": {
        "colab": {
          "base_uri": "https://localhost:8080/"
        },
        "id": "PTgBl_S6fC1j",
        "outputId": "11a1b9f6-2293-4232-b258-8482cf6434c0"
      },
      "outputs": [
        {
          "output_type": "stream",
          "name": "stdout",
          "text": [
            "Filtered x(data) shape: (87312, 720)\n",
            "Filtered y(target) shape: (87312, 7)\n"
          ]
        }
      ],
      "source": [
        "zero_rows = optimized_check_z(xrt_)\n",
        "x_rt = xrt_[~zero_rows]\n",
        "y_rt = yrt_[~zero_rows]\n",
        "\n",
        "print(\"Filtered x(data) shape:\", x_rt.shape)\n",
        "print(\"Filtered y(target) shape:\", y_rt.shape)"
      ]
    },
    {
      "cell_type": "code",
      "execution_count": null,
      "metadata": {
        "id": "GaMYQChAfjVw"
      },
      "outputs": [],
      "source": [
        "del zero_rows"
      ]
    },
    {
      "cell_type": "code",
      "execution_count": null,
      "metadata": {
        "colab": {
          "base_uri": "https://localhost:8080/"
        },
        "id": "A0hk7v-rfDmz",
        "outputId": "093f25ed-ae5b-473b-9288-9de13319b7de"
      },
      "outputs": [
        {
          "output_type": "stream",
          "name": "stdout",
          "text": [
            "Filtered x(data) shape: (42560, 720)\n",
            "Filtered y(target) shape: (42560, 7)\n"
          ]
        }
      ],
      "source": [
        "zero_rows = optimized_check_z(xat_)\n",
        "x_at = xat_[~zero_rows]\n",
        "y_at = yat_[~zero_rows]\n",
        "\n",
        "print(\"Filtered x(data) shape:\", x_at.shape)\n",
        "print(\"Filtered y(target) shape:\", y_at.shape)"
      ]
    },
    {
      "cell_type": "code",
      "execution_count": null,
      "metadata": {
        "id": "IU916A2xfkHx"
      },
      "outputs": [],
      "source": [
        "del zero_rows"
      ]
    },
    {
      "cell_type": "code",
      "execution_count": null,
      "metadata": {
        "id": "e9nyjUfgrN6v"
      },
      "outputs": [],
      "source": [
        "def optimized_check_2d(arr):\n",
        "    result = []\n",
        "    for row in arr:\n",
        "        last_non_zero_index = -1\n",
        "\n",
        "        # Finding the index of the last non-zero element in the row\n",
        "        for i in range(len(row) - 1, -1, -1):\n",
        "            if row[i] != 0:\n",
        "                last_non_zero_index = i\n",
        "                break\n",
        "\n",
        "        # If no non-zero element is found, append False\n",
        "        if last_non_zero_index == -1:\n",
        "            result.append(False)\n",
        "            continue\n",
        "\n",
        "        # Check if there are zeros after the last non-zero element in the row\n",
        "        zeros_after = any(row[j] == 0 for j in range(last_non_zero_index + 1, len(row)))\n",
        "        result.append(zeros_after)\n",
        "\n",
        "    return result\n",
        "\n"
      ]
    },
    {
      "cell_type": "code",
      "execution_count": null,
      "metadata": {
        "id": "P5tguEXRr7tc"
      },
      "outputs": [],
      "source": []
    },
    {
      "cell_type": "code",
      "execution_count": null,
      "metadata": {
        "colab": {
          "base_uri": "https://localhost:8080/"
        },
        "id": "rJ52vVzPrUZ8",
        "outputId": "7ee0f18c-9bb8-4331-c2a6-0ff5a4082ac6"
      },
      "outputs": [
        {
          "output_type": "stream",
          "name": "stdout",
          "text": [
            "Filtered shape: (62058, 720)\n",
            "Filtered shape: (62058, 7)\n"
          ]
        }
      ],
      "source": [
        "zero_rows = np.array(optimized_check_2d(x_r))\n",
        "x_r = x_r[~zero_rows]\n",
        "y_r = y_r[~zero_rows]\n",
        "\n",
        "print(\"Filtered shape:\", x_r.shape)\n",
        "print(\"Filtered shape:\", y_r.shape)"
      ]
    },
    {
      "cell_type": "code",
      "execution_count": null,
      "metadata": {
        "colab": {
          "base_uri": "https://localhost:8080/"
        },
        "id": "3mE-REwnrUcU",
        "outputId": "27c52aaa-c6c1-4012-ffd1-964bba1c117c"
      },
      "outputs": [
        {
          "output_type": "stream",
          "name": "stdout",
          "text": [
            "Filtered shape: (231811, 720)\n",
            "Filtered shape: (231811, 7)\n"
          ]
        }
      ],
      "source": [
        "zero_rows = np.array(optimized_check_2d(x_a))\n",
        "x_a = x_a[~zero_rows]\n",
        "y_a = y_a[~zero_rows]\n",
        "\n",
        "print(\"Filtered shape:\", x_a.shape)\n",
        "print(\"Filtered shape:\", y_a.shape)"
      ]
    },
    {
      "cell_type": "code",
      "execution_count": null,
      "metadata": {
        "colab": {
          "base_uri": "https://localhost:8080/"
        },
        "id": "BV9DyGV9rUfB",
        "outputId": "181a5ffe-ac5f-4efe-a7fe-9d2f5e3cddbb"
      },
      "outputs": [
        {
          "output_type": "stream",
          "name": "stdout",
          "text": [
            "Filtered shape: (21399, 720)\n",
            "Filtered shape: (21399, 7)\n"
          ]
        }
      ],
      "source": [
        "zero_rows = np.array(optimized_check_2d(x_at))\n",
        "x_at = x_at[~zero_rows]\n",
        "y_at = y_at[~zero_rows]\n",
        "\n",
        "print(\"Filtered shape:\", x_at.shape)\n",
        "print(\"Filtered shape:\", y_at.shape)"
      ]
    },
    {
      "cell_type": "code",
      "execution_count": null,
      "metadata": {
        "colab": {
          "base_uri": "https://localhost:8080/"
        },
        "id": "jeD9TMygrUhk",
        "outputId": "7ea4fff7-577f-499d-a46e-9394cbc485d3"
      },
      "outputs": [
        {
          "output_type": "stream",
          "name": "stdout",
          "text": [
            "Filtered shape: (63091, 720)\n",
            "Filtered shape: (63091, 7)\n"
          ]
        }
      ],
      "source": [
        "zero_rows = np.array(optimized_check_2d(x_rt))\n",
        "x_rt = x_rt[~zero_rows]\n",
        "y_rt = y_rt[~zero_rows]\n",
        "\n",
        "print(\"Filtered shape:\", x_rt.shape)\n",
        "print(\"Filtered shape:\", y_rt.shape)"
      ]
    },
    {
      "cell_type": "code",
      "execution_count": null,
      "metadata": {
        "id": "NtDK39jGt_6d"
      },
      "outputs": [],
      "source": [
        "def optimized_check(xu_):\n",
        "    # Finding all zero positions\n",
        "    zeros = (xu_ == 0)\n",
        "    results = np.any(zeros[:, :-1] & (xu_[:, 1:] != 0), axis=1)\n",
        "\n",
        "    return results\n",
        "\n"
      ]
    },
    {
      "cell_type": "code",
      "execution_count": null,
      "metadata": {
        "colab": {
          "base_uri": "https://localhost:8080/"
        },
        "id": "nfz8vAvnwMOh",
        "outputId": "8f316025-0a80-4fb2-c56d-a56194506212"
      },
      "outputs": [
        {
          "output_type": "stream",
          "name": "stdout",
          "text": [
            "[ True]\n"
          ]
        }
      ],
      "source": [
        "t = np.array([[0,1,1]])\n",
        "p = optimized_check(t)\n",
        "print(p)"
      ]
    },
    {
      "cell_type": "code",
      "execution_count": null,
      "metadata": {
        "colab": {
          "base_uri": "https://localhost:8080/"
        },
        "id": "J3zNn3Nbvqil",
        "outputId": "ffcb07f1-caab-42f7-b66a-e6d03f05f8b1"
      },
      "outputs": [
        {
          "output_type": "stream",
          "name": "stdout",
          "text": [
            "Filtered shape: (50847, 720)\n",
            "Filtered shape: (50847, 7)\n"
          ]
        }
      ],
      "source": [
        "zero_rows = np.array(optimized_check(y_r))\n",
        "x_r = x_r[~zero_rows]\n",
        "y_r = y_r[~zero_rows]\n",
        "\n",
        "print(\"Filtered shape:\", x_r.shape)\n",
        "print(\"Filtered shape:\", y_r.shape)"
      ]
    },
    {
      "cell_type": "code",
      "execution_count": null,
      "metadata": {
        "colab": {
          "base_uri": "https://localhost:8080/"
        },
        "id": "BIdQHziEvqnK",
        "outputId": "a9d3f874-b588-4d8f-ee98-dc1b3a9fb906"
      },
      "outputs": [
        {
          "output_type": "stream",
          "name": "stdout",
          "text": [
            "Filtered shape: (214134, 720)\n",
            "Filtered shape: (214134, 7)\n"
          ]
        }
      ],
      "source": [
        "zero_rows = np.array(optimized_check(y_a))\n",
        "x_a = x_a[~zero_rows]\n",
        "y_a = y_a[~zero_rows]\n",
        "\n",
        "print(\"Filtered shape:\", x_a.shape)\n",
        "print(\"Filtered shape:\", y_a.shape)"
      ]
    },
    {
      "cell_type": "code",
      "execution_count": null,
      "metadata": {
        "colab": {
          "base_uri": "https://localhost:8080/"
        },
        "id": "Azf5I1IlvqqK",
        "outputId": "c177ddf2-7516-4232-db43-35c30a36b523"
      },
      "outputs": [
        {
          "output_type": "stream",
          "name": "stdout",
          "text": [
            "Filtered shape: (19131, 720)\n",
            "Filtered shape: (19131, 7)\n"
          ]
        }
      ],
      "source": [
        "zero_rows = np.array(optimized_check(y_at))\n",
        "x_at = x_at[~zero_rows]\n",
        "y_at = y_at[~zero_rows]\n",
        "\n",
        "print(\"Filtered shape:\", x_at.shape)\n",
        "print(\"Filtered shape:\", y_at.shape)"
      ]
    },
    {
      "cell_type": "code",
      "execution_count": null,
      "metadata": {
        "colab": {
          "base_uri": "https://localhost:8080/"
        },
        "id": "5URg7tp6vqso",
        "outputId": "2fdfa2ab-4435-436f-fe62-68f62177b1cd"
      },
      "outputs": [
        {
          "output_type": "stream",
          "name": "stdout",
          "text": [
            "Filtered shape: (59739, 720)\n",
            "Filtered shape: (59739, 7)\n"
          ]
        }
      ],
      "source": [
        "zero_rows = np.array(optimized_check(y_rt))\n",
        "x_rt = x_rt[~zero_rows]\n",
        "y_rt = y_rt[~zero_rows]\n",
        "\n",
        "print(\"Filtered shape:\", x_rt.shape)\n",
        "print(\"Filtered shape:\", y_rt.shape)"
      ]
    },
    {
      "cell_type": "code",
      "execution_count": null,
      "metadata": {
        "colab": {
          "base_uri": "https://localhost:8080/"
        },
        "id": "_0RTw-uKicy8",
        "outputId": "d6250d5c-a226-45bc-f351-605c81a5365b"
      },
      "outputs": [
        {
          "output_type": "stream",
          "name": "stdout",
          "text": [
            "(50847, 720, 1) (50847, 7, 1)\n",
            "(214134, 720, 1) (214134, 7, 1)\n"
          ]
        }
      ],
      "source": [
        "print(xr1.shape, yr1.shape)\n",
        "print(xa1.shape, ya1.shape)\n",
        "##############\n",
        "# print(xu1.shape, yu1.shape)\n",
        "# print(xb1.shape, yb1.shape)"
      ]
    },
    {
      "cell_type": "code",
      "execution_count": null,
      "metadata": {
        "colab": {
          "base_uri": "https://localhost:8080/"
        },
        "id": "njC64-qPbREG",
        "outputId": "17988317-7dd0-44d5-e6b7-002a447fb697"
      },
      "outputs": [
        {
          "output_type": "stream",
          "name": "stdout",
          "text": [
            "(59739, 720, 1) (59739, 7, 1)\n",
            "(19131, 720, 1) (19131, 7, 1)\n"
          ]
        }
      ],
      "source": [
        "print(xrtt.shape, yrtt.shape)\n",
        "print(xatt.shape, yatt.shape)"
      ]
    },
    {
      "cell_type": "code",
      "execution_count": null,
      "metadata": {
        "id": "8GRroMQAjxVM"
      },
      "outputs": [],
      "source": [
        "def count_0_1(y):\n",
        "    count_0 = np.sum(y == 0)\n",
        "    count_1 = np.sum(y == 1)\n",
        "    return count_0, count_1"
      ]
    },
    {
      "cell_type": "code",
      "execution_count": null,
      "metadata": {
        "colab": {
          "base_uri": "https://localhost:8080/"
        },
        "id": "Dym-x5UPEQfI",
        "outputId": "bc39dc15-abad-4443-86e6-c1a031f99713"
      },
      "outputs": [
        {
          "output_type": "stream",
          "name": "stdout",
          "text": [
            "46086 309843\n",
            "65327 1433611\n"
          ]
        }
      ],
      "source": [
        "w,q = count_0_1(yr1)\n",
        "print(w,q)\n",
        "w,q = count_0_1(ya1)\n",
        "print(w,q)\n",
        "# w,q = count_0_1(yu1)\n",
        "# print(w,q)\n",
        "# w,q = count_0_1(yb1)\n",
        "# print(w,q)"
      ]
    },
    {
      "cell_type": "code",
      "execution_count": null,
      "metadata": {
        "colab": {
          "base_uri": "https://localhost:8080/"
        },
        "id": "HR8fS-pVOoPk",
        "outputId": "78fe28cc-df7f-4ca6-e1b3-e8b7aadc39e3"
      },
      "outputs": [
        {
          "output_type": "stream",
          "name": "stdout",
          "text": [
            "Combined X shape: (264981, 720, 1)\n",
            "Combined Y shape: (264981, 7, 1)\n"
          ]
        }
      ],
      "source": [
        "combined_x = np.concatenate((xr1, xa1), axis=0)\n",
        "combined_y = np.concatenate((yr1, ya1), axis=0)\n",
        "print(\"Combined X shape:\", combined_x.shape)\n",
        "print(\"Combined Y shape:\", combined_y.shape)"
      ]
    },
    {
      "cell_type": "code",
      "execution_count": null,
      "metadata": {
        "id": "Gt6woGfzJQmJ"
      },
      "outputs": [],
      "source": [
        "X_train, X_val, y_train, y_val = train_test_split(xa1,ya1, test_size=0.3, random_state=1)"
      ]
    },
    {
      "cell_type": "code",
      "execution_count": null,
      "metadata": {
        "colab": {
          "base_uri": "https://localhost:8080/"
        },
        "id": "r-RYIL3uk8Z3",
        "outputId": "1ae466e5-f053-45d3-8623-005a5909c764"
      },
      "outputs": [
        {
          "output_type": "stream",
          "name": "stdout",
          "text": [
            "(149893, 720, 1) (64241, 720, 1) (149893, 7, 1) (64241, 7, 1)\n"
          ]
        }
      ],
      "source": [
        "print(X_train.shape, X_val.shape, y_train.shape, y_val.shape)"
      ]
    },
    {
      "cell_type": "code",
      "execution_count": null,
      "metadata": {
        "colab": {
          "base_uri": "https://localhost:8080/"
        },
        "id": "onN3zUbbq8O3",
        "outputId": "70109596-463f-4121-9944-baff5b8a468c"
      },
      "outputs": [
        {
          "output_type": "stream",
          "name": "stdout",
          "text": [
            "(149893, 720, 1) (64241, 720, 1) (149893, 7, 1) (64241, 7, 1)\n"
          ]
        }
      ],
      "source": [
        "print(X_train.shape, X_val.shape, y_train.shape, y_val.shape)"
      ]
    },
    {
      "cell_type": "code",
      "execution_count": null,
      "metadata": {
        "colab": {
          "base_uri": "https://localhost:8080/"
        },
        "id": "AgO_KbeZ8GBl",
        "outputId": "a26ce1c6-7187-4612-fb07-0a0cc9ba6fc5"
      },
      "outputs": [
        {
          "output_type": "stream",
          "name": "stdout",
          "text": [
            "Number of class_0 : 453\n",
            "Number of class_1 : 136786\n",
            "Number of class_1_0 : 12654\n"
          ]
        }
      ],
      "source": [
        "def bf(y_data):\n",
        "  class_0_indices = np.where((y_data == 0).all(axis=1))[0]\n",
        "  print(f\"Number of class_0 : {len(class_0_indices)}\")\n",
        "  class_1_indices = np.where((y_data == 1).all(axis=1))[0]\n",
        "  print(f\"Number of class_1 : {len(class_1_indices)}\")\n",
        "  mixed_class_indices = np.where((y_data != 0).any(axis=1) & (y_data != 1).any(axis=1))[0]\n",
        "  print(f\"Number of class_1_0 : {len(mixed_class_indices)}\")\n",
        "bf(y_train)"
      ]
    },
    {
      "cell_type": "code",
      "execution_count": null,
      "metadata": {
        "id": "fspt46nh5nKF"
      },
      "outputs": [],
      "source": [
        "class Batches(Sequence):\n",
        "\n",
        "    def __init__(self, x_data, y_data, batch_size=32):\n",
        "\n",
        "        self.x_data = x_data\n",
        "        self.y_data = y_data\n",
        "        self.batch_size = batch_size\n",
        "        self.class_distribution = y_data.sum(axis=0)\n",
        "        self.num_zeros = np.sum(y_data == 0)\n",
        "        self.num_ones = np.sum(y_data == 1)\n",
        "\n",
        "    def __getitem__(self, index):\n",
        "\n",
        "        num_class_0 = int(self.batch_size * 0.33)\n",
        "        num_class_1 = int(self.batch_size * 0.33)\n",
        "\n",
        "        # Sample data for class 0\n",
        "        class_0_indices = np.where((self.y_data == 0).all(axis=1))[0]\n",
        "        #print(len(class_0_indices))\n",
        "        print(f\"length of self.ydata is {len(self.y_data)}\")\n",
        "        print(f\"num_class_0 is {num_class_0} whereas class_0_indices have length {len(class_0_indices)}\")\n",
        "\n",
        "        batch_indices_0 = np.random.choice(class_0_indices, size=num_class_0, replace=False)\n",
        "        #//print(len)\n",
        "        # Sample data for class 1\n",
        "        class_1_indices = np.where((self.y_data == 1).all(axis=1))[0]\n",
        "       # //print(len(class_1_indices))\n",
        "        batch_indices_1 = np.random.choice(class_1_indices, size=num_class_1, replace=False)\n",
        "\n",
        "\n",
        "        mixed_class_indices = np.where((self.y_data != 0).any(axis=1) & (self.y_data != 1).any(axis=1))[0]\n",
        "        num_mixed_samples = self.batch_size - len(batch_indices_0) - len(batch_indices_1)\n",
        "        batch_indices_mixed = np.random.choice(mixed_class_indices, size=num_mixed_samples, replace=False)\n",
        "\n",
        "        # Combine indices for all classes\n",
        "        batch_indices = np.concatenate((batch_indices_0, batch_indices_1, batch_indices_mixed))\n",
        "        np.random.shuffle(batch_indices)\n",
        "\n",
        "        batch_x = self.x_data[batch_indices]\n",
        "        batch_y = self.y_data[batch_indices]\n",
        "\n",
        "        return batch_x, batch_y\n",
        "\n",
        "    def __len__(self):\n",
        "        return len(self.x_data) // self.batch_size\n",
        "\n",
        "\n"
      ]
    },
    {
      "cell_type": "code",
      "execution_count": null,
      "metadata": {
        "id": "2EmzWwKh5nM0"
      },
      "outputs": [],
      "source": [
        "train_bth = Batches(X_train, y_train, batch_size=64)\n",
        "val_bth = Batches(X_val, y_val, batch_size=64)"
      ]
    },
    {
      "cell_type": "code",
      "execution_count": null,
      "metadata": {
        "id": "ojAiS52x4B05"
      },
      "outputs": [],
      "source": [
        "ew,er = train_bth[0]\n",
        "print(ew.shape, er.shape)\n"
      ]
    },
    {
      "cell_type": "code",
      "execution_count": null,
      "metadata": {
        "colab": {
          "base_uri": "https://localhost:8080/"
        },
        "id": "jJ8QvuIvBZCY",
        "outputId": "52290efb-6712-4922-ac5b-bff6684f77f4"
      },
      "outputs": [
        {
          "output_type": "stream",
          "name": "stdout",
          "text": [
            "214 234\n"
          ]
        }
      ],
      "source": [
        "w,q = count_0_1(er)\n",
        "print(w,q)"
      ]
    },
    {
      "cell_type": "code",
      "source": [
        "len(ya1)"
      ],
      "metadata": {
        "colab": {
          "base_uri": "https://localhost:8080/"
        },
        "id": "wIKTo-mFO1w9",
        "outputId": "25dd1cd4-57ab-40d9-a668-f09d8ed85f1e"
      },
      "execution_count": null,
      "outputs": [
        {
          "output_type": "execute_result",
          "data": {
            "text/plain": [
              "214134"
            ]
          },
          "metadata": {},
          "execution_count": 130
        }
      ]
    },
    {
      "cell_type": "code",
      "execution_count": null,
      "metadata": {
        "id": "NIe4vEpuIVbx"
      },
      "outputs": [],
      "source": [
        "from tensorflow.keras.layers import Dense, Input"
      ]
    },
    {
      "cell_type": "code",
      "execution_count": null,
      "metadata": {
        "id": "Gvd1HCEepC1e"
      },
      "outputs": [],
      "source": [
        "inputs = tf.keras.Input(shape=(720, 1))\n",
        "backbone = AutoModel(\"wavenet\", predict_length=7)(inputs)\n",
        "sigmoid_output = tf.keras.layers.Dense(1, activation='sigmoid')(backbone)\n",
        "model = tf.keras.Model(inputs=inputs, outputs=sigmoid_output)\n"
      ]
    },
    {
      "cell_type": "code",
      "execution_count": null,
      "metadata": {
        "id": "g4KTB-ZrhuQL"
      },
      "outputs": [],
      "source": [
        "model.compile(loss=tf.keras.losses.BinaryCrossentropy(), optimizer=tf.keras.optimizers.Adam(),metrics = ['accuracy'])"
      ]
    },
    {
      "cell_type": "code",
      "execution_count": null,
      "metadata": {
        "id": "WlJL7HI3UUfN",
        "colab": {
          "base_uri": "https://localhost:8080/",
          "height": 1000
        },
        "outputId": "fe62992c-89b6-4971-c900-d88cc9a05ecc"
      },
      "outputs": [
        {
          "output_type": "stream",
          "name": "stdout",
          "text": [
            "length of self.ydata is 149893\n",
            "num_class_0 is 21 whereas class_0_indices have length 453\n",
            "Epoch 1/10\n",
            "length of self.ydata is 149893\n",
            "num_class_0 is 21 whereas class_0_indices have length 453\n",
            "length of self.ydata is 149893\n",
            "num_class_0 is 21 whereas class_0_indices have length 453\n",
            "length of self.ydata is 149893\n",
            "num_class_0 is 21 whereas class_0_indices have length 453\n",
            "   1/2342 [..............................] - ETA: 4:11 - loss: 0.5398 - accuracy: 0.7143length of self.ydata is 149893\n",
            "num_class_0 is 21 whereas class_0_indices have length 453\n",
            "   2/2342 [..............................] - ETA: 2:49 - loss: 0.5159 - accuracy: 0.7344length of self.ydata is 149893\n",
            "num_class_0 is 21 whereas class_0_indices have length 453\n",
            "   3/2342 [..............................] - ETA: 2:50 - loss: 0.5186 - accuracy: 0.7329length of self.ydata is 149893\n",
            "num_class_0 is 21 whereas class_0_indices have length 453\n",
            "   4/2342 [..............................] - ETA: 2:48 - loss: 0.5236 - accuracy: 0.7232length of self.ydata is 149893\n",
            "num_class_0 is 21 whereas class_0_indices have length 453\n",
            "   5/2342 [..............................] - ETA: 2:50 - loss: 0.5401 - accuracy: 0.7165length of self.ydata is 149893\n",
            "num_class_0 is 21 whereas class_0_indices have length 453\n",
            "   6/2342 [..............................] - ETA: 2:50 - loss: 0.5394 - accuracy: 0.7184length of self.ydata is 149893\n",
            "num_class_0 is 21 whereas class_0_indices have length 453\n",
            "   7/2342 [..............................] - ETA: 2:52 - loss: 0.5353 - accuracy: 0.7188length of self.ydata is 149893\n",
            "num_class_0 is 21 whereas class_0_indices have length 453\n",
            "   8/2342 [..............................] - ETA: 2:53 - loss: 0.5282 - accuracy: 0.7182length of self.ydata is 149893\n",
            "num_class_0 is 21 whereas class_0_indices have length 453\n",
            "   9/2342 [..............................] - ETA: 2:53 - loss: 0.5272 - accuracy: 0.7180length of self.ydata is 149893\n",
            "num_class_0 is 21 whereas class_0_indices have length 453\n",
            "  10/2342 [..............................] - ETA: 2:55 - loss: 0.5264 - accuracy: 0.7183length of self.ydata is 149893\n",
            "num_class_0 is 21 whereas class_0_indices have length 453\n",
            "  11/2342 [..............................] - ETA: 2:55 - loss: 0.5287 - accuracy: 0.7159length of self.ydata is 149893\n",
            "num_class_0 is 21 whereas class_0_indices have length 453\n",
            "  12/2342 [..............................] - ETA: 2:56 - loss: 0.5211 - accuracy: 0.7212length of self.ydata is 149893\n",
            "num_class_0 is 21 whereas class_0_indices have length 453\n",
            "  13/2342 [..............................] - ETA: 2:58 - loss: 0.5185 - accuracy: 0.7234length of self.ydata is 149893\n",
            "num_class_0 is 21 whereas class_0_indices have length 453\n",
            "  14/2342 [..............................] - ETA: 3:00 - loss: 0.5194 - accuracy: 0.7221length of self.ydata is 149893\n",
            "num_class_0 is 21 whereas class_0_indices have length 453\n",
            "  15/2342 [..............................] - ETA: 3:01 - loss: 0.5160 - accuracy: 0.7235length of self.ydata is 149893\n",
            "num_class_0 is 21 whereas class_0_indices have length 453\n",
            "  16/2342 [..............................] - ETA: 3:03 - loss: 0.5172 - accuracy: 0.7211length of self.ydata is 149893\n",
            "num_class_0 is 21 whereas class_0_indices have length 453\n",
            "  17/2342 [..............................] - ETA: 3:05 - loss: 0.5168 - accuracy: 0.7206length of self.ydata is 149893\n",
            "num_class_0 is 21 whereas class_0_indices have length 453\n",
            "  18/2342 [..............................] - ETA: 3:05 - loss: 0.5153 - accuracy: 0.7221length of self.ydata is 149893\n",
            "num_class_0 is 21 whereas class_0_indices have length 453\n",
            "  19/2342 [..............................] - ETA: 3:06 - loss: 0.5145 - accuracy: 0.7227length of self.ydata is 149893\n",
            "num_class_0 is 21 whereas class_0_indices have length 453\n",
            "  20/2342 [..............................] - ETA: 3:05 - loss: 0.5115 - accuracy: 0.7248length of self.ydata is 149893\n",
            "num_class_0 is 21 whereas class_0_indices have length 453\n",
            "  21/2342 [..............................] - ETA: 3:05 - loss: 0.5108 - accuracy: 0.7249length of self.ydata is 149893\n",
            "num_class_0 is 21 whereas class_0_indices have length 453\n",
            "  22/2342 [..............................] - ETA: 3:04 - loss: 0.5114 - accuracy: 0.7240length of self.ydata is 149893\n",
            "num_class_0 is 21 whereas class_0_indices have length 453\n",
            "  23/2342 [..............................] - ETA: 3:03 - loss: 0.5112 - accuracy: 0.7236length of self.ydata is 149893\n",
            "num_class_0 is 21 whereas class_0_indices have length 453\n",
            "  24/2342 [..............................] - ETA: 3:02 - loss: 0.5124 - accuracy: 0.7223length of self.ydata is 149893\n",
            "num_class_0 is 21 whereas class_0_indices have length 453\n",
            "  25/2342 [..............................] - ETA: 3:01 - loss: 0.5152 - accuracy: 0.7199length of self.ydata is 149893\n",
            "num_class_0 is 21 whereas class_0_indices have length 453\n",
            "  26/2342 [..............................] - ETA: 3:00 - loss: 0.5151 - accuracy: 0.7197length of self.ydata is 149893\n",
            "num_class_0 is 21 whereas class_0_indices have length 453\n",
            "  27/2342 [..............................] - ETA: 3:00 - loss: 0.5160 - accuracy: 0.7186length of self.ydata is 149893\n",
            "num_class_0 is 21 whereas class_0_indices have length 453\n",
            "  28/2342 [..............................] - ETA: 3:00 - loss: 0.5148 - accuracy: 0.7194length of self.ydata is 149893\n",
            "num_class_0 is 21 whereas class_0_indices have length 453\n",
            "  29/2342 [..............................] - ETA: 3:00 - loss: 0.5150 - accuracy: 0.7199length of self.ydata is 149893\n",
            "num_class_0 is 21 whereas class_0_indices have length 453\n",
            "  30/2342 [..............................] - ETA: 3:00 - loss: 0.5147 - accuracy: 0.7197length of self.ydata is 149893\n",
            "num_class_0 is 21 whereas class_0_indices have length 453\n",
            "  31/2342 [..............................] - ETA: 2:59 - loss: 0.5170 - accuracy: 0.7177length of self.ydata is 149893\n",
            "num_class_0 is 21 whereas class_0_indices have length 453\n",
            "  32/2342 [..............................] - ETA: 2:59 - loss: 0.5168 - accuracy: 0.7180length of self.ydata is 149893\n",
            "num_class_0 is 21 whereas class_0_indices have length 453\n",
            "  33/2342 [..............................] - ETA: 2:59 - loss: 0.5167 - accuracy: 0.7181length of self.ydata is 149893\n",
            "num_class_0 is 21 whereas class_0_indices have length 453\n",
            "  34/2342 [..............................] - ETA: 2:59 - loss: 0.5169 - accuracy: 0.7175length of self.ydata is 149893\n",
            "num_class_0 is 21 whereas class_0_indices have length 453\n",
            "  35/2342 [..............................] - ETA: 2:59 - loss: 0.5175 - accuracy: 0.7183length of self.ydata is 149893\n",
            "num_class_0 is 21 whereas class_0_indices have length 453\n",
            "  36/2342 [..............................] - ETA: 2:58 - loss: 0.5174 - accuracy: 0.7180length of self.ydata is 149893\n",
            "num_class_0 is 21 whereas class_0_indices have length 453\n",
            "  37/2342 [..............................] - ETA: 2:58 - loss: 0.5165 - accuracy: 0.7188length of self.ydata is 149893\n",
            "num_class_0 is 21 whereas class_0_indices have length 453\n",
            "  38/2342 [..............................] - ETA: 2:58 - loss: 0.5163 - accuracy: 0.7187length of self.ydata is 149893\n",
            "num_class_0 is 21 whereas class_0_indices have length 453\n",
            "  39/2342 [..............................] - ETA: 2:58 - loss: 0.5162 - accuracy: 0.7190length of self.ydata is 149893\n",
            "num_class_0 is 21 whereas class_0_indices have length 453\n",
            "  40/2342 [..............................] - ETA: 2:57 - loss: 0.5166 - accuracy: 0.7190length of self.ydata is 149893\n",
            "num_class_0 is 21 whereas class_0_indices have length 453\n",
            "  41/2342 [..............................] - ETA: 2:57 - loss: 0.5164 - accuracy: 0.7196length of self.ydata is 149893\n",
            "num_class_0 is 21 whereas class_0_indices have length 453\n",
            "  42/2342 [..............................] - ETA: 2:57 - loss: 0.5167 - accuracy: 0.7189length of self.ydata is 149893\n",
            "num_class_0 is 21 whereas class_0_indices have length 453\n",
            "  43/2342 [..............................] - ETA: 2:57 - loss: 0.5164 - accuracy: 0.7194length of self.ydata is 149893\n",
            "num_class_0 is 21 whereas class_0_indices have length 453\n",
            "  44/2342 [..............................] - ETA: 2:57 - loss: 0.5151 - accuracy: 0.7205length of self.ydata is 149893\n",
            "num_class_0 is 21 whereas class_0_indices have length 453\n",
            "  45/2342 [..............................] - ETA: 2:57 - loss: 0.5148 - accuracy: 0.7204length of self.ydata is 149893\n",
            "num_class_0 is 21 whereas class_0_indices have length 453\n",
            "  46/2342 [..............................] - ETA: 2:57 - loss: 0.5139 - accuracy: 0.7213length of self.ydata is 149893\n",
            "num_class_0 is 21 whereas class_0_indices have length 453\n",
            "  47/2342 [..............................] - ETA: 2:56 - loss: 0.5141 - accuracy: 0.7215length of self.ydata is 149893\n",
            "num_class_0 is 21 whereas class_0_indices have length 453\n",
            "  48/2342 [..............................] - ETA: 2:56 - loss: 0.5153 - accuracy: 0.7211length of self.ydata is 149893\n",
            "num_class_0 is 21 whereas class_0_indices have length 453\n",
            "  49/2342 [..............................] - ETA: 2:55 - loss: 0.5146 - accuracy: 0.7217length of self.ydata is 149893\n",
            "num_class_0 is 21 whereas class_0_indices have length 453\n",
            "  50/2342 [..............................] - ETA: 2:55 - loss: 0.5141 - accuracy: 0.7220length of self.ydata is 149893\n",
            "num_class_0 is 21 whereas class_0_indices have length 453\n",
            "  51/2342 [..............................] - ETA: 2:55 - loss: 0.5130 - accuracy: 0.7229length of self.ydata is 149893\n",
            "num_class_0 is 21 whereas class_0_indices have length 453\n",
            "  52/2342 [..............................] - ETA: 2:55 - loss: 0.5134 - accuracy: 0.7224length of self.ydata is 149893\n",
            "num_class_0 is 21 whereas class_0_indices have length 453\n",
            "  53/2342 [..............................] - ETA: 2:55 - loss: 0.5142 - accuracy: 0.7217length of self.ydata is 149893\n",
            "num_class_0 is 21 whereas class_0_indices have length 453\n",
            "  54/2342 [..............................] - ETA: 2:54 - loss: 0.5141 - accuracy: 0.7217length of self.ydata is 149893\n",
            "num_class_0 is 21 whereas class_0_indices have length 453\n",
            "  55/2342 [..............................] - ETA: 2:54 - loss: 0.5152 - accuracy: 0.7208length of self.ydata is 149893\n",
            "num_class_0 is 21 whereas class_0_indices have length 453\n",
            "  56/2342 [..............................] - ETA: 2:54 - loss: 0.5143 - accuracy: 0.7213length of self.ydata is 149893\n",
            "num_class_0 is 21 whereas class_0_indices have length 453\n",
            "  57/2342 [..............................] - ETA: 2:54 - loss: 0.5140 - accuracy: 0.7213length of self.ydata is 149893\n",
            "num_class_0 is 21 whereas class_0_indices have length 453\n",
            "  58/2342 [..............................] - ETA: 2:54 - loss: 0.5140 - accuracy: 0.7214length of self.ydata is 149893\n",
            "num_class_0 is 21 whereas class_0_indices have length 453\n",
            "  59/2342 [..............................] - ETA: 2:54 - loss: 0.5135 - accuracy: 0.7217length of self.ydata is 149893\n",
            "num_class_0 is 21 whereas class_0_indices have length 453\n",
            "  60/2342 [..............................] - ETA: 2:53 - loss: 0.5139 - accuracy: 0.7218length of self.ydata is 149893\n",
            "num_class_0 is 21 whereas class_0_indices have length 453\n",
            "  61/2342 [..............................] - ETA: 2:53 - loss: 0.5145 - accuracy: 0.7215length of self.ydata is 149893\n",
            "num_class_0 is 21 whereas class_0_indices have length 453\n",
            "  62/2342 [..............................] - ETA: 2:53 - loss: 0.5133 - accuracy: 0.7225length of self.ydata is 149893\n",
            "num_class_0 is 21 whereas class_0_indices have length 453\n",
            "  63/2342 [..............................] - ETA: 2:52 - loss: 0.5142 - accuracy: 0.7217length of self.ydata is 149893\n",
            "num_class_0 is 21 whereas class_0_indices have length 453\n",
            "  64/2342 [..............................] - ETA: 2:53 - loss: 0.5158 - accuracy: 0.7207length of self.ydata is 149893\n",
            "num_class_0 is 21 whereas class_0_indices have length 453\n",
            "  65/2342 [..............................] - ETA: 2:52 - loss: 0.5158 - accuracy: 0.7212length of self.ydata is 149893\n",
            "num_class_0 is 21 whereas class_0_indices have length 453\n",
            "  66/2342 [..............................] - ETA: 2:52 - loss: 0.5167 - accuracy: 0.7207length of self.ydata is 149893\n",
            "num_class_0 is 21 whereas class_0_indices have length 453\n",
            "  67/2342 [..............................] - ETA: 2:52 - loss: 0.5167 - accuracy: 0.7206length of self.ydata is 149893\n",
            "num_class_0 is 21 whereas class_0_indices have length 453\n",
            "  68/2342 [..............................] - ETA: 2:52 - loss: 0.5166 - accuracy: 0.7207length of self.ydata is 149893\n",
            "num_class_0 is 21 whereas class_0_indices have length 453\n",
            "  69/2342 [..............................] - ETA: 2:53 - loss: 0.5160 - accuracy: 0.7210length of self.ydata is 149893\n",
            "num_class_0 is 21 whereas class_0_indices have length 453\n",
            "  70/2342 [..............................] - ETA: 2:53 - loss: 0.5162 - accuracy: 0.7205length of self.ydata is 149893\n",
            "num_class_0 is 21 whereas class_0_indices have length 453\n",
            "  71/2342 [..............................] - ETA: 2:53 - loss: 0.5154 - accuracy: 0.7213length of self.ydata is 149893\n",
            "num_class_0 is 21 whereas class_0_indices have length 453\n",
            "  72/2342 [..............................] - ETA: 2:53 - loss: 0.5153 - accuracy: 0.7212length of self.ydata is 149893\n",
            "num_class_0 is 21 whereas class_0_indices have length 453\n",
            "  73/2342 [..............................] - ETA: 2:53 - loss: 0.5149 - accuracy: 0.7214length of self.ydata is 149893\n",
            "num_class_0 is 21 whereas class_0_indices have length 453\n",
            "  74/2342 [..............................] - ETA: 2:52 - loss: 0.5140 - accuracy: 0.7225length of self.ydata is 149893\n",
            "num_class_0 is 21 whereas class_0_indices have length 453\n"
          ]
        },
        {
          "output_type": "error",
          "ename": "KeyboardInterrupt",
          "evalue": "",
          "traceback": [
            "\u001b[0;31m---------------------------------------------------------------------------\u001b[0m",
            "\u001b[0;31mKeyboardInterrupt\u001b[0m                         Traceback (most recent call last)",
            "\u001b[0;32m<ipython-input-129-fbec3700a251>\u001b[0m in \u001b[0;36m<cell line: 1>\u001b[0;34m()\u001b[0m\n\u001b[0;32m----> 1\u001b[0;31m history = model.fit(train_bth,\n\u001b[0m\u001b[1;32m      2\u001b[0m           \u001b[0mepochs\u001b[0m \u001b[0;34m=\u001b[0m \u001b[0;36m10\u001b[0m\u001b[0;34m,\u001b[0m\u001b[0;34m\u001b[0m\u001b[0;34m\u001b[0m\u001b[0m\n\u001b[1;32m      3\u001b[0m           validation_data=val_bth, batch_size = 64)\n",
            "\u001b[0;32m/usr/local/lib/python3.10/dist-packages/keras/src/utils/traceback_utils.py\u001b[0m in \u001b[0;36merror_handler\u001b[0;34m(*args, **kwargs)\u001b[0m\n\u001b[1;32m     63\u001b[0m         \u001b[0mfiltered_tb\u001b[0m \u001b[0;34m=\u001b[0m \u001b[0;32mNone\u001b[0m\u001b[0;34m\u001b[0m\u001b[0;34m\u001b[0m\u001b[0m\n\u001b[1;32m     64\u001b[0m         \u001b[0;32mtry\u001b[0m\u001b[0;34m:\u001b[0m\u001b[0;34m\u001b[0m\u001b[0;34m\u001b[0m\u001b[0m\n\u001b[0;32m---> 65\u001b[0;31m             \u001b[0;32mreturn\u001b[0m \u001b[0mfn\u001b[0m\u001b[0;34m(\u001b[0m\u001b[0;34m*\u001b[0m\u001b[0margs\u001b[0m\u001b[0;34m,\u001b[0m \u001b[0;34m**\u001b[0m\u001b[0mkwargs\u001b[0m\u001b[0;34m)\u001b[0m\u001b[0;34m\u001b[0m\u001b[0;34m\u001b[0m\u001b[0m\n\u001b[0m\u001b[1;32m     66\u001b[0m         \u001b[0;32mexcept\u001b[0m \u001b[0mException\u001b[0m \u001b[0;32mas\u001b[0m \u001b[0me\u001b[0m\u001b[0;34m:\u001b[0m\u001b[0;34m\u001b[0m\u001b[0;34m\u001b[0m\u001b[0m\n\u001b[1;32m     67\u001b[0m             \u001b[0mfiltered_tb\u001b[0m \u001b[0;34m=\u001b[0m \u001b[0m_process_traceback_frames\u001b[0m\u001b[0;34m(\u001b[0m\u001b[0me\u001b[0m\u001b[0;34m.\u001b[0m\u001b[0m__traceback__\u001b[0m\u001b[0;34m)\u001b[0m\u001b[0;34m\u001b[0m\u001b[0;34m\u001b[0m\u001b[0m\n",
            "\u001b[0;32m/usr/local/lib/python3.10/dist-packages/keras/src/engine/training.py\u001b[0m in \u001b[0;36mfit\u001b[0;34m(self, x, y, batch_size, epochs, verbose, callbacks, validation_split, validation_data, shuffle, class_weight, sample_weight, initial_epoch, steps_per_epoch, validation_steps, validation_batch_size, validation_freq, max_queue_size, workers, use_multiprocessing)\u001b[0m\n\u001b[1;32m   1805\u001b[0m                         ):\n\u001b[1;32m   1806\u001b[0m                             \u001b[0mcallbacks\u001b[0m\u001b[0;34m.\u001b[0m\u001b[0mon_train_batch_begin\u001b[0m\u001b[0;34m(\u001b[0m\u001b[0mstep\u001b[0m\u001b[0;34m)\u001b[0m\u001b[0;34m\u001b[0m\u001b[0;34m\u001b[0m\u001b[0m\n\u001b[0;32m-> 1807\u001b[0;31m                             \u001b[0mtmp_logs\u001b[0m \u001b[0;34m=\u001b[0m \u001b[0mself\u001b[0m\u001b[0;34m.\u001b[0m\u001b[0mtrain_function\u001b[0m\u001b[0;34m(\u001b[0m\u001b[0miterator\u001b[0m\u001b[0;34m)\u001b[0m\u001b[0;34m\u001b[0m\u001b[0;34m\u001b[0m\u001b[0m\n\u001b[0m\u001b[1;32m   1808\u001b[0m                             \u001b[0;32mif\u001b[0m \u001b[0mdata_handler\u001b[0m\u001b[0;34m.\u001b[0m\u001b[0mshould_sync\u001b[0m\u001b[0;34m:\u001b[0m\u001b[0;34m\u001b[0m\u001b[0;34m\u001b[0m\u001b[0m\n\u001b[1;32m   1809\u001b[0m                                 \u001b[0mcontext\u001b[0m\u001b[0;34m.\u001b[0m\u001b[0masync_wait\u001b[0m\u001b[0;34m(\u001b[0m\u001b[0;34m)\u001b[0m\u001b[0;34m\u001b[0m\u001b[0;34m\u001b[0m\u001b[0m\n",
            "\u001b[0;32m/usr/local/lib/python3.10/dist-packages/tensorflow/python/util/traceback_utils.py\u001b[0m in \u001b[0;36merror_handler\u001b[0;34m(*args, **kwargs)\u001b[0m\n\u001b[1;32m    148\u001b[0m     \u001b[0mfiltered_tb\u001b[0m \u001b[0;34m=\u001b[0m \u001b[0;32mNone\u001b[0m\u001b[0;34m\u001b[0m\u001b[0;34m\u001b[0m\u001b[0m\n\u001b[1;32m    149\u001b[0m     \u001b[0;32mtry\u001b[0m\u001b[0;34m:\u001b[0m\u001b[0;34m\u001b[0m\u001b[0;34m\u001b[0m\u001b[0m\n\u001b[0;32m--> 150\u001b[0;31m       \u001b[0;32mreturn\u001b[0m \u001b[0mfn\u001b[0m\u001b[0;34m(\u001b[0m\u001b[0;34m*\u001b[0m\u001b[0margs\u001b[0m\u001b[0;34m,\u001b[0m \u001b[0;34m**\u001b[0m\u001b[0mkwargs\u001b[0m\u001b[0;34m)\u001b[0m\u001b[0;34m\u001b[0m\u001b[0;34m\u001b[0m\u001b[0m\n\u001b[0m\u001b[1;32m    151\u001b[0m     \u001b[0;32mexcept\u001b[0m \u001b[0mException\u001b[0m \u001b[0;32mas\u001b[0m \u001b[0me\u001b[0m\u001b[0;34m:\u001b[0m\u001b[0;34m\u001b[0m\u001b[0;34m\u001b[0m\u001b[0m\n\u001b[1;32m    152\u001b[0m       \u001b[0mfiltered_tb\u001b[0m \u001b[0;34m=\u001b[0m \u001b[0m_process_traceback_frames\u001b[0m\u001b[0;34m(\u001b[0m\u001b[0me\u001b[0m\u001b[0;34m.\u001b[0m\u001b[0m__traceback__\u001b[0m\u001b[0;34m)\u001b[0m\u001b[0;34m\u001b[0m\u001b[0;34m\u001b[0m\u001b[0m\n",
            "\u001b[0;32m/usr/local/lib/python3.10/dist-packages/tensorflow/python/eager/polymorphic_function/polymorphic_function.py\u001b[0m in \u001b[0;36m__call__\u001b[0;34m(self, *args, **kwds)\u001b[0m\n\u001b[1;32m    830\u001b[0m \u001b[0;34m\u001b[0m\u001b[0m\n\u001b[1;32m    831\u001b[0m       \u001b[0;32mwith\u001b[0m \u001b[0mOptionalXlaContext\u001b[0m\u001b[0;34m(\u001b[0m\u001b[0mself\u001b[0m\u001b[0;34m.\u001b[0m\u001b[0m_jit_compile\u001b[0m\u001b[0;34m)\u001b[0m\u001b[0;34m:\u001b[0m\u001b[0;34m\u001b[0m\u001b[0;34m\u001b[0m\u001b[0m\n\u001b[0;32m--> 832\u001b[0;31m         \u001b[0mresult\u001b[0m \u001b[0;34m=\u001b[0m \u001b[0mself\u001b[0m\u001b[0;34m.\u001b[0m\u001b[0m_call\u001b[0m\u001b[0;34m(\u001b[0m\u001b[0;34m*\u001b[0m\u001b[0margs\u001b[0m\u001b[0;34m,\u001b[0m \u001b[0;34m**\u001b[0m\u001b[0mkwds\u001b[0m\u001b[0;34m)\u001b[0m\u001b[0;34m\u001b[0m\u001b[0;34m\u001b[0m\u001b[0m\n\u001b[0m\u001b[1;32m    833\u001b[0m \u001b[0;34m\u001b[0m\u001b[0m\n\u001b[1;32m    834\u001b[0m       \u001b[0mnew_tracing_count\u001b[0m \u001b[0;34m=\u001b[0m \u001b[0mself\u001b[0m\u001b[0;34m.\u001b[0m\u001b[0mexperimental_get_tracing_count\u001b[0m\u001b[0;34m(\u001b[0m\u001b[0;34m)\u001b[0m\u001b[0;34m\u001b[0m\u001b[0;34m\u001b[0m\u001b[0m\n",
            "\u001b[0;32m/usr/local/lib/python3.10/dist-packages/tensorflow/python/eager/polymorphic_function/polymorphic_function.py\u001b[0m in \u001b[0;36m_call\u001b[0;34m(self, *args, **kwds)\u001b[0m\n\u001b[1;32m    866\u001b[0m       \u001b[0;31m# In this case we have created variables on the first call, so we run the\u001b[0m\u001b[0;34m\u001b[0m\u001b[0;34m\u001b[0m\u001b[0m\n\u001b[1;32m    867\u001b[0m       \u001b[0;31m# defunned version which is guaranteed to never create variables.\u001b[0m\u001b[0;34m\u001b[0m\u001b[0;34m\u001b[0m\u001b[0m\n\u001b[0;32m--> 868\u001b[0;31m       return tracing_compilation.call_function(\n\u001b[0m\u001b[1;32m    869\u001b[0m           \u001b[0margs\u001b[0m\u001b[0;34m,\u001b[0m \u001b[0mkwds\u001b[0m\u001b[0;34m,\u001b[0m \u001b[0mself\u001b[0m\u001b[0;34m.\u001b[0m\u001b[0m_no_variable_creation_config\u001b[0m\u001b[0;34m\u001b[0m\u001b[0;34m\u001b[0m\u001b[0m\n\u001b[1;32m    870\u001b[0m       )\n",
            "\u001b[0;32m/usr/local/lib/python3.10/dist-packages/tensorflow/python/eager/polymorphic_function/tracing_compilation.py\u001b[0m in \u001b[0;36mcall_function\u001b[0;34m(args, kwargs, tracing_options)\u001b[0m\n\u001b[1;32m    137\u001b[0m   \u001b[0mbound_args\u001b[0m \u001b[0;34m=\u001b[0m \u001b[0mfunction\u001b[0m\u001b[0;34m.\u001b[0m\u001b[0mfunction_type\u001b[0m\u001b[0;34m.\u001b[0m\u001b[0mbind\u001b[0m\u001b[0;34m(\u001b[0m\u001b[0;34m*\u001b[0m\u001b[0margs\u001b[0m\u001b[0;34m,\u001b[0m \u001b[0;34m**\u001b[0m\u001b[0mkwargs\u001b[0m\u001b[0;34m)\u001b[0m\u001b[0;34m\u001b[0m\u001b[0;34m\u001b[0m\u001b[0m\n\u001b[1;32m    138\u001b[0m   \u001b[0mflat_inputs\u001b[0m \u001b[0;34m=\u001b[0m \u001b[0mfunction\u001b[0m\u001b[0;34m.\u001b[0m\u001b[0mfunction_type\u001b[0m\u001b[0;34m.\u001b[0m\u001b[0munpack_inputs\u001b[0m\u001b[0;34m(\u001b[0m\u001b[0mbound_args\u001b[0m\u001b[0;34m)\u001b[0m\u001b[0;34m\u001b[0m\u001b[0;34m\u001b[0m\u001b[0m\n\u001b[0;32m--> 139\u001b[0;31m   return function._call_flat(  # pylint: disable=protected-access\n\u001b[0m\u001b[1;32m    140\u001b[0m       \u001b[0mflat_inputs\u001b[0m\u001b[0;34m,\u001b[0m \u001b[0mcaptured_inputs\u001b[0m\u001b[0;34m=\u001b[0m\u001b[0mfunction\u001b[0m\u001b[0;34m.\u001b[0m\u001b[0mcaptured_inputs\u001b[0m\u001b[0;34m\u001b[0m\u001b[0;34m\u001b[0m\u001b[0m\n\u001b[1;32m    141\u001b[0m   )\n",
            "\u001b[0;32m/usr/local/lib/python3.10/dist-packages/tensorflow/python/eager/polymorphic_function/concrete_function.py\u001b[0m in \u001b[0;36m_call_flat\u001b[0;34m(self, tensor_inputs, captured_inputs)\u001b[0m\n\u001b[1;32m   1321\u001b[0m         and executing_eagerly):\n\u001b[1;32m   1322\u001b[0m       \u001b[0;31m# No tape is watching; skip to running the function.\u001b[0m\u001b[0;34m\u001b[0m\u001b[0;34m\u001b[0m\u001b[0m\n\u001b[0;32m-> 1323\u001b[0;31m       \u001b[0;32mreturn\u001b[0m \u001b[0mself\u001b[0m\u001b[0;34m.\u001b[0m\u001b[0m_inference_function\u001b[0m\u001b[0;34m.\u001b[0m\u001b[0mcall_preflattened\u001b[0m\u001b[0;34m(\u001b[0m\u001b[0margs\u001b[0m\u001b[0;34m)\u001b[0m\u001b[0;34m\u001b[0m\u001b[0;34m\u001b[0m\u001b[0m\n\u001b[0m\u001b[1;32m   1324\u001b[0m     forward_backward = self._select_forward_and_backward_functions(\n\u001b[1;32m   1325\u001b[0m         \u001b[0margs\u001b[0m\u001b[0;34m,\u001b[0m\u001b[0;34m\u001b[0m\u001b[0;34m\u001b[0m\u001b[0m\n",
            "\u001b[0;32m/usr/local/lib/python3.10/dist-packages/tensorflow/python/eager/polymorphic_function/atomic_function.py\u001b[0m in \u001b[0;36mcall_preflattened\u001b[0;34m(self, args)\u001b[0m\n\u001b[1;32m    214\u001b[0m   \u001b[0;32mdef\u001b[0m \u001b[0mcall_preflattened\u001b[0m\u001b[0;34m(\u001b[0m\u001b[0mself\u001b[0m\u001b[0;34m,\u001b[0m \u001b[0margs\u001b[0m\u001b[0;34m:\u001b[0m \u001b[0mSequence\u001b[0m\u001b[0;34m[\u001b[0m\u001b[0mcore\u001b[0m\u001b[0;34m.\u001b[0m\u001b[0mTensor\u001b[0m\u001b[0;34m]\u001b[0m\u001b[0;34m)\u001b[0m \u001b[0;34m->\u001b[0m \u001b[0mAny\u001b[0m\u001b[0;34m:\u001b[0m\u001b[0;34m\u001b[0m\u001b[0;34m\u001b[0m\u001b[0m\n\u001b[1;32m    215\u001b[0m     \u001b[0;34m\"\"\"Calls with flattened tensor inputs and returns the structured output.\"\"\"\u001b[0m\u001b[0;34m\u001b[0m\u001b[0;34m\u001b[0m\u001b[0m\n\u001b[0;32m--> 216\u001b[0;31m     \u001b[0mflat_outputs\u001b[0m \u001b[0;34m=\u001b[0m \u001b[0mself\u001b[0m\u001b[0;34m.\u001b[0m\u001b[0mcall_flat\u001b[0m\u001b[0;34m(\u001b[0m\u001b[0;34m*\u001b[0m\u001b[0margs\u001b[0m\u001b[0;34m)\u001b[0m\u001b[0;34m\u001b[0m\u001b[0;34m\u001b[0m\u001b[0m\n\u001b[0m\u001b[1;32m    217\u001b[0m     \u001b[0;32mreturn\u001b[0m \u001b[0mself\u001b[0m\u001b[0;34m.\u001b[0m\u001b[0mfunction_type\u001b[0m\u001b[0;34m.\u001b[0m\u001b[0mpack_output\u001b[0m\u001b[0;34m(\u001b[0m\u001b[0mflat_outputs\u001b[0m\u001b[0;34m)\u001b[0m\u001b[0;34m\u001b[0m\u001b[0;34m\u001b[0m\u001b[0m\n\u001b[1;32m    218\u001b[0m \u001b[0;34m\u001b[0m\u001b[0m\n",
            "\u001b[0;32m/usr/local/lib/python3.10/dist-packages/tensorflow/python/eager/polymorphic_function/atomic_function.py\u001b[0m in \u001b[0;36mcall_flat\u001b[0;34m(self, *args)\u001b[0m\n\u001b[1;32m    249\u001b[0m         \u001b[0;32mwith\u001b[0m \u001b[0mrecord\u001b[0m\u001b[0;34m.\u001b[0m\u001b[0mstop_recording\u001b[0m\u001b[0;34m(\u001b[0m\u001b[0;34m)\u001b[0m\u001b[0;34m:\u001b[0m\u001b[0;34m\u001b[0m\u001b[0;34m\u001b[0m\u001b[0m\n\u001b[1;32m    250\u001b[0m           \u001b[0;32mif\u001b[0m \u001b[0mself\u001b[0m\u001b[0;34m.\u001b[0m\u001b[0m_bound_context\u001b[0m\u001b[0;34m.\u001b[0m\u001b[0mexecuting_eagerly\u001b[0m\u001b[0;34m(\u001b[0m\u001b[0;34m)\u001b[0m\u001b[0;34m:\u001b[0m\u001b[0;34m\u001b[0m\u001b[0;34m\u001b[0m\u001b[0m\n\u001b[0;32m--> 251\u001b[0;31m             outputs = self._bound_context.call_function(\n\u001b[0m\u001b[1;32m    252\u001b[0m                 \u001b[0mself\u001b[0m\u001b[0;34m.\u001b[0m\u001b[0mname\u001b[0m\u001b[0;34m,\u001b[0m\u001b[0;34m\u001b[0m\u001b[0;34m\u001b[0m\u001b[0m\n\u001b[1;32m    253\u001b[0m                 \u001b[0mlist\u001b[0m\u001b[0;34m(\u001b[0m\u001b[0margs\u001b[0m\u001b[0;34m)\u001b[0m\u001b[0;34m,\u001b[0m\u001b[0;34m\u001b[0m\u001b[0;34m\u001b[0m\u001b[0m\n",
            "\u001b[0;32m/usr/local/lib/python3.10/dist-packages/tensorflow/python/eager/context.py\u001b[0m in \u001b[0;36mcall_function\u001b[0;34m(self, name, tensor_inputs, num_outputs)\u001b[0m\n\u001b[1;32m   1484\u001b[0m     \u001b[0mcancellation_context\u001b[0m \u001b[0;34m=\u001b[0m \u001b[0mcancellation\u001b[0m\u001b[0;34m.\u001b[0m\u001b[0mcontext\u001b[0m\u001b[0;34m(\u001b[0m\u001b[0;34m)\u001b[0m\u001b[0;34m\u001b[0m\u001b[0;34m\u001b[0m\u001b[0m\n\u001b[1;32m   1485\u001b[0m     \u001b[0;32mif\u001b[0m \u001b[0mcancellation_context\u001b[0m \u001b[0;32mis\u001b[0m \u001b[0;32mNone\u001b[0m\u001b[0;34m:\u001b[0m\u001b[0;34m\u001b[0m\u001b[0;34m\u001b[0m\u001b[0m\n\u001b[0;32m-> 1486\u001b[0;31m       outputs = execute.execute(\n\u001b[0m\u001b[1;32m   1487\u001b[0m           \u001b[0mname\u001b[0m\u001b[0;34m.\u001b[0m\u001b[0mdecode\u001b[0m\u001b[0;34m(\u001b[0m\u001b[0;34m\"utf-8\"\u001b[0m\u001b[0;34m)\u001b[0m\u001b[0;34m,\u001b[0m\u001b[0;34m\u001b[0m\u001b[0;34m\u001b[0m\u001b[0m\n\u001b[1;32m   1488\u001b[0m           \u001b[0mnum_outputs\u001b[0m\u001b[0;34m=\u001b[0m\u001b[0mnum_outputs\u001b[0m\u001b[0;34m,\u001b[0m\u001b[0;34m\u001b[0m\u001b[0;34m\u001b[0m\u001b[0m\n",
            "\u001b[0;32m/usr/local/lib/python3.10/dist-packages/tensorflow/python/eager/execute.py\u001b[0m in \u001b[0;36mquick_execute\u001b[0;34m(op_name, num_outputs, inputs, attrs, ctx, name)\u001b[0m\n\u001b[1;32m     51\u001b[0m   \u001b[0;32mtry\u001b[0m\u001b[0;34m:\u001b[0m\u001b[0;34m\u001b[0m\u001b[0;34m\u001b[0m\u001b[0m\n\u001b[1;32m     52\u001b[0m     \u001b[0mctx\u001b[0m\u001b[0;34m.\u001b[0m\u001b[0mensure_initialized\u001b[0m\u001b[0;34m(\u001b[0m\u001b[0;34m)\u001b[0m\u001b[0;34m\u001b[0m\u001b[0;34m\u001b[0m\u001b[0m\n\u001b[0;32m---> 53\u001b[0;31m     tensors = pywrap_tfe.TFE_Py_Execute(ctx._handle, device_name, op_name,\n\u001b[0m\u001b[1;32m     54\u001b[0m                                         inputs, attrs, num_outputs)\n\u001b[1;32m     55\u001b[0m   \u001b[0;32mexcept\u001b[0m \u001b[0mcore\u001b[0m\u001b[0;34m.\u001b[0m\u001b[0m_NotOkStatusException\u001b[0m \u001b[0;32mas\u001b[0m \u001b[0me\u001b[0m\u001b[0;34m:\u001b[0m\u001b[0;34m\u001b[0m\u001b[0;34m\u001b[0m\u001b[0m\n",
            "\u001b[0;31mKeyboardInterrupt\u001b[0m: "
          ]
        }
      ],
      "source": [
        "history = model.fit(train_bth,\n",
        "          epochs = 10,\n",
        "          validation_data=val_bth, batch_size = 64)"
      ]
    },
    {
      "cell_type": "code",
      "execution_count": null,
      "metadata": {
        "id": "fY_H_tnFGgjP"
      },
      "outputs": [],
      "source": [
        "plt.figure(figsize=(10, 5))\n",
        "plt.plot(history.history['loss'], label='Training Loss', color='b')\n",
        "plt.plot(history.history['val_loss'], label='Validation Loss', color='r')\n",
        "plt.title('Training and Validation Loss over Epochs')\n",
        "plt.xlabel('Epoch')\n",
        "plt.ylabel('Loss')\n",
        "plt.legend()\n",
        "plt.savefig(\"loss_GRU.png\")\n",
        "plt.show()"
      ]
    },
    {
      "cell_type": "code",
      "execution_count": null,
      "metadata": {
        "id": "-M9dhCTni70E"
      },
      "outputs": [],
      "source": [
        "plt.figure(figsize=(10, 5))\n",
        "plt.plot(history.history['accuracy'], label='Training Accuracy', color='b')\n",
        "plt.plot(history.history['val_accuracy'], label='Validation Accuracy', color='r')\n",
        "plt.title('Training and Validation Accuracy over Epochs')\n",
        "plt.xlabel('Epoch')\n",
        "plt.ylabel('Accuracy')\n",
        "plt.legend()\n",
        "plt.savefig(\"accuracy_GRU.png\")\n",
        "plt.show()"
      ]
    },
    {
      "cell_type": "code",
      "execution_count": null,
      "metadata": {
        "id": "lAh1r0dYBxnc"
      },
      "outputs": [],
      "source": [
        "xtt = np.vstack((xrtt,xatt))\n",
        "ytt = np.vstack((yrtt,yatt))"
      ]
    },
    {
      "cell_type": "code",
      "execution_count": null,
      "metadata": {
        "id": "otbGwRWR1JKk"
      },
      "outputs": [],
      "source": [
        "xtt = xrtt\n",
        "ytt = yrtt"
      ]
    },
    {
      "cell_type": "code",
      "execution_count": null,
      "metadata": {
        "id": "oX5-ISG8DMhW"
      },
      "outputs": [],
      "source": [
        "clas = np.where((ytt != 0).any(axis=1) & (ytt != 1).any(axis=1))[0]"
      ]
    },
    {
      "cell_type": "code",
      "execution_count": null,
      "metadata": {
        "id": "TE7NoEjb-6Y2"
      },
      "outputs": [],
      "source": [
        "def bf(y_data):\n",
        "  class_0_indices = np.where((y_data == 0).all(axis=1))[0]\n",
        "  print(f\"Number of class_0 : {len(class_0_indices)}\")\n",
        "  class_1_indices = np.where((y_data == 1).all(axis=1))[0]\n",
        "  print(f\"Number of class_1 : {len(class_1_indices)}\")\n",
        "  mixed_class_indices = np.where((y_data != 0).any(axis=1) & (y_data != 1).any(axis=1))[0]\n",
        "  print(f\"Number of class_mixed : {len(mixed_class_indices)}\")\n",
        "  return min(len(class_0_indices),len(class_1_indices),len(mixed_class_indices))\n",
        "\n",
        "m = bf(ytt)"
      ]
    },
    {
      "cell_type": "code",
      "execution_count": null,
      "metadata": {
        "id": "MKJvRieT_zWp"
      },
      "outputs": [],
      "source": [
        "num_class_0 = m\n",
        "num_class_1 = m\n",
        "class_0_indices = np.where((ytt == 0).all(axis=1))[0]\n",
        "batch_indices_0 = np.random.choice(class_0_indices, size=num_class_0, replace=False)\n",
        "class_1_indices = np.where((ytt == 1).all(axis=1))[0]\n",
        "batch_indices_1 = np.random.choice(class_1_indices, size=num_class_1, replace=False)\n",
        "mixed_class_indices = np.where((ytt != 0).any(axis=1) & (ytt != 1).any(axis=1))[0]\n",
        "num_mixed_samples = m\n",
        "batch_indices_mixed = np.random.choice(mixed_class_indices, size=num_mixed_samples, replace=False)\n",
        "batch_indices = np.concatenate((batch_indices_0, batch_indices_1, batch_indices_mixed))\n",
        "np.random.shuffle(batch_indices)\n",
        "xttm = xtt[batch_indices]\n",
        "yttm = ytt[batch_indices]\n"
      ]
    },
    {
      "cell_type": "code",
      "execution_count": null,
      "metadata": {
        "id": "NpYNU2-cxKUi"
      },
      "outputs": [],
      "source": [
        "pred = model.predict(xttm)"
      ]
    },
    {
      "cell_type": "code",
      "execution_count": null,
      "metadata": {
        "id": "jpQ_un-JKFll"
      },
      "outputs": [],
      "source": [
        "y_pred=[]\n",
        "for sample in  pred:\n",
        "  y_pred.append([1 if i>=0.5 else 0 for i in sample ] )\n",
        "y_pred = np.array(y_pred)\n",
        "y_pred"
      ]
    },
    {
      "cell_type": "code",
      "execution_count": null,
      "metadata": {
        "id": "grrYdK9OQxqf"
      },
      "outputs": [],
      "source": [
        "np.unique(y_pred, return_counts= True, axis = 0\n",
        "          )"
      ]
    },
    {
      "cell_type": "code",
      "execution_count": null,
      "metadata": {
        "id": "s5Dc-8huLVsk"
      },
      "outputs": [],
      "source": [
        "v_r = np.reshape(yttm, (yttm.shape[0], yttm.shape[1]))"
      ]
    },
    {
      "cell_type": "code",
      "execution_count": null,
      "metadata": {
        "id": "ZC53vz1sLh9-"
      },
      "outputs": [],
      "source": [
        "v_r.shape, y_pred.shape"
      ]
    },
    {
      "cell_type": "code",
      "execution_count": null,
      "metadata": {
        "id": "bfwdGmxtLBj6"
      },
      "outputs": [],
      "source": [
        "from sklearn.metrics import accuracy_score\n",
        "accuracy_score(v_r, y_pred)"
      ]
    },
    {
      "cell_type": "code",
      "execution_count": null,
      "metadata": {
        "id": "bakA8SufLufe"
      },
      "outputs": [],
      "source": [
        "from sklearn.metrics import multilabel_confusion_matrix\n",
        "multilabel_confusion_matrix(v_r, y_pred)"
      ]
    },
    {
      "cell_type": "code",
      "execution_count": null,
      "metadata": {
        "id": "4w9wEuHkLzh0"
      },
      "outputs": [],
      "source": [
        "from sklearn.metrics import classification_report\n",
        "\n",
        "label_names = [f'label {i+1}' for i in range(y_pred.shape[-1]) ]\n",
        "\n",
        "report_str = classification_report(v_r, y_pred,target_names=label_names)\n",
        "print(report_str)\n",
        "\n",
        "with open(\"classification_report_GRU_1.txt\", \"w\") as report_file:\n",
        "    report_file.write(report_str)"
      ]
    },
    {
      "cell_type": "code",
      "execution_count": null,
      "metadata": {
        "id": "0e656MHG2dwi"
      },
      "outputs": [],
      "source": [
        "print('no yes')"
      ]
    },
    {
      "cell_type": "code",
      "execution_count": null,
      "metadata": {
        "id": "yRH4l-muhtJj"
      },
      "outputs": [],
      "source": [
        "pred = model.predict(xatt)"
      ]
    },
    {
      "cell_type": "code",
      "execution_count": null,
      "metadata": {
        "id": "heyB07XMrjLq"
      },
      "outputs": [],
      "source": [
        "y_pred=[]\n",
        "for sample in  pred:\n",
        "  y_pred.append([1 if i>=0.5 else 0 for i in sample ] )\n",
        "y_pred = np.array(y_pred)\n",
        "y_pred"
      ]
    },
    {
      "cell_type": "code",
      "execution_count": null,
      "metadata": {
        "id": "im6nZVfirjOW"
      },
      "outputs": [],
      "source": [
        "v_r = np.reshape(yatt, (yatt.shape[0], yatt.shape[1]))"
      ]
    },
    {
      "cell_type": "code",
      "execution_count": null,
      "metadata": {
        "id": "9yUNHVDRrjRe"
      },
      "outputs": [],
      "source": [
        "v_r.shape, y_pred.shape"
      ]
    },
    {
      "cell_type": "code",
      "execution_count": null,
      "metadata": {
        "id": "2u6pvjS2rjVx"
      },
      "outputs": [],
      "source": [
        "from sklearn.metrics import accuracy_score\n",
        "accuracy_score(v_r, y_pred)"
      ]
    },
    {
      "cell_type": "code",
      "execution_count": null,
      "metadata": {
        "id": "ePxUKXalrjYe"
      },
      "outputs": [],
      "source": [
        "from sklearn.metrics import multilabel_confusion_matrix\n",
        "multilabel_confusion_matrix(v_r, y_pred)"
      ]
    },
    {
      "cell_type": "code",
      "execution_count": null,
      "metadata": {
        "id": "77RTy2KBrjbW"
      },
      "outputs": [],
      "source": [
        "from sklearn.metrics import classification_report\n",
        "\n",
        "label_names = [f'label {i+1}' for i in range(y_pred.shape[-1]) ]\n",
        "report_str = classification_report(v_r, y_pred,target_names=label_names)\n",
        "print(report_str)\n",
        "\n",
        "with open(\"classification_report_GRU_2.txt\", \"w\") as report_file:\n",
        "    report_file.write(report_str)"
      ]
    },
    {
      "cell_type": "code",
      "execution_count": null,
      "metadata": {
        "id": "KT9e9gEUz_8n"
      },
      "outputs": [],
      "source": [
        "print('yes')"
      ]
    },
    {
      "cell_type": "markdown",
      "metadata": {
        "id": "2EtHSTiBhtp5"
      },
      "source": [
        "## Saving the model\n"
      ]
    },
    {
      "cell_type": "code",
      "execution_count": null,
      "metadata": {
        "id": "kfFsj0ISs2Ij"
      },
      "outputs": [],
      "source": [
        "tf.saved_model.save(model, 'gru')"
      ]
    },
    {
      "cell_type": "code",
      "execution_count": null,
      "metadata": {
        "id": "bxgScCFgsvs-"
      },
      "outputs": [],
      "source": [
        "loaded_model = tf.saved_model.load('gru')"
      ]
    },
    {
      "cell_type": "code",
      "execution_count": null,
      "metadata": {
        "id": "ZHWcEuitsx52"
      },
      "outputs": [],
      "source": [
        "loaded_model"
      ]
    },
    {
      "cell_type": "code",
      "execution_count": null,
      "metadata": {
        "id": "wO2ixFkEumx_"
      },
      "outputs": [],
      "source": [
        "inference_func = loaded_model.signatures[\"serving_default\"]"
      ]
    },
    {
      "cell_type": "code",
      "execution_count": null,
      "metadata": {
        "id": "XGPKGMGFvxLV"
      },
      "outputs": [],
      "source": [
        "import shutil\n",
        "import os\n",
        "\n",
        "folder_to_download = 'gru'\n",
        "\n",
        "shutil.make_archive(folder_to_download, 'zip', folder_to_download)"
      ]
    },
    {
      "cell_type": "code",
      "execution_count": null,
      "metadata": {
        "id": "-k0Zr_u_w5YJ"
      },
      "outputs": [],
      "source": []
    }
  ],
  "metadata": {
    "colab": {
      "machine_shape": "hm",
      "provenance": []
    },
    "kernelspec": {
      "display_name": "Python 3",
      "name": "python3"
    },
    "language_info": {
      "codemirror_mode": {
        "name": "ipython",
        "version": 3
      },
      "file_extension": ".py",
      "mimetype": "text/x-python",
      "name": "python",
      "nbconvert_exporter": "python",
      "pygments_lexer": "ipython3",
      "version": "3.10.12"
    }
  },
  "nbformat": 4,
  "nbformat_minor": 0
}